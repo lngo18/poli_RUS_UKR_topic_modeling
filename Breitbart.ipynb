{
 "cells": [
  {
   "cell_type": "markdown",
   "id": "f7603c24",
   "metadata": {},
   "source": [
    "# Breitbart articles"
   ]
  },
  {
   "cell_type": "code",
   "execution_count": 1,
   "id": "61417776",
   "metadata": {},
   "outputs": [],
   "source": [
    "# loading in the required packages\n",
    "import pandas as pd\n",
    "import requests as rq\n",
    "from bs4 import BeautifulSoup\n",
    "import regex as re\n",
    "from urllib.parse import urljoin"
   ]
  },
  {
   "cell_type": "markdown",
   "id": "85ce8573",
   "metadata": {},
   "source": [
    "The articles that I'm looking for are those tagged with Ukraine, Russia, and the Ukraine-Russia war. Afterwards, I will filter by date and keywords to get the relevant articles."
   ]
  },
  {
   "cell_type": "markdown",
   "id": "eda4434f",
   "metadata": {},
   "source": [
    "## Example Exploration"
   ]
  },
  {
   "cell_type": "code",
   "execution_count": 2,
   "id": "549f6d37",
   "metadata": {},
   "outputs": [],
   "source": [
    "# getting the html code from the website\n",
    "article = rq.get('https://www.breitbart.com/europe/2023/08/28/poland-and-baltic-states-threaten-to-shut-border-with-russian-ally-belarus/')\n",
    "article_html = article.text\n",
    "# print(rentals_html)\n",
    "\n",
    "# parsing the page using beautifulsoup\n",
    "article_soup = BeautifulSoup(article_html)"
   ]
  },
  {
   "cell_type": "code",
   "execution_count": 3,
   "id": "901514ca",
   "metadata": {},
   "outputs": [
    {
     "data": {
      "text/plain": [
       "<!DOCTYPE html>\n",
       "<html class=\"post-tmpl-default single single-post pid-24829277 tf-single pt-post c-europe\" lang=\"en\" prefix=\"og: http://ogp.me/ns# fb: http://ogp.me/ns/fb# op: http://media.facebook.com/op# article: http://ogp.me/ns/article#\">\n",
       "<head>\n",
       "<meta charset=\"utf-8\"/>\n",
       "<meta content=\"width=device-width,initial-scale=1\" name=\"viewport\"/>\n",
       "<link href=\"https://geolocation.onetrust.com\" rel=\"dns-prefetch\"/>\n",
       "<link as=\"script\" href=\"https://cdn.cookielaw.org/scripttemplates/otSDKStub.js\" rel=\"preload\"/>\n",
       "<link as=\"fetch\" crossorigin=\"\" href=\"https://cdn.cookielaw.org/consent/bea5fecf-7066-4a7e-ad83-51130a031a8a/bea5fecf-7066-4a7e-ad83-51130a031a8a.json\" rel=\"preload\" type=\"application/json\"/>\n",
       "<link as=\"script\" href=\"https://scripts.webcontentassessor.com/scripts/25915dba3f71a41b2d6242657214b496c2beb5fd937e31770246f82c53195453\" rel=\"preload\"/>\n",
       "<link as=\"script\" href=\"https://securepubads.g.doubleclick.net/tag/js/gpt.js\" rel=\"preload\"/>\n",
       "<link as=\"script\" crossorigin=\"\" href=\"https://pagead2.googlesyndication.com/pagead/js/adsbygoogle.js?client=ca-pub-9229289037503472\" rel=\"preload\"/>\n",
       "<script>\n",
       "var BB_Y={ads:!0,dev:!1,D:!1,lock:'69196428982657180319',pbv:'30442981149917852855',t:{pt:['single','singular','post'],category:['europe','national-security','politics'],tag:['baltic-states','belarus','belarus-route','estonia','latvia','lithuania','nato','poland','russia','russia-ukraine-war','ukraine-conflict','ukraine-crisis','ukraine-war'],author:['breitbart-london-news'],kw:['poland','baltic','belarus','russia'],id:['24829277']},g:{dimension1:'breitbart-london-news',dimension2:'europe national-security politics',dimension4:'baltic-states belarus belarus-route estonia latvia lithuania nato poland russia russia-ukraine-war ukraine-conflict ukraine-crisis ukraine-war'}};!function(e,n){function t(e,n){return e.indexOf(n)>-1}e.BB_Y=e.BB_Y||{ads:!0,dev:!1,D:!1,lock:\"16938835\",pbv:\"31\",t:{},g:{}},e.pbjs=e.pbjs||{que:[]},e.googletag=e.googletag||{cmd:[]},e.dataLayer=e.dataLayer||[],e.gtag=function(){e.dataLayer.push(arguments)};var i=!!e.console&&e.console,o=n.documentElement,a=e.location,r=a.pathname,s=a.host,d=a.href,l=e.screen,c=\"className\"in o?String(o.className):\"\",p=c.match(/\\bpid-[0-9]+/g),b=e.navigator,g=Date.now(),u=\"userAgent\"in b?b.userAgent:\"\",m=\"cookie\"in n&&\"string\"==typeof n.cookie?n.cookie:\"\",f={DOT:t(a.hash,\"oneup\"),D:BB_Y.D,lock:String(BB_Y.lock),pbv:String(BB_Y.pbv),doing_popup:0,fired:{},JQF:[],has:function(e){return null!==BB_G.get(e)},get:function(n){try{return function(e){try{return null==e?e:JSON.parse(e)}catch(n){return e}}(e.localStorage.getItem(n))}catch(e){return null}},set:function(n,t){try{return e.localStorage.setItem(n,JSON.stringify(t))}catch(e){return null}},consented:function(n){if(\"bnnConsent\"in e)return bnnConsent.isConsented(n);return ISC_IS.consents.indexOf(\"string\"==typeof n?{necessary:1,performance:2,functional:3,targeting:4,social:5}[n]:n)>-1},hasConsented:function(){return\"bnnConsent\"in e?bnnConsent.hasConsented():m.indexOf(\"OptanonAlertBoxClosed\")>-1},CPRA:function(){return\"bnnConsent\"in e?bnnConsent.isCPRA():\"US\"===e.ISC_IS.geo.country&&\"CA:CO:CT:UT:VA\".indexOf(e.ISC_IS.geo.state)>-1},GDPR:function(){return\"bnnConsent\"in e?bnnConsent.isGDPR():\"AT:BE:BG:CY:CZ:DE:DK:EE:ES:FI:FR:GB:GR:HR:HU:IE:IS:IT:LI:LT:LU:LV:MT:NL:NO:PL:PT:RO:SE:SI:SK\".indexOf(e.ISC_IS.geo.country)>-1},SPEC:function(){return\"bnnConsent\"in e?bnnConsent.isSPEC():BB_G.CPRA()||BB_G.GDPR()},sendGA:function(e){var t={dimension5:ISC_IS.g,metric2:ISC_IS.adblock?1:0},o=BB_G.consented(\"targeting\");if(ISC_IS.error&&(t.page_title=\"Not Found\",t.page_path=\"/error/?page=\"+n.location.pathname+n.location.search+\"&from=\"+n.referrer),(ISC_IS.amp||n.title.indexOf(\"Comments: AMP\")>-1)&&(t.dimension3=\"AMP\"),(ISC_IS.app||ISC_IS.optimize)&&(t.dimension3=\"App\"),BB_G.hasConsented()||o){var a=\"1\";[1,2,3,4,5].forEach((function(e){a+=BB_G.consented(e)?\"1\":\"0\"})),t.consented=1*a}for(var r in BB_Y.g)t[r]=BB_Y.g[r];for(var s in void 0===e?{}:e)t[s]=e[s];BB_G.consented(\"performance\")&&o||gtag(\"set\",{restricted_data_processing:!0,ads_data_redaction:!o,allow_ad_personalization_signals:o});BB_G.D&&i.error(\"BB_G: EXEC sendGA()\",{config:t}),gtag(\"js\",new Date),gtag(\"config\",\"G-5PBM4HC45W\",t)},addScript:function(e,t,i){var a=n.createElement(\"script\");if(void 0!==i&&i&&(a.onload=function(){a.onload=null,setTimeout((function(){a&&a.parentNode&&a.parentNode.removeChild(a)}),500)}),a.src=e,void 0!==t)for(var r in\"async\"in t&&(a.async=t.async),t)\"async\"!==r&&a.setAttribute(r,t[r]);var s=n.getElementsByTagName(\"script\")[0];s&&s.parentNode?s.parentNode.insertBefore(a,s):(n.head||n.body||o).appendChild(a)},loadAfterJquery:function(e){BB_G.JQF.push(e)},onLoad:function(t,a,r,s){a=\"string\"==typeof a?a:\"\",r=\"number\"==typeof r&&r;var d=s?\"onDom\":\"onLoad\",l=function(){return r?setTimeout(t,r):t()},c=function(){l.ran?BB_G.D&&i.warn('LOAD: %s( \"%s\" ) already func.ran',d,a):(l.ran=!0,BB_G.D&&i.warn('LOAD: %s( \"%s\" ) RUN COMPLETED',d,a),s&&n.removeEventListener(\"DOMContentLoaded\",c),e.removeEventListener(\"load\",c),l())};\"complete\"===n.readyState||\"loading\"!==n.readyState&&!o.doScroll?e.setTimeout(c,10):(s&&n.addEventListener(\"DOMContentLoaded\",c),e.addEventListener(\"load\",c))},onDom:function(e,n,t){return BB_G.onLoad(e,n,t,!0)}};e.BB_G=f,function(n){function t(e){BB_G.addScript(e,{async:!0,fetchPriority:\"high\",crossorigin:\"anonymous\",referrerpolicy:\"no-referrer\"})}e.fetch&&e.Promise&&Object.assign&&e.Map&&e.IntersectionObserver&&[].includes&&e.console||([\"fetch\",\"Promise\",\"IntersectionObserver\",\"matchMedia\",\"Object.assign\",\"console\"].forEach((function(t){t in e||n.push(t)})),\"document\"in self&&\"classList\"in o&&\"Element\"in self&&\"classList\"in Element.prototype||n.push(\"Element.prototype.classList\"),n.length>0&&t(\"https://polyfill.io/v3/polyfill.min.js?features=\"+n.join(\",\")+\"&flags=gated\")),\"loading\"in HTMLImageElement.prototype||t(\"https://cdnjs.cloudflare.com/ajax/libs/loading-attribute-polyfill/1.5.4/loading-attribute-polyfill.min.js\")}([]);var B={post_id:p?p[0].replace(/pid-/g,\"\"):\"\",mobile:/Mobile|BB10|Android|Silk|Kindle|Opera (Mini|Mobi)|webOS|iP(hone|od)|BlackBerry/i.test(u),mobileP:/Mobi/i.test(u),mobileW:(l.width<l.height?l.width:l.height)<700,tablet:/tablet|ipad|playbook|silk/i.test(u),react:\"ReactNativeWebView\"in e,app:\"ReactNativeWebView\"in e||/(iPhone|iPod|iPad).*AppleWebKit(?!.*Version)/i.test(u)&&!/ Safari\\//i.test(u)||/Android.*; wv.*AppleWebKit/i.test(u),li:t(m,\"m8s2f7\"),dev:t(a.hash,\"bnnadev=1776\"),usablenet:BB_G.has(\"bnnUsable\"),geo:BB_G.get(\"bnnGEO\")||{country:\"\",state:\"\"},geobn:!1,preview:t(d,\"preview=true\")&&t(d,\"preview_id=\"),single:t(c,\"single\")||t(c,\"pid-\"),home:t(c,\"home\"),home_vertical:t(c,\"hp_vert\"),video:t(r,\"/video/\")||t(r,\"/clips/\"),wire:t(r,\"/news/\")||t(c,\"-wire\"),error:t(c,\"error404\"),optimize:t(c,\"tf-page-app-optimize\"),search:t(r,\"/search/\"),amp:t(r,\"/amp/\"),qazy:!0,ads:BB_Y.ads,www:\"www.breitbart.com\"===s,t:BB_Y.t,adblock:!!BB_G.has(\"bnnAdBlock\")&&BB_G.get(\"bnnAdBlock\"),brave:\"brave\"in b,framed:e!==e.parent||t(c,\"tf-page-app-optimize\"),visible:!(\"visibilityState\"in n)||\"visible\"===n.visibilityState,cookie:\"cookieEnabled\"in b&&!!b.cookieEnabled,observer:\"IntersectionObserver\"in e,g:BB_G.get(\"bnnGRP\")||(g%2==0?\"A\":\"B\"),subbed:BB_G.has(\"bnnSub\"),views:{d:0,m:0,w:0,y:0},consents:BB_G.get(\"bnnConsents\")||[1],p50:g%2==0,p33:g%3==0,p25:g%4==0,p20:g%5==0,p15:g%7==0,p10:g%10==0,p5:g%20==0};B.ads=B.ads&&!B.framed,B.qazy=B.observer&&!B.framed,B.t.group=[B.g],B.t.dev=[B.dev?\"1\":\"0\"],B.mobileP=B.tablet||B.mobileP||B.mobile||B.mobileW,\"matchMedia\"in e&&(B.mobileW=e.matchMedia(\"(max-width:480px) and (orientation:portrait), (max-width:767px)\").matches,B.mobileW&&(B.mobile=B.mobileP=!0)),B.mobileP&&(o.className=\"ismobile \"+o.className),B.usablenet&&(o.className=\"usablenet \"+o.className),n.addEventListener(\"visibilitychange\",(function(){e.ISC_IS.visible=\"visible\"===n.visibilityState})),e.ISC_IS=B,gtag(\"consent\",\"default\",{ad_storage:\"granted\",analytics_storage:\"granted\"}),!BB_G.SPEC()&&BB_G.consented(\"targeting\")||gtag(\"consent\",\"default\",{ad_storage:BB_G.consented(\"targeting\")?\"granted\":\"denied\",analytics_storage:BB_G.consented(\"performance\")?\"granted\":\"denied\",region:[\"US-CA\",\"US-CO\",\"US-CT\",\"US-UT\",\"US-VA\",\"AT\",\"BE\",\"BG\",\"CY\",\"CZ\",\"DE\",\"DK\",\"EE\",\"ES\",\"FI\",\"FR\",\"GB\",\"GR\",\"HR\",\"HU\",\"IE\",\"IS\",\"IT\",\"LI\",\"LT\",\"LU\",\"LV\",\"MT\",\"NL\",\"NO\",\"PL\",\"PT\",\"RO\",\"SE\",\"SI\",\"SK\"]}),function(){function t(){i=function(e){return 0===e.offsetHeight||\"none\"===e.style.display||\"hidden\"===e.style.visibility||!n.querySelector(\"div.admob224\")}(r),(i||5==a++)&&(clearInterval(s),e.ISC_IS.adblock=i,r.parentNode&&r.parentNode.removeChild(r))}var i=!1,a=0,r=function(){var e=n.createElement(\"div\");return e.id=\"rc-widget-b\",e.innerHTML=\"&nbsp;.&nbsp;\",e.setAttribute(\"class\",\"pub_300x250 pub_300x250m pub_728x90 text-ad textAd text_ad text_ads text-ads text-ad-links adsbox adglare-ad-server admob224\"),e.setAttribute(\"style\",\"width: 10px !important; height: 10px !important; font-size: 20px; color: transparent; position: absolute !important; bottom: 0; left: -10000px;\"),(n.body||o).appendChild(e),e}(),s=setInterval(t,51);t()}()}(window,document);\n",
       "</script>\n",
       "<script async=\"\" src=\"https://www.googletagmanager.com/gtag/js?id=G-5PBM4HC45W\"></script>\n",
       "<script data-domain-script=\"bea5fecf-7066-4a7e-ad83-51130a031a8a\" src=\"https://cdn.cookielaw.org/scripttemplates/otSDKStub.js\"></script>\n",
       "<script>\n",
       "!function(t,e,n){function o(t){var n=(\"; \"+(\"cookie\"in e&&\"string\"==typeof e.cookie?e.cookie:\"\")).split(\"; \"+t+\"=\"),o=\"\";return n.length>1&&(o=n.pop().replace(/(%[0-9A-Z]{2})+/g,decodeURIComponent).split(\";\").shift()),String(o)}function r(e){var n=\"string\"==typeof e?h[e]:e;return\"OnetrustActiveGroups\"in t?OnetrustActiveGroups.indexOf(\"C000\"+n)>-1:l().indexOf(n)>-1}function a(){return String(e.cookie).indexOf(\"OptanonAlertBoxClosed\")>-1}function i(){var t=u();return\"\"===t.country||U.indexOf(\":\"+t.country+\":\")>-1}function s(){var t=u();return\"\"===t.country||\"US\"===t.country&&A.indexOf(t.state)>-1}function c(){return s()||i()}function u(){function e(t){return t&&\"object\"==typeof t&&\"country\"in t&&\"\"!==t.country}if(e(G))return G;var o,r,a,i,s=t.location.search.match(/otgeo=([^,]+),([^&#]+)/);if(s&&3===s.length)o={country:s[1].toUpperCase(),state:s[2].toUpperCase()};else if(\"OneTrust\"in t&&\"getGeolocationData\"in t.OneTrust)o=OneTrust.getGeolocationData();else if(r=\"bnnGEO\",a=!0,!e(o=null==(i=BB_G.get(r))?a:i)){var c=N.match(/geolocation=([A-Za-z-_]+);([A-Za-z-_]+)&?/);c&&3===c.length&&(o={country:c[1].toUpperCase(),state:c[2].toUpperCase()})}return e(o)?function(t){return t={country:t.country.toUpperCase(),state:t.state.toUpperCase()},E&&n.warn(\"ONETRUST: EXEC saveGeo()\",t),G=t,ISC_IS.geo=t,BB_G.set(\"bnnGEO\",t),t}(o):{country:\"\",state:\"\"}}function l(){var e=[1,2,3,5];if(s()?e=[1,3]:i()&&(e=[1]),\"OnetrustActiveGroups\"in t)e=t.OnetrustActiveGroups.replace(/[^1-5]/g,\"\").split(\"\").map((function(t){return 1*t}));else{var n=N.match(\"groups=[^&]*\");n&&\"string\"==typeof n[0]&&(e=n[0].match(/([0-9]):1/g).map((function(t){return 1*t.substring(0,1)})))}return e}function d(){var t;E&&n.debug(\"ONETRUST: EXEC updateFallbackClasses BEFORE: %s\",I.className),a()?I.classList.remove(\"bb-con-open\"):I.classList.add(\"bb-con-open\"),l().forEach((function(t){I.classList.add(\"bb-con-\"+t)})),(t=l(),[1,2,3,4,5].filter((function(e){return-1===t.indexOf(e)}))).forEach((function(t){I.classList.remove(\"bb-con-\"+t)}))}function p(e){var o=c()?\"AllowAll\":\"ToggleInfoDisplay\";E&&n.warn(\"ONETRUST OT: EXEC fallbackClickHandler()\",o);var r=0===t.location.pathname.indexOf(\"/t/assets/html/disqus\");\"OneTrust\"in t&&o in t.OneTrust?OneTrust[o]():r=!0,r&&setTimeout((function(){t.location.reload(!0)}),500)}function f(){\"OneTrust\"in t||(E&&n.warn(\"ONETRUST OT: EXEC addNoOneTrust()\"),I.classList.add(\"bb-con-no-ot\"))}function O(){void 0===O.runs&&(O.runs=0),O.runs++>6?E&&n.warn(\"ONETRUST: SKIP ISCJSUpdate() [%d] NEVER FOUND!\",O.runs):(\"number\"==typeof m&&clearTimeout(m),\"ISCJS\"in t&&\"O\"in t.ISCJS&&\"onetrust_updated\"in t.ISCJS.O?(E&&n.warn(\"ONETRUST: EXEC onetrust_updated() [%d]\",O.runs),O.runs=0,ISCJS.O.onetrust_updated()):m=setTimeout(O,500))}function b(){if(!y&&r(\"targeting\")&&r(\"performance\")){y=!0;var e=\"1\";[1,2,3,4,5].forEach((function(t){e+=r(t)?\"1\":\"0\"})),t.gtag(\"set\",{consented:1*e,restricted_data_processing:!1,ads_data_redaction:!1,allow_ad_personalization_signals:!0})}}function T(t){E&&(void 0===T.runs&&(T.runs=0),n.error(\"ONETRUST: EXEC onConsentUpdated() [%d] detail:\",T.runs,t),T.runs++),I.classList.remove(\"bb-con-no-ot\");var e=l();ISC_IS.consents=e,BB_G.set(\"bnnConsents\",e),d(),O()}function C(){v||(v=!0,E&&(n.warn(\"ONETRUST: EXEC OptanonWrapper()\",{GetDomainData:OneTrust.GetDomainData(),getGeolocationData:OneTrust.getGeolocationData()}),OneTrust.testLog()),I.className=\"bb-con-loaded \"+I.className,\"number\"==typeof S&&clearTimeout(S),g&&g.StopIO(),N=o(\"OptanonConsent\"),G=!1,G=u(),OneTrust.OnConsentChanged((function(t){E&&n.error(\"ONETRUST: EXEC OneTrust.OnConsentChanged()  e.detail e\",t.detail),T(t.detail)})),setTimeout(b,50),setTimeout(d,500))}var E=t.location.hash.indexOf(\"onetrust\")>-1||BB_G.D,g=!1,m=null,S=null,v=!1,y=!1,I=e.documentElement,U=\":AT:BE:BG:CY:CZ:DE:DK:EE:ES:FI:FR:GB:GR:HR:HU:IE:IS:IT:LI:LT:LU:LV:MT:NL:NO:PL:PT:RO:SE:SI:SK:\",A=[\"CA\",\"CO\",\"CT\",\"UT\",\"VA\"],R={1:\"necessary\",2:\"performance\",3:\"functional\",4:\"targeting\",5:\"social\"},h={necessary:1,performance:2,functional:3,targeting:4,social:5,C0001:1,C0002:2,C0003:3,C0004:4,C0005:5},N=o(\"OptanonConsent\"),G=!1;E&&n.warn(\"ONETRUST: EXEC loadOneTrust()\"),t.OptanonWrapper=C,t.bnnConsent={isConsented:r,hasConsented:a,isSPEC:c,isGDPR:i,isCPRA:s,getActive:l},t.ga=function(e,o,r,a,i,s){if(\"OneTrust Cookie Consent\"===r&&\"send\"===e&&\"event\"===o){E&&n.error(\"ONETRUST: w.ga onetrust_event\",{action:a,label:i,value:s});var c={action:a};void 0!==s&&(c.value=s),void 0!==i&&(c.description=i),t.gtag(\"event\",\"onetrust_event\",c)}},t.addEventListener(\"OneTrustGroupsUpdated\",(function(t){E&&n.error(\"ONETRUST: EXEC: OneTrustGroupsUpdated()\",t.detail),T(t.detail)})),ISC_IS.app||!ISC_IS.www||r(\"social\")&&r(\"targeting\")||function(){E&&n.error(\"ONETRUST: EXEC startInlineRewriter()\"),g={runs:0,io:null,x:!1,Writer:function(t){var e=\"src\"in t?t.src:\"\",o=5,r=!1;t.getAttribute(\"data-rx\")||t.getAttribute(\"data-google-container-id\")||e.match(/(doubleclick|google|googlesyndication)\\.(net|com)/i)||t.className.indexOf(\"optanon-category-C000\")>-1||[\"text/dbg-curated\",\"application/ld+json\",\"text/dbg-canvas\"].indexOf(\"type\"in t?String(t.type):\"\")>-1||(E&&n.log(\"ONETRUST: startInlineRewriter %O\",t),t.setAttribute(\"data-rx\",1),\"IFRAME\"===t.nodeName.toUpperCase()&&t.setAttribute(\"loading\",\"lazy\"),e&&(e.indexOf(\"//rumble.com\")>-1?(-1===e.indexOf(\"pub=he97b\")&&-1===e.indexOf(\"secret=\")&&t.setAttribute(\"src\",e.replace(/(\\/|\\?.*)$/,e.indexOf(\"/embed/\")>-1?\"?pub=he97b\":\"?mref=he97b&mc=6fpet\")),o=4):e.match(/(youtu\\.be|youtube\\.com)/)?(r=!0,t.setAttribute(\"src\",e.replace(/\\/(youtu\\.be|([^.]+\\.)?youtube\\.com)/g,\"//www.youtube-nocookie.com\"))):e.match(/(jwplatform|jwplayer)\\.com\\/players\\/[^-]+/)&&e.match(/-(W6UZUFLe|o73dHpYz|BmGFWs2F)/)&&(r=!0,t.setAttribute(\"src\",e.replace(/(W6UZUFLe|o73dHpYz|BmGFWs2F)/g,\"5YHnKzra\")))),r||(t.setAttribute(\"data-otc\",o),e&&(t.setAttribute(\"data-src\",t.src),t.removeAttribute(\"src\")),t.classList.add(\"optanon-category-C000\"+o)))},RunIO:function(){g.runs++>100?g.StopIO():g.MakeList()},StopIO:function(){E&&n.warn(\"OTIFRAME OT: StopIO() RUNS: %d\",g.runs),\"number\"==typeof g.io&&(clearInterval(g.io),g.io=null)},MakeList:function(){if(!g.x){g.x=!0;try{e.querySelectorAll(t).forEach(g.Writer)}catch(t){E&&console.error(\"MakeList Error\",t)}g.x=!1}}};var t=ISC_IS.single?\"#MainW article iframe[src], #MainW article script\":\"#ContainerW iframe[src], #ContainerW script\";g.RunIO(),g.io=setInterval(g.RunIO,10)}(),u(),d(),BB_G.onLoad((function(){if(\"OneTrust\"in t||(S=setTimeout(f,1e3)),e.getElementById(\"iscjs-preload\"))E&&n.debug(\"ONETRUST OT: SKIP addFallbacks() - will use onetrust-fallbacks instead\");else{E&&n.warn(\"ONETRUST OT: EXEC addFallbacks()\");var o=c();e.querySelectorAll(\".bb-con-need-1, .bb-con-need-2, .bb-con-need-3, .bb-con-need-4, .bb-con-need-5\").forEach((function(t){t.setAttribute(\"title\",\"Click to Accept\");var e,n,r=t.querySelector(\"figure\");if(r){r.addEventListener(\"click\",p);var a=t.querySelector(\"button\");a&&(a.innerText=o?\"Accept Cookies\":\"Enable \"+(e=1*t.className.match(/bb-con-need-([0-9]+)/)[1],(n=R[e]).substring(0,1).toUpperCase()+n.substring(1)+\" Cookies\"),a.setAttribute(\"title\",\"Click to Enable\"))}}))}}),\"addFallbacks\")}(window,document,console);\n",
       "BB_G.sendGA();</script>\n",
       "<script src=\"https://scripts.webcontentassessor.com/scripts/25915dba3f71a41b2d6242657214b496c2beb5fd937e31770246f82c53195453\"></script>\n",
       "<script async=\"\" src=\"https://securepubads.g.doubleclick.net/tag/js/gpt.js\"></script>\n",
       "<script async=\"\" crossorigin=\"anonymous\" src=\"https://pagead2.googlesyndication.com/pagead/js/adsbygoogle.js?client=ca-pub-9229289037503472\"></script>\n",
       "<script>!function(e,n,s){function d(){function s(){void 0===s.runs&&(n.body.classList.add(\"bbvert-debug\"),s.runs=0),s.runs++>15||(setTimeout(s,1e3),\"$\"in e&&\"function\"==typeof e.$&&$(\".a8d, #gmx-rev-top, #gmx-rev-sidebar, #gmx-rev-below, #rail5matched, .google-auto-placed, .IL_BASE\").each((function(){var e=$(this),n=e.find(\"*:first-of-type\");n.length&&e.attr(\"dsizes\",Math.floor(n.width())+\"x\"+Math.floor(n.height())),e.attr(\"csizes\",Math.floor(e.width())+\"x\"+Math.floor(e.height()))})))}function d(){var e=n.createElement(\"div\");e.id=\"bnn-a-s\",e.class=\"bnn-a-s\",e.innerHTML='<style>#bnn-a-s{font:12px/18px sans-serif;padding:1vw;width:640px;max-width:98vw;margin:5px auto;}.bnn-a-s,.bnn-a-s-row{display:inline-table;width:100%;border-top: 1px solid transparent; border-bottom: 1px solid transparent;padding:0 4px}.bnn-a-s-container{min-height:400px;overflow:scroll;width:100%}.bnn-a-s-row:nth-child(2n){border-top: 1px solid #000; border-bottom: 1px solid #555;background-color:#b0c4de}.bnn-a-s-cell{float:left;min-width:15%}.bnn-a-s-detail{margin: 0; padding: 0.25em; font: inherit; display: block; line-height: inherit; background: #ffffffbd;}.event{width:65%}</style><div class=\"bnn-a-s-row\"><div class=\"bnn-a-s-cell\"><b>Slot</b></div><div class=\"bnn-a-s-cell event\"><b>Event</b></div><div class=\"bnn-a-s-cell\"><b>Time from ad request</b></div></div><div class=\"bnn-a-s-container\"></div>',n.body.appendChild(e),i.forEach((function(e){!function(e,s,d){var t=n.getElementsByClassName(\"bnn-a-s-row\")[0].cloneNode(!0),i=t.getElementsByClassName(\"bnn-a-s-cell\");i[0].textContent=s,i[1].textContent=e;var a=n.createElement(\"pre\"),o=[];if(a.className=\"bnn-a-s-detail\",d){for(var r in d)Object.prototype.hasOwnProperty.call(d,r)&&d[r]&&o.push(r+\": \"+d[r]);a.textContent=o.join(\"\\n\"),i[1].appendChild(a)}i[2].textContent=Date.now()-I[s]+\"ms\",n.getElementsByClassName(\"bnn-a-s-container\")[0].appendChild(t)}(e.n,e.i)}))}var t={impressionViewable:\"impressionViewable: Impression has become viewable\",slotOnload:\"slotOnload: Creative iframe load event has fired.\",slotRenderEnded:\"slotRenderEnded: Slot has finished rendering.\",slotRequested:\"slotRequested: Slot has been requested.\",slotResponseReceived:\"slotResponseReceived: Ad response has been received.\"},i=[];Object.keys(t).forEach((function(e,n){f.pubads().addEventListener(e,function(e,n){return function(n){var s=n.slot.getSlotElementId();\"slotRequested\"===e&&(I[s]=Date.now()),i.push({n:t[e],i:s})}}(e))})),setTimeout((function(){s(),d()}),5e3)}function t(){var e={\"ISC_IS.geo\":JSON.stringify(ISC_IS.geo),\"ISC_IS.geobn\":JSON.stringify(ISC_IS.geobn),\"ISC_IS.ads\":ISC_IS.ads,\"ISC_IS.adblock\":ISC_IS.adblock,CONSENTED_TARGETING:a(),HAS_CONSENTED:BB_G.hasConsented(),IS_GDPR:BB_G.GDPR(),IS_CA:BB_G.CPRA(),IS_SPEC:BB_G.SPEC(),USE_PREBID:h,ADSENSE_ENABLED:y,INFOLINKS_ENABLED:_};s.groupCollapsed(\"ADS: DEBUG CONSTANTS\"),s.table(e),s.groupEnd()}function i(e){s.warn(\"ONEUP: %s\",e,{consented:a(),GEO:JSON.stringify(ISC_IS.geo),hasConsented:BB_G.hasConsented(),isSpec:BB_G.SPEC(),isPrebid:h,isAdsense:y,isAds:ISC_IS.ads,isAdBlock:ISC_IS.adblock})}function a(){return BB_G.consented(\"targeting\")}function o(){return BB_G.SPEC()&&(!a()||!BB_G.hasConsented())}function r(e,d){if(e in A||(A[e]=0),p&&s.warn('ADS: EXEC displayAds( \"%s\" ) - try: %d',e,A[e]),!d||!d.length)return s.error(\"ADS: displayAds() - NO UNITS!\");var t=[],i=[],a=[],o=[],l=0;d.forEach((function(e){var s=e.getSlotElementId();n.getElementById(s)?(i.push(s),t.push(e)):(o.push(s),a.push(e))})),t&&t.length&&(p&&s.warn(\"ADS: displayAds(%s) [%d] DISPLAYING! unitIds: %o\",e,A[e],i),f.pubads().refresh(t,{changeCorrelator:!1})),a&&a.length&&(p&&s.warn(\"ADS: displayAds(%s) [%d] MISS! unitIds: %o\",e,A[e],o),A[e]++<10?(l=10*A[e]+100,p&&s.warn(\"ADS: displayAds(%s) [%d] TRY AGAIN IN %d ms\",e,A[e],l),setTimeout((function(){r(e,a)}),l)):(p&&s.warn(\"ADS: displayAds(%s) [%d] MAX_HIT DESTROYING SLOTS\",e,A[e],o),f.destroySlots(a)))}function l(){p&&s.warn(\"ADS: EXEC displayAllAds() - request and display ads for all groups\"),Object.keys(B).sort().forEach((function(e,n){var d=e in B&&B[e],t=250*n+2;p&&s.warn(\"ADS: displayAllAds() %s IN %d ms\",e,t),0===n?r(e,d):setTimeout((function(){r(e,d)}),t)}))}function S(e,n,d){if(g.initAdserverSet)return s.warn(\"ADS: sendPrebidRequest() ALREADY SENT!\");g.initAdserverSet=!0,p&&s.warn(\"ADS: EXEC sendPrebidRequest()\",{bids:e,timedOut:n,auctionId:d}),f.cmd.push((function(){g.setTargetingForGPTAsync&&g.setTargetingForGPTAsync(),setTimeout(l,10)}))}function b(){p&&s.warn(\"ADS: EXEC loadAdManager()\"),p&&i(\"AdManager\"),f.cmd.push((function(){f.pubads().disableInitialLoad(),p&&d()})),f.cmd.push((function(){var e={limitedAds:o(),restrictDataProcessing:o(),nonPersonalizedAds:!a()};a()||(p&&s.error(\"ONEUP: ADMANAGER PRIVACY:\",e),f.pubads().setPrivacySettings(e)),Object.keys(ISC_IS.t).forEach((function(e){f.pubads().setTargeting(e,ISC_IS.t[e])}))})),f.cmd.push((function(){function e(e,n,d,t,i){p&&s.log('ADS: EXEC setupAdUnit() group: \"%s\", div: \"%s\"',e,t),e in B||(B[e]=[]),B[e].push(function(e,n,s,d){return void 0===d?f.defineSlot(\"/1003622/Breitbart.\"+e,n,s).addService(f.pubads()):f.defineSlot(\"/1003622/Breitbart.\"+e,[n],s).defineSizeMapping(d).addService(f.pubads())}(n,d,t,i)),f.display(t)}f.pubads().disableInitialLoad(),f.pubads().enableSingleRequest(),f.pubads().enableAsyncRendering(),f.pubads().collapseEmptyDivs(!0),f.pubads().setCentering(!0),f.pubads().addEventListener(\"slotRenderEnded\",(function(e){var d=e.slot.getSlotElementId(),t=e.slot.getAdUnitPath(),i=n.getElementById(d),a=e.size?\"Size: \"+e.size.join(\"x\"):\"\",o=e.isEmpty?\"EMPTY!\":\"FOUND!\";p&&s.warn(\"ADS: [4] slotRenderEnded: %s  id:%s  path:%s %s\",o,d,t,a),i?e.isEmpty?!ISC_IS.mobileP&&(d.indexOf(\"-R2\")>-1||d.indexOf(\"-R3\")>-1)?(i.innerHTML=\"\",i.className+=\" gmxpoll\"):p?(i.className+=\" padok NOADH\",i.style.display=\"block\"):i.className=\"H\":(i.style.display=\"block\",i.className+=\" padok\",i.style.marginLeft=\"\",i.style.marginRight=\"\",e.size&&1!==e.size[0]&&(i.style.width=e.size[0]+\"px\",i.style[\"min-height\"]=e.size[1]+15+\"px\",(d.indexOf(\"D-\")>-1&&640===e.size[0]||d.indexOf(\"-R\")>-1&&e.size[0]>300)&&(i.style.paddingLeft=\"1px\",i.style.paddingRight=\"1px\"))):p&&s.warn(\"ADS: ELE NOT FOUND slotRenderEnded: %s  id:%s  path:%s %s\",o,d,t,a)})),function(){p&&s.warn(\"ADS: EXEC setupAllAdUnits()\");var d={Mob_Body:f.sizeMapping().addSize([468,50],[[480,320],[468,375],[468,300],[468,250],[468,225],[336,280],[320,250],[300,250],[320,480],[430,600],[375,600],[336,600],[300,600],[468,100],[468,60],[320,100],[300,175],[300,170],[300,100],[300,75],[300,60],[320,50],[300,50],[240,400],[250,360],[250,250],[250,225],[200,306],[180,150],[200,200],\"fluid\",[234,60],[216,54],[160,90],[125,125],[120,120],[120,90],[120,20]]).addSize([0,0],[[336,280],[320,250],[300,250],[320,100],[300,175],[300,170],[300,100],[300,75],[300,60],[320,50],[300,50],[320,480],[300,600],[240,400],[250,360],[250,250],[250,225],[200,306],[180,150],[234,60],[200,200],\"fluid\",[216,54],[160,90],[125,125],[120,120],[120,90],[120,20]]).build(),Mob_Header:f.sizeMapping().addSize([970,100],[[980,120],[970,250],[930,180],[970,90],[970,66],[750,300],[728,300],[728,90],[468,250],[475,245],[336,280],[300,250],[300,170],[320,100],[300,100],[468,60],[320,50],[300,60],[300,50],[216,54],[234,60]]).addSize([728,100],[[750,300],[728,300],[728,90],[468,250],[475,245],[336,280],[300,250],[300,170],[320,100],[300,100],[468,60],[320,50],[300,60],[300,50],[216,54],[234,60]]).addSize([468,100],[[468,250],[475,245],[336,280],[300,250],[300,170],[320,100],[300,100],[468,60],[320,50],[300,60],[300,50],[216,54],[234,60]]).addSize([0,0],[[336,280],[300,250],[300,170],[320,100],[300,100],[320,50],[300,60],[300,50],[216,54],[234,60]]).build(),Desk_Body:[[640,480],[640,320],[480,320],[475,245],[468,60],[468,375],[468,300],[468,250],[468,225],[468,100],[400,300],[540,480],[595,274],[320,480],[320,250],[336,280],[336,250],[300,250],[430,600],[300,175],[300,170],[300,100],[240,400],[250,360],[250,250],[250,225],[200,306],[200,200],\"fluid\",[320,100],[300,75],[320,50],[300,60],[300,50],[180,150],[216,54],[234,60],[125,125],[120,120],[160,90],[120,90],[120,20]],Desk_Slim_Body:[[468,60],[468,375],[468,300],[468,250],[468,225],[468,100],[400,300],[320,480],[320,250],[336,280],[336,250],[300,250],[430,600],[300,175],[300,170],[300,100],[240,400],[250,360],[250,250],[250,225],[200,306],[200,200],\"fluid\",[320,100],[300,75],[320,50],[300,60],[300,50],[180,150],[216,54],[234,60],[125,125],[120,120],[160,90],[120,90],[120,20]],Desk_Rail:[[300,1050],[300,600],[300,250],[240,400],\"fluid\",[300,175],[300,170],[300,100],[300,75],[300,60],[300,50],[250,360],[250,250],[250,225],[234,60],[216,54],[200,306],[200,200],[180,150],[160,90],[125,125],[120,120],[120,90],[120,20]],Desk_Leader:f.sizeMapping().addSize([970,50],[[970,250],[970,180],[980,120],[930,180],[970,90],[960,90],[970,66],[935,24],[750,300],[728,300],[750,200],[728,200],[750,100],[768,90],[728,90],[640,320],[595,274],[480,320],[468,300],[468,250],[475,245],[468,225],[400,300],[468,100],[468,60],[336,280],[336,250],[300,170],[320,100],[300,100],[320,50],[300,60],[300,50],[216,54],[234,60]]).addSize([728,50],[[750,300],[728,300],[750,200],[728,200],[750,100],[768,90],[728,90],[640,320],[595,274],[480,320],[468,300],[468,250],[475,245],[468,225],[400,300],[468,100],[468,60],[336,280],[336,250],[300,170],[320,100],[300,100],[320,50],[300,60],[300,50],[216,54],[234,60]]).addSize([0,0],[[480,320],[468,300],[468,250],[475,245],[468,225],[400,300],[468,100],[468,60],[336,280],[336,250],[300,170],[320,100],[300,100],[320,50],[300,60],[300,50],[216,54],[234,60]]).build()};n.documentElement.className.indexOf(\"tf-archive-wire\")>-1&&(d.Desk_Body=d.Desk_Slim_Body),ISC_IS.mobile?(e(\"G1\",\"Mob.\"+E+\".Header\",[320,100],E+\"-Header\",d.Mob_Header),e(\"G1\",\"Mob.\"+E+\".Body1\",[300,250],\"M-\"+E+\"-B1\",d.Mob_Body),e(\"G1\",\"Mob.\"+E+\".Body2\",[300,250],\"M-\"+E+\"-B2\",d.Mob_Body),e(\"G2\",\"Mob.\"+E+\".Body3\",[300,250],\"M-\"+E+\"-B3\",d.Mob_Body),e(\"G2\",\"Mob.\"+E+\".Body4\",[300,250],\"M-\"+E+\"-B4\",d.Mob_Body),ISC_IS.home_vertical&&(e(\"G3\",\"Mob.\"+E+\".Body5\",[300,250],\"M-\"+E+\"-B5\",d.Mob_Body),e(\"G3\",\"Mob.\"+E+\".Body6\",[300,250],\"M-\"+E+\"-B6\",d.Mob_Body))):(e(\"G1\",E+\".Top.Leader\",[728,90],E+\"-Leader\",d.Desk_Leader),e(\"G1\",E+\".Body1\",d.Desk_Body,\"D-\"+E+\"-B1\"),e(\"G1\",E+\".Body2\",d.Desk_Body,\"D-\"+E+\"-B2\"),ISC_IS.home_vertical&&(e(\"G2\",E+\".Body3\",d.Desk_Body,\"D-\"+E+\"-B3\"),e(\"G2\",E+\".Body4\",d.Desk_Body,\"D-\"+E+\"-B4\")),e(\"G2\",E+\".Rail1\",d.Desk_Rail,E+\"-R1\"),e(\"G2\",E+\".Rail2\",d.Desk_Rail,E+\"-R2\"),e(\"G3\",E+\".Rail3\",d.Desk_Rail,E+\"-R3\"),e(\"G3\",E+\".Rail4\",d.Desk_Rail,E+\"-R4\")),_&&e(\"G3\",\"Infolinks\",[1,1],\"F-1x1\")}(),f.enableServices(),h||f.cmd.push(setTimeout(l,10))})),h&&(g.que.push((function(){\"BNN_PREBID_UNITS\"in e&&BNN_PREBID_UNITS.length>0?(p&&s.warn(\"ADS: EXEC pbjs.addAdUnits()\",BNN_PREBID_UNITS),g.addAdUnits(BNN_PREBID_UNITS),g.requestBids({bidsBackHandler:S,timeout:1e3})):(s.warn(\"ADS: NO BNN_PREBID_UNITS IN WINDOW!\"),S())})),setTimeout(S,6e3))}function c(){p&&s.warn(\"ADS: EXEC startAdSense()\"),p&&i(\"AdSense\"),a()||(p&&s.error(\"ONEUP: ADSENSE USE NPA\"),(adsbygoogle=e.adsbygoogle||[]).requestNonPersonalizedAds=1),(adsbygoogle=e.adsbygoogle||[]).pauseAdRequests=0}e.pbjs=e.pbjs||{que:[]},e.googletag=e.googletag||{cmd:[]};var u=e.location.hash.indexOf(\"bbprebid\")>-1,p=e.location.hash.indexOf(\"bbaddebug\")>-1,g=e.pbjs,f=e.googletag,E=ISC_IS.home?\"HP\":\"ROS\",B={},A={},I={},h=(u||ISC_IS.p5)&&a(),y=!(\"A.adsense\"in BB_G.fired),_=!(\"A.1x1\"in BB_G.fired)&&a();p&&(t(),setTimeout(t,5e3)),p&&s.warn(\"ADS: EXEC initAdManager()\"),ISC_IS.ads?(h&&BB_G.addScript(\"/t/assets/js/included/prebid-\"+String(BB_G.pbv).replace(/[^0-9]/g,\"\")+\".js\",{async:!0,fetchPriority:\"high\"}),BB_G.onDom(b,\"loadAdManager\")):p&&s.error(\"ONEUP: SKIP ADMANAGER! !ISC_IS.ads\"),(adsbygoogle=e.adsbygoogle||[]).pauseAdRequests=1,p&&s.warn(\"ADS: EXEC initAdSense()\"),y&&ISC_IS.ads?(p&&((adsbygoogle=e.adsbygoogle||[]).onload=function(){s.warn(\"ADS: initAdSense.onload()!\")}),BB_G.onDom(c,\"startAdSense\")):p&&s.error(\"ONEUP: SKIP ADSENSE!\")}(window,document,console);</script>\n",
       "<meta content=\"app-id=722987199\" name=\"apple-itunes-app\"/>\n",
       "<meta content=\"app-id=com.breitbart.app\" name=\"google-play-app\"/>\n",
       "<meta content=\"#FF5500\" name=\"theme-color\"/>\n",
       "<meta content=\"e5213d6c4a07fe85baa34006f2a9a3c977bd8f3a50fd0ab6d2aa93844e0b3303\" name=\"ahrefs-site-verification\"/>\n",
       "<meta content=\"95475020353\" property=\"fb:pages\"/>\n",
       "<link crossorigin=\"\" href=\"https://fonts.gstatic.com\" rel=\"dns-prefetch preconnect\"/>\n",
       "<link as=\"style\" href=\"https://fonts.googleapis.com/css2?family=Bebas+Neue&amp;family=Fjalla+One&amp;family=Open+Sans:wght@400;500;600;700&amp;display=swap\" rel=\"preload\"/>\n",
       "<link as=\"style\" href=\"/t/style-69196428982657180319.css\" rel=\"preload\"/>\n",
       "<link as=\"script\" href=\"https://ajax.googleapis.com/ajax/libs/jquery/3.6.0/jquery.min.js\" rel=\"preload\"/>\n",
       "<link as=\"script\" href=\"/t/style-69196428982657180319.js\" id=\"iscjs-preload\" rel=\"preload\"/>\n",
       "<link href=\"https://www.breitbart.com\" rel=\"home\"/>\n",
       "<link href=\"/opensearch.xml\" rel=\"search\" type=\"application/opensearchdescription+xml\"/>\n",
       "<link href=\"https://feeds.feedburner.com/breitbart\" rel=\"alternate\" title=\"Breitbart News Feed\" type=\"application/rss+xml\"/>\n",
       "<link color=\"#ff5500\" href=\"/favicon.svg\" rel=\"mask-icon\"/>\n",
       "<link href=\"/apple-touch-icon.png\" rel=\"apple-touch-icon\"/>\n",
       "<link href=\"/favicon.png\" rel=\"icon\" sizes=\"192x192\"/>\n",
       "<link href=\"/manifest.json\" rel=\"manifest\"/>\n",
       "<link href=\"https://fonts.googleapis.com/css2?family=Bebas+Neue&amp;family=Fjalla+One&amp;family=Open+Sans:wght@400;500;600;700&amp;display=swap\" rel=\"stylesheet\"/>\n",
       "<link href=\"/t/style-69196428982657180319.css\" rel=\"stylesheet\"/>\n",
       "<link href=\"https://cdnjs.cloudflare.com/ajax/libs/font-awesome/5.11.2/css/all.min.css\" rel=\"stylesheet\"/>\n",
       "<title>Poland, Baltic States Threaten to Shut Border with Russian Ally Belarus</title>\n",
       "<meta content=\"Poland and the Baltic states said they will close their borders with Belarus in the event of a military incidents or a migrant push by Minsk.\" name=\"description\"/>\n",
       "<meta content=\"max-image-preview:large\" name=\"robots\"/>\n",
       "<link href=\"https://www.breitbart.com/europe/2023/08/28/poland-and-baltic-states-threaten-to-shut-border-with-russian-ally-belarus/\" rel=\"canonical\"/>\n",
       "<link href=\"https://plus.google.com/110812411499982071387\" rel=\"publisher\"/>\n",
       "<meta content=\"en_US\" property=\"og:locale\"/>\n",
       "<meta content=\"article\" property=\"og:type\"/>\n",
       "<meta content=\"Poland, Baltic States Threaten to Shut Border with Russian Ally Belarus\" property=\"og:title\"/>\n",
       "<meta content=\"Poland and the Baltic states said they will close their borders with Belarus in the event of a military incidents or a migrant push by Minsk.\" property=\"og:description\"/>\n",
       "<meta content=\"https://www.breitbart.com/europe/2023/08/28/poland-and-baltic-states-threaten-to-shut-border-with-russian-ally-belarus/\" property=\"og:url\"/>\n",
       "<meta content=\"Breitbart\" property=\"og:site_name\"/>\n",
       "<meta content=\"https://www.facebook.com/Breitbart\" property=\"article:publisher\"/>\n",
       "<meta content=\"Baltic States\" property=\"article:tag\"/>\n",
       "<meta content=\"Belarus\" property=\"article:tag\"/>\n",
       "<meta content=\"Belarus Route\" property=\"article:tag\"/>\n",
       "<meta content=\"Estonia\" property=\"article:tag\"/>\n",
       "<meta content=\"Latvia\" property=\"article:tag\"/>\n",
       "<meta content=\"Lithuania\" property=\"article:tag\"/>\n",
       "<meta content=\"NATO\" property=\"article:tag\"/>\n",
       "<meta content=\"Poland\" property=\"article:tag\"/>\n",
       "<meta content=\"Russia\" property=\"article:tag\"/>\n",
       "<meta content=\"Russia-Ukraine war\" property=\"article:tag\"/>\n",
       "<meta content=\"Ukraine Conflict\" property=\"article:tag\"/>\n",
       "<meta content=\"Ukraine crisis\" property=\"article:tag\"/>\n",
       "<meta content=\"Ukraine war\" property=\"article:tag\"/>\n",
       "<meta content=\"London / Europe\" property=\"article:section\"/>\n",
       "<meta content=\"2023-08-28T15:32:45+00:00\" property=\"article:published_time\"/>\n",
       "<meta content=\"1243316582352556\" property=\"fb:app_id\"/>\n",
       "<meta content=\"https://media.breitbart.com/media/2023/08/GettyImages-1244512864-2-640x335.jpg\" property=\"og:image\"/>\n",
       "<meta content=\"https://media.breitbart.com/media/2023/08/GettyImages-1244512864-2-640x335.jpg\" property=\"og:image:secure_url\"/>\n",
       "<meta content=\"640\" property=\"og:image:width\"/>\n",
       "<meta content=\"335\" property=\"og:image:height\"/>\n",
       "<meta content=\"WISZTYNIEC, POLAND - NOVEMBER 05: Soldiers of the Polish army carry barbed wire as they construct a barrier on Poland's- Russian exclave Kaliningrad border on November 05, 2022 in Wisztyniec, Poland. From October 1st, Russia's Federal Air Transport Agency and the chief executive of the Khrabrovo airport in Kaliningrad, Alexander Korytnyi announced the &quot;open sky&quot; mode, allowing foreign airlines to operate flights to/from Kaliningrad using the third, fourth,fifth and seventh freedoms of airspace. Some of the airlines, from the Middle East, have been invited to operate, bringing fears that a new migration route will be open, like what happened last year at Poland's border with Belarus, when thousands of people from the Middle East and Africa stormed the Polish Belarussian border after a similar open sky policy was prepared by Aleksandr Lukashenko. (Photo by Omar Marques/Anadolu Agency via Getty Images)\" property=\"og:image:alt\"/>\n",
       "<meta content=\"summary_large_image\" name=\"twitter:card\"/>\n",
       "<meta content=\"Poland and the Baltic states said they will close their borders with Belarus in the event of a military incidents or a migrant push by Minsk.\" name=\"twitter:description\"/>\n",
       "<meta content=\"Poland, Baltic States Threaten to Shut Border with Russian Ally Belarus\" name=\"twitter:title\"/>\n",
       "<meta content=\"@BreitbartNews\" name=\"twitter:site\"/>\n",
       "<meta content=\"https://media.breitbart.com/media/2023/08/GettyImages-1244512864-2.jpg\" name=\"twitter:image\"/>\n",
       "<meta content=\"@BreitbartNews\" name=\"twitter:creator\"/>\n",
       "<meta content=\"Breitbart London\" name=\"author\"/>\n",
       "<meta content=\"Baltic States,Belarus,Belarus Route,Estonia,Latvia,Lithuania,NATO,Poland,Russia,Russia-Ukraine war,Ukraine Conflict,Ukraine crisis,Ukraine war\" name=\"news_keywords\"/>\n",
       "<meta content=\"2023-08-28T08:32:45Z\" name=\"pubdate\"/>\n",
       "<meta content=\"2023-08-28T08:32:45Z\" name=\"lastmod\"/>\n",
       "<meta content=\"1701974317\" name=\"reqtime\"/>\n",
       "<meta content=\"1701974317\" name=\"time\"/>\n",
       "<meta content=\"Politics,National Security,London / Europe\" property=\"article:categories\"/>\n",
       "<link href=\"https://www.breitbart.com/europe/2023/08/28/poland-and-baltic-states-threaten-to-shut-border-with-russian-ally-belarus/amp/\" rel=\"amphtml\"/> <link href=\"https://media.breitbart.com/media/2023/08/poland-and-baltic-states-threaten-to-shut-border-with-russian-ally-belarus-24829277.mp3\" rel=\"alternate\" type=\"audio/mpeg\"/>\n",
       "<meta content=\"https://media.breitbart.com/media/2023/08/poland-and-baltic-states-threaten-to-shut-border-with-russian-ally-belarus-24829277.mp3\" property=\"og:audio\"/>\n",
       "<script>function bnnSetupObservers(){function e(e){var t=e.getAttribute(\"data-harry\");t&&(e.src=t,e.removeAttribute(\"data-harry\"),e.classList.remove(\"lazy-loop\"))}function t(e){e.querySelectorAll('img[loading=\"lazy\"]').forEach((function(e){e.setAttribute(\"loading\",\"eager\")}));var t=function(){\"function\"==typeof window.fix_grid_block&&fix_grid_block(0,e)};t(),setTimeout(t,1e3),setTimeout(t,5e3),setTimeout(t,9e3)}var r,n;bnnSetupObservers.ra||(bnnSetupObservers.ra=!0,ISC_IS.observer=\"IntersectionObserver\"in window,ISC_IS.observer&&(r=new IntersectionObserver((function(t,r){t.forEach((function(t){t.isIntersecting&&t.target&&(r.unobserve(t.target),e(t.target))}))}),{rootMargin:\"50px 0px 50px 0px\"}),n=new IntersectionObserver((function(e,r){e.forEach((function(e){e.isIntersecting&&(r.unobserve(e.target),t(e.target))}))}),{rootMargin:\"3400px 0px 3000px 0px\",threshold:0})),ISC_IS.home&&document.querySelectorAll(\"#gmxcanvas section.gb\").forEach((function(e){ISC_IS.observer?n.observe(e):t(e)})),ISC_IS.home_vertical&&document.querySelectorAll(\"video.lazy-loop[data-harry]\").forEach((function(t){\"1776\"===t.getAttribute(\"data-end\")?t.setAttribute(\"loop\",\"loop\"):(\"true\"===t.getAttribute(\"data-rumble\")&&(t.currentTime=t.getAttribute(\"data-start\"),t.play()),t.addEventListener(\"timeupdate\",(function(){this.currentTime>this.dataset.end&&(this.currentTime=this.dataset.start,this.play())}),!1)),ISC_IS.observer?r.observe(t):e(t)})))}BB_G.onDom(bnnSetupObservers,\"bnnSetupObservers\");</script>\n",
       "</head>\n",
       "<body class=\"post-tmpl-default single single-post pid-24829277 tf-single pt-post c-europe\">\n",
       "<nav aria-label=\"Accessibility Selector and Skip Link\" class=\"a11y-nav\"><ul><li><a aria-label=\"Enable Accessibility\" class=\"usable-ac-link\" href=\"#\" rel=\"nofollow\" tabindex=\"0\" title=\"Enable Accessibility\">Enable Accessibility</a></li><li><a href=\"#ContainerW\" rel=\"nofollow\" tabindex=\"0\">Skip to Content</a></li></ul></nav>\n",
       "<script async=\"\" referrerpolicy=\"no-referrer\" src=\"https://ajax.googleapis.com/ajax/libs/jquery/3.6.0/jquery.min.js\"></script>\n",
       "<div id=\"HavDW\">\n",
       "<figure class=\"a8d\" id=\"ROS-Leader\"></figure>\n",
       "<figure class=\"a8d\" id=\"ROS-Header\"></figure></div>\n",
       "<div id=\"GlobalW\">\n",
       "<header id=\"HeadW\">\n",
       "<div id=\"HWI\">\n",
       "<div aria-label=\"Menu\" id=\"MT\" role=\"button\" tabindex=\"-1\"></div>\n",
       "<nav aria-label=\"Main Menu\" id=\"HNAV\">\n",
       "<ul id=\"NavT\"><li class=\"c-politics\"><a href=\"https://www.breitbart.com/politics/\">Politics</a></li><li class=\"c-entertainment\"><a href=\"https://www.breitbart.com/entertainment/\">Entertainment</a></li><li class=\"c-the-media\"><a href=\"https://www.breitbart.com/the-media/\">Media</a></li><li class=\"c-economy\"><a href=\"https://www.breitbart.com/economy/\">Economy</a></li><li class=\"dd\"><a>World</a><ul><li class=\"c-europe\"><a href=\"https://www.breitbart.com/europe/\">London / Europe</a></li><li class=\"c-border\"><a href=\"https://www.breitbart.com/border/\">Border / Cartel Chronicles</a></li><li class=\"c-middle-east\"><a href=\"https://www.breitbart.com/middle-east/\">Israel / Middle East</a></li><li class=\"c-africa\"><a href=\"https://www.breitbart.com/africa/\">Africa</a></li><li class=\"c-asia\"><a href=\"https://www.breitbart.com/asia/\">Asia</a></li><li class=\"c-latin-america\"><a href=\"https://www.breitbart.com/latin-america/\">Latin America</a></li><li class=\"p-world-news\"><a href=\"https://www.breitbart.com/world-news/\">All World</a></li></ul></li><li class=\"p-video\"><a href=\"https://www.breitbart.com/video/\">Video</a></li><li class=\"c-tech\"><a href=\"https://www.breitbart.com/tech/\">Tech</a></li><li class=\"c-sports\"><a href=\"https://www.breitbart.com/sports/\">Sports</a></li><li class=\"dd\"><a href=\"https://www.breitbart.com/tag/on-the-hill/\">On the Hill</a><ul><li><a href=\"https://www.breitbart.com/tag/on-the-hill/\">On the Hill Articles</a></li><li class=\"p-on-the-hill-exclusive-video\"><a href=\"https://www.breitbart.com/on-the-hill-exclusive-video/\">On The Hill Exclusive Video</a></li></ul></li><li><a href=\"/news/\">Wires</a></li><li><a href=\"https://www.breitbart.com/tag/b-inspired-news/\">B Inspired</a></li></ul> <a aria-label=\"Breitbart Store\" class=\"store\" href=\"https://store.breitbart.com/\" rel=\"nofollow\" title=\"Breitbart Store\"></a>\n",
       "<a aria-label=\"Breitbart Newsletters\" class=\"newsletters\" href=\"https://www.breitbart.com/newsletters/\" title=\"Breitbart Newsletters\"></a>\n",
       "</nav>\n",
       "<a accesskey=\"1\" class=\"logo\" href=\"https://www.breitbart.com/\" rel=\"index\" title=\"Breitbart News Network\">BREITBART</a>\n",
       "<a aria-label=\"Enable Accessibility\" class=\"usable-ac-link\" href=\"#\" rel=\"nofollow\" tabindex=\"0\" title=\"Enable Accessibility\">Enable Accessibility</a>\n",
       "<div class=\"fdd\">\n",
       "<form action=\"/search/\"><label><input aria-label=\"Search Text\" name=\"s\" placeholder=\"search\" type=\"search\"/></label></form>\n",
       "<ul id=\"NavDD\"><li class=\"c-politics\"><a href=\"https://www.breitbart.com/politics/\">Politics</a></li><li class=\"c-entertainment\"><a href=\"https://www.breitbart.com/entertainment/\">Entertainment</a></li><li class=\"c-the-media\"><a href=\"https://www.breitbart.com/the-media/\">Media</a></li><li class=\"c-economy\"><a href=\"https://www.breitbart.com/economy/\">Economy</a></li><li class=\"dd\"><a>World</a><ul><li class=\"c-europe\"><a href=\"https://www.breitbart.com/europe/\">London / Europe</a></li><li class=\"c-border\"><a href=\"https://www.breitbart.com/border/\">Border / Cartel Chronicles</a></li><li class=\"c-middle-east\"><a href=\"https://www.breitbart.com/middle-east/\">Israel / Middle East</a></li><li class=\"c-africa\"><a href=\"https://www.breitbart.com/africa/\">Africa</a></li><li class=\"c-asia\"><a href=\"https://www.breitbart.com/asia/\">Asia</a></li><li class=\"c-latin-america\"><a href=\"https://www.breitbart.com/latin-america/\">Latin America</a></li><li class=\"p-world-news\"><a href=\"https://www.breitbart.com/world-news/\">World News</a></li></ul></li><li class=\"p-video\"><a href=\"https://www.breitbart.com/video/\">Video</a></li><li class=\"c-tech\"><a href=\"https://www.breitbart.com/tech/\">Tech</a></li><li class=\"c-sports\"><a href=\"https://www.breitbart.com/sports/\">Sports</a></li><li class=\"dd\"><a href=\"https://www.breitbart.com/tag/on-the-hill/\">On the Hill</a><ul><li><a href=\"https://www.breitbart.com/tag/on-the-hill/\">On the Hill Articles</a></li><li class=\"p-on-the-hill-exclusive-video\"><a href=\"https://www.breitbart.com/on-the-hill-exclusive-video/\">On The Hill Exclusive Video</a></li></ul></li><li><a href=\"/news/\">Wires</a></li><li class=\"dd\"><a>Podcasts</a><ul><li class=\"p-podcasts\"><a href=\"https://www.breitbart.com/podcasts/breitbart-news-daily/\">Breitbart News Daily</a></li></ul></li><li><a href=\"https://www.breitbart.com/tag/b-inspired-news/\">B Inspired</a></li><li><a href=\"https://media.breitbart.com/media/2019/11/about-breitbart-news.pdf\">About Us</a></li><li class=\"p-people\"><a href=\"https://www.breitbart.com/people/\" rel=\"nofollow\">People</a></li><li class=\"p-newsletters\"><a href=\"https://www.breitbart.com/newsletters/\">Newsletters</a></li></ul> </div>\n",
       "</div>\n",
       "<div id=\"HWT\">\n",
       "<a class=\"logo\" href=\"/\" title=\"Breitbart News Network\">BREITBART</a>\n",
       "<section aria-label=\"Trending Stories\" id=\"section-trending-bar\">\n",
       "<ul id=\"menu-europe-trending\"><li><a href=\"https://www.breitbart.com/tag/conservative-party/\">Fake Conservatives</a></li><li><a href=\"https://www.breitbart.com/tag/ukraine/\">Ukraine</a></li><li><a href=\"https://www.breitbart.com/tag/english-channel/\">English Channel</a></li><li><a href=\"https://www.breitbart.com/tag/europe-migrant-crisis/\">Europe Migrant Crisis</a></li><li><a href=\"https://www.breitbart.com/tag/united-kingdom/\">UK Politics</a></li><li><a href=\"https://www.breitbart.com/tag/transgender/\">Trans Politics</a></li><li><a href=\"https://www.breitbart.com/tag/european-union/\">Brussels</a></li><li><a href=\"https://www.breitbart.com/tag/nigel-farage/\">Farage</a></li><li><a href=\"https://www.breitbart.com/tag/germany/\">Germany</a></li><li><a href=\"https://www.breitbart.com/tag/france/\">France</a></li></ul></section>\n",
       "<section class=\"H\" data-last_saved=\"2023-12-07T18:38:07\" data-max_stories=\"15\" data-show_percentage=\"p100\" id=\"section-latest-news\"></section>\n",
       "</div>\n",
       "</header>\n",
       "<div id=\"ContentW\">\n",
       "<div id=\"ContainerW\">\n",
       "<section id=\"MainW\">\n",
       "<article class=\"the-article post-24829277 post type-post has-post-thumbnail category-europe category-national-security category-politics\">\n",
       "<header>\n",
       "<h1>Poland and Baltic States Threaten to Shut Border with Russian Ally Belarus</h1>\n",
       "<aside class=\"bnn-social-share\" id=\"social-share-article-top\">\n",
       "<a class=\"button_facebook\" href=\"#\" rel=\"nofollow\" role=\"button\"><em></em><span class=\"acz5\">16</span></a>\n",
       "<a class=\"button_twitter\" href=\"#\" rel=\"nofollow\" role=\"button\"></a>\n",
       "<a class=\"button_email\" href=\"#\" rel=\"nofollow\" role=\"button\"></a>\n",
       "<a class=\"button_truthsocial\" href=\"#\" rel=\"nofollow\" role=\"button\"><span></span></a>\n",
       "</aside>\n",
       "<figure><img alt=\"WISZTYNIEC, POLAND - NOVEMBER 05: Soldiers of the Polish army carry barbed wire as they construct a barrier on Poland's- Russian exclave Kaliningrad border on November 05, 2022 in Wisztyniec, Poland. From October 1st, Russia's Federal Air Transport Agency and the chief executive of the Khrabrovo airport in Kaliningrad, Alexander …\" height=\"480\" src=\"https://media.breitbart.com/media/2023/08/GettyImages-1244512864-2-640x480.jpg\" title=\"WISZTYNIEC, POLAND - NOVEMBER 05: Soldiers of the Polish army carry barbed wire as they construct a barrier on Poland's- Russian exclave Kaliningrad border on November 05, 2022 in Wisztyniec, Poland. From October 1st, Russia's Federal Air Transport Agency and the chief executive of the Khrabrovo airport in Kaliningrad, Alexander Korytnyi announced the &quot;open sky&quot; mode, allowing foreign airlines to operate flights to/from Kaliningrad using the third, fourth,fifth and seventh freedoms of airspace. Some of the airlines, from the Middle East, have been invited to operate, bringing fears that a new migration route will be open, like what happened last year at Poland's border with Belarus, when thousands of people from the Middle East and Africa stormed the Polish Belarussian border after a similar open sky policy was prepared by Aleksandr Lukashenko. (Photo by Omar Marques/Anadolu Agency via Getty Images)\" width=\"640\"/><figcaption><cite><a href=\"https://www.gettyimages.co.uk/detail/news-photo/soldiers-of-the-polish-army-carry-barbed-wire-as-they-news-photo/1244512864\" rel=\"nofollow\">Omar Marques/Anadolu Agency via Getty Images</a></cite></figcaption></figure><div class=\"header_byline\"><address data-n=\"\"><a href=\"/author/breitbart-london-news/\" title=\"Posts by Breitbart London\">Breitbart London</a></address><time datetime=\"2023-08-28T08:32:45Z\">28 Aug 2023</time><span class=\"byC\" data-dsqi=\"24829277\" data-dsqu=\"/europe/2023/08/28/poland-and-baltic-states-threaten-to-shut-border-with-russian-ally-belarus/\"></span></div> <div data-mp3d=\"PT1M56S\" data-mp3l=\"1:56\" data-mp3u=\"https://media.breitbart.com/media/2023/08/poland-and-baltic-states-threaten-to-shut-border-with-russian-ally-belarus-24829277.mp3\" id=\"PollyC\"></div>\n",
       "</header>\n",
       "<div class=\"entry-content\">\n",
       "<p class=\"subheading\">WARSAW, Poland (AP) – NATO members Poland and the Baltic states will seal off their borders with Russia’s ally Belarus in the event of any military incidents or a massive migrant push by Minsk, the interior ministers warned Monday.</p>\n",
       "<p>The ministers said they were seeing growing tensions on NATO’s and the European Union’s borders with Belarus, which has taken in thousands of Russia’s military mercenaries and is pushing Middle East and African migrants into Europe, despite barriers having been put up.</p>\n",
       "<p class=\"a8d-pre\">They warned of swift and concerted reaction in the case of a military incident or large migrant push.</p>\n",
       "<figure class=\"a8d\" id=\"D-ROS-B1\"></figure>\n",
       "<figure class=\"a8d\" id=\"M-ROS-B1\"></figure><figure class=\"H\" id=\"gmxrevmore\"></figure>\n",
       "<p>The ministers of Poland, Lithuania, Latvia and Estonia addressed the media following their talks. In a joint statement they demanded that the government of Belarus President Alexander Lukashenko immediately remove from its territory the Wagner Group mercenaries. They also demanded the removal of migrants from border areas and their return to their home countries.</p>\n",
       "<blockquote class=\"twitter-tweet\" data-dnt=\"true\" data-width=\"550\">\n",
       "<p dir=\"ltr\" lang=\"en\">WWIII Watch: Poland to Deploy 10,000 to Border As Tensions Mount With Belarus <a href=\"https://t.co/Vr59smZo58\">https://t.co/Vr59smZo58</a></p>\n",
       "<p>— Breitbart London (@BreitbartLondon) <a href=\"https://twitter.com/BreitbartLondon/status/1689662891090178049?ref_src=twsrc%5Etfw\">August 10, 2023</a></p></blockquote>\n",
       "<p class=\"a8d-pre\">The four countries, which are also European Union members, support Ukraine in its fight against Russia’s invasion.</p>\n",
       "<figure class=\"a8d\" id=\"D-ROS-B2\"></figure>\n",
       "<figure class=\"a8d\" id=\"M-ROS-B2\"></figure>\n",
       "<p>The sudden death of mercenary leader Yevgeny Prigozhin in a plane crash in Russia last week has raised questions about the future of the Wagner group, which Poland’s Interior Minister Mariusz Kaminski branded as “extremely dangerous” and “demoralized.” He also said the mercenaries pose a threat to the citizens of Belarus and the entire region.</p>\n",
       "<p>Russia’s President Vladimir Putin has ordered the Wagner fighters to sign an oath of allegiance to the Russian state, according to a decree published on the Kremlin’s website late Friday and effective immediately.</p>\n",
       "<p>The ministers held talks about joint ways of reacting to the increasingly difficult situation on their borders with Belarus and Russia.</p>\n",
       "<h5 class=\"western\"><em><span style=\"color: #ff0000;\">Follow Breitbart London on Facebook:</span></em><em> </em><em><a href=\"https://www.facebook.com/BreitbartLondon/\"><span style=\"color: #0000ff;\">Breitbart London</span></a></em></h5>\n",
       "</div>\n",
       "<footer>\n",
       "<ul id=\"rmoreabt\"><li><a href=\"/europe/\">London / Europe</a></li><li><a href=\"/national-security/\">National Security</a></li><li><a href=\"/politics/\">Politics</a></li><li><a href=\"/tag/baltic-states/\" rel=\"tag\">Baltic States</a></li><li><a href=\"/tag/belarus/\" rel=\"tag\">Belarus</a></li><li><a href=\"/tag/belarus-route/\" rel=\"tag\">Belarus Route</a></li><li><a href=\"/tag/estonia/\" rel=\"tag\">Estonia</a></li><li><a href=\"/tag/latvia/\" rel=\"tag\">Latvia</a></li><li><a href=\"/tag/lithuania/\" rel=\"tag\">Lithuania</a></li><li><a href=\"/tag/nato/\" rel=\"tag\">NATO</a></li><li><a href=\"/tag/poland/\" rel=\"tag\">Poland</a></li><li><a href=\"/tag/russia/\" rel=\"tag\">Russia</a></li><li><a href=\"/tag/russia-ukraine-war/\" rel=\"tag\">Russia-Ukraine war</a></li><li><a href=\"/tag/ukraine-conflict/\" rel=\"tag\">Ukraine Conflict</a></li><li><a href=\"/tag/ukraine-crisis/\" rel=\"tag\">Ukraine crisis</a></li><li><a href=\"/tag/ukraine-war/\" rel=\"tag\">Ukraine war</a></li></ul> <aside class=\"bnn-social-share\" id=\"social-share-article-footer\">\n",
       "<a class=\"button_facebook\" href=\"#\" rel=\"nofollow\" role=\"button\"><em></em></a>\n",
       "<a class=\"button_twitter\" href=\"#\" rel=\"nofollow\" role=\"button\"></a>\n",
       "<a class=\"button_email\" href=\"#\" rel=\"nofollow\" role=\"button\"></a>\n",
       "</aside>\n",
       "</footer>\n",
       "</article>\n",
       "<section id=\"comments\">\n",
       "<div id=\"disqus_thread\"></div>\n",
       "<h2>COMMENTS</h2>\n",
       "<p>Please <a href=\"https://www.breitbart.com/contact-us/comment-feedback/\" rel=\"nofollow\">let us know</a> if you're having issues with commenting.</p>\n",
       "<a class=\"d-comments-button\" href=\"https://www.breitbart.com/t/assets/html/disqus-29.html?udca=https%3A%2F%2Fwww.breitbart.com%2Feurope%2F2023%2F08%2F28%2Fpoland-and-baltic-states-threaten-to-shut-border-with-russian-ally-belarus%2F|24829277|Poland%20and%20Baltic%20States%20Threaten%20to%20Shut%20Border%20with%20Russian%20Ally%20Belarus|\" rel=\"nofollow\" target=\"d-comments-24829277\">\n",
       "<div class=\"d-c-head\"><span><span data-dsqi=\"24829277\"></span></span></div>\n",
       "<div class=\"d-c-body\"><i></i><em></em></div>\n",
       "<div class=\"d-c-button-container\">\n",
       "<div class=\"d-c-button-comments\"><span data-dsqi=\"24829277\"></span></div>\n",
       "<div class=\"d-c-button-show-all\"></div>\n",
       "</div>\n",
       "</a>\n",
       "</section>\n",
       "</section><!--MainW-->\n",
       "<aside id=\"SideW\">\n",
       "<figure class=\"a8d\" id=\"ROS-R1\"></figure> <figure class=\"H\" id=\"bnnpolls\"></figure>\n",
       "<section class=\"bnn-social-follow\" id=\"social-follow-sidebar-widget\">\n",
       "<h2><a class=\"logo\" href=\"/\" title=\"Breitbart News Network\"></a>SOCIAL<a class=\"follow_store\" href=\"https://store.breitbart.com/\" rel=\"nofollow\" title=\"Shop the Official Breitbart Store!\"></a></h2>\n",
       "<div>\n",
       "<div class=\"sbi\">\n",
       "<a class=\"follow_facebook\" href=\"https://www.facebook.com/Breitbart\"></a>\n",
       "<a class=\"follow_twitter\" href=\"https://twitter.com/intent/follow?region=follow_link&amp;screen_name=BreitbartNews&amp;tw_p=followbutton\"></a>\n",
       "<a class=\"follow_instagram\" href=\"https://www.instagram.com/wearebreitbart/\"></a>\n",
       "<a class=\"follow_youtube\" href=\"https://www.youtube.com/channel/UCmgnsaQIK1IR808Ebde-ssA\"></a>\n",
       "<a class=\"follow_truthsocial\" href=\"https://truthsocial.com/@breitbartnews\"></a>\n",
       "</div>\n",
       "</div>\n",
       "</section>\n",
       "<figure class=\"H\" id=\"gmx-rev-sidebar\"></figure>\n",
       "<figure class=\"a8d\" id=\"ROS-R2\"></figure><section id=\"DQSW\"><h2>MOST POPULAR</h2><ul><li><a href=\"/clips/2023/12/06/pelosi-our-democracy-our-flag-our-constitution-is-at-stake-if-trump-wins/\" title=\"Pelosi: ‘Our Democracy, Our Flag, Our Constitution’ Is At Stake if Trump Wins\"><img alt=\"Pelosi: Our Democracy, Our Flag, Our Constitution At Stake if Trump Wins\" height=\"150\" loading=\"lazy\" src=\"https://media.breitbart.com/media/2022/12/AP22342749285660-1-200x150.jpg\" title=\"Pelosi: ‘Our Democracy, Our Flag, Our Constitution’ Is At Stake if Trump Wins\" width=\"200\"/><em>Pelosi: Our Democracy, Our Flag, Our Constitution At Stake if Trump Wins</em><span data-dsqi=\"25662268\" data-dsqu=\"/clips/2023/12/06/pelosi-our-democracy-our-flag-our-constitution-is-at-stake-if-trump-wins/\" data-fbc=\"10\"></span></a></li><li><a href=\"/2024-election/2023/12/06/christie-attacks-dictator-trump-he-wants-to-exact-retribution/\" title=\"Christie Attacks ‘Dictator’ Trump: ‘He Wants to Exact Retribution’\"><img alt=\"Christie Attacks 'Dictator' Trump: 'Wants to Exact Retribution'\" height=\"150\" loading=\"lazy\" src=\"https://media.breitbart.com/media/2023/12/Chris-Christie-Attacks-Trump-in-Debate-200x150.jpeg\" title=\"Christie Attacks ‘Dictator’ Trump: ‘He Wants to Exact Retribution’\" width=\"200\"/><em>Christie Attacks 'Dictator' Trump: 'Wants to Exact Retribution'</em><span data-dsqi=\"25662033\" data-dsqu=\"/2024-election/2023/12/06/christie-attacks-dictator-trump-he-wants-to-exact-retribution/\" data-fbc=\"24\"></span></a></li><li><a href=\"/entertainment/2023/12/07/nolte-todays-hollywood-wouldve-blacklisted-and-canceled-norman-lear/\"><img alt=\"Norman Lear\" height=\"150\" loading=\"lazy\" src=\"https://media.breitbart.com/media/2023/12/Norman-Lear-200x150.jpeg\" width=\"200\"/><em>Nolte: Today’s Hollywood Would’ve Blacklisted and Canceled Norman Lear</em><span data-dsqi=\"25665813\" data-dsqu=\"/entertainment/2023/12/07/nolte-todays-hollywood-wouldve-blacklisted-and-canceled-norman-lear/\"></span></a></li><li><a href=\"/2nd-amendment/2023/12/07/biden-pushes-assault-weapons-ban-after-unlv-handgun-attack/\" title=\"Biden Pushes ‘Assault Weapons’ Ban After UNLV Handgun Attack\"><img alt=\"Biden Pushes 'Assault Weapons' Ban After UNLV Handgun Attack\" height=\"150\" loading=\"lazy\" src=\"https://media.breitbart.com/media/2021/04/Joe-Biden-1-200x150.jpg\" title=\"Biden Pushes ‘Assault Weapons’ Ban After UNLV Handgun Attack\" width=\"200\"/><em>Biden Pushes 'Assault Weapons' Ban After UNLV Handgun Attack</em><span data-dsqi=\"25661793\" data-dsqu=\"/2nd-amendment/2023/12/07/biden-pushes-assault-weapons-ban-after-unlv-handgun-attack/\" data-fbc=\"349\"></span></a></li><li><a href=\"/clips/2023/12/06/trump-i-wont-be-a-dictator-if-reelected-other-than-day-one/\" title=\"Trump: I Won’t Be a Dictator if Reelected, ‘Other than Day One’\"><img alt=\"Trump: I Won't Be a Dictator if Reelected, 'Other than Day One'\" height=\"150\" loading=\"lazy\" src=\"https://media.breitbart.com/media/2023/11/GettyImages-1771855589-200x150.jpg\" title=\"Trump: I Won’t Be a Dictator if Reelected, ‘Other than Day One’\" width=\"200\"/><em>Trump: I Won't Be a Dictator if Reelected, 'Other than Day One'</em><span data-dsqi=\"25656218\" data-dsqu=\"/clips/2023/12/06/trump-i-wont-be-a-dictator-if-reelected-other-than-day-one/\" data-fbc=\"340\"></span></a></li><li><a href=\"/2024-election/2023/12/07/cnn-poll-joe-bidens-approval-rating-sinks-to-lowest-of-presidency/\" title=\"CNN Poll: Joe Biden’s Approval Rating Sinks to Lowest of Presidency\"><img alt=\"CNN Poll: Joe Biden's Approval Rating Sinks to Lowest of Presidency\" height=\"150\" loading=\"lazy\" src=\"https://media.breitbart.com/media/2023/09/joe-biden-200x150.jpeg\" title=\"CNN Poll: Joe Biden’s Approval Rating Sinks to Lowest of Presidency\" width=\"200\"/><em>CNN Poll: Joe Biden's Approval Rating Sinks to Lowest of Presidency</em><span data-dsqi=\"25665563\" data-dsqu=\"/2024-election/2023/12/07/cnn-poll-joe-bidens-approval-rating-sinks-to-lowest-of-presidency/\"></span></a></li><li><a href=\"/politics/2023/12/06/nolte-democrat-run-san-francisco-faces-worst-year-ever-of-overdose-deaths/\" title=\"Nolte: Democrat-run San Francisco Faces Worst Year Ever of Overdose Deaths\"><img alt=\"Democrat-run San Francisco Faces Worst Year Ever of Overdose Deaths\" height=\"150\" loading=\"lazy\" src=\"https://media.breitbart.com/media/2023/12/drug-over-san-francisco-200x150.jpg\" title=\"Nolte: Democrat-run San Francisco Faces Worst Year Ever of Overdose Deaths\" width=\"200\"/><em>Democrat-run San Francisco Faces Worst Year Ever of Overdose Deaths</em><span data-dsqi=\"25657288\" data-dsqu=\"/politics/2023/12/06/nolte-democrat-run-san-francisco-faces-worst-year-ever-of-overdose-deaths/\" data-fbc=\"46\"></span></a></li><li><a href=\"/politics/2023/12/05/mike-johnson-house-will-vote-next-week-on-formalizing-joe-biden-impeachment-inquiry/\" title=\"Mike Johnson: House Will Vote Next Week on Formalizing Joe Biden Impeachment Inquiry\"><img alt=\"Johnson: House to Vote Next Week on Formalizing Biden Impeachment Inquiry\" height=\"150\" loading=\"lazy\" src=\"https://media.breitbart.com/media/2023/09/biden-2-200x150.jpg\" title=\"Mike Johnson: House Will Vote Next Week on Formalizing Joe Biden Impeachment Inquiry\" width=\"200\"/><em>Johnson: House to Vote Next Week on Formalizing Biden Impeachment Inquiry</em><span data-dsqi=\"25647803\" data-dsqu=\"/politics/2023/12/05/mike-johnson-house-will-vote-next-week-on-formalizing-joe-biden-impeachment-inquiry/\" data-fbc=\"665\"></span></a></li><li><a href=\"/faith/2023/12/07/white-house-condemns-university-presidents-reluctance-on-antisemitism-unbelievable/\" title=\"White House Condemns University Presidents’ Reluctance on Antisemitism: ‘Unbelievable’\"><img alt=\"White House Condemns University Presidents' Reluctance on Antisemitism\" height=\"150\" loading=\"lazy\" src=\"https://media.breitbart.com/media/2023/12/Karine-Jean-Pierre-Getty-200x150.jpg\" title=\"White House Condemns University Presidents’ Reluctance on Antisemitism: ‘Unbelievable’\" width=\"200\"/><em>White House Condemns University Presidents' Reluctance on Antisemitism</em><span data-dsqi=\"25665598\" data-dsqu=\"/faith/2023/12/07/white-house-condemns-university-presidents-reluctance-on-antisemitism-unbelievable/\"></span></a></li><li><a href=\"/politics/2023/12/07/report-archives-to-divulge-62k-biden-records-investigators-including-alias-emails/\" title=\"Report: Archives to Divulge 62K Biden Records to Investigators, Including Alias Emails \"><img alt=\"Report: Archives to Divulge 62K Biden Records to Investigators\" height=\"150\" loading=\"lazy\" src=\"https://media.breitbart.com/media/2023/11/Joe-Biden-1-640x480-1-200x150.jpeg\" title=\"Report: Archives to Divulge 62K Biden Records to Investigators, Including Alias Emails \" width=\"200\"/><em>Report: Archives to Divulge 62K Biden Records to Investigators</em><span data-dsqi=\"25661008\" data-dsqu=\"/politics/2023/12/07/report-archives-to-divulge-62k-biden-records-investigators-including-alias-emails/\"></span></a></li></ul></section>\n",
       "<figure class=\"a8d\" id=\"ROS-R3\"></figure>\n",
       "<figure class=\"a8d\" id=\"ROS-R4\"></figure> <section class=\"SWW C\" id=\"HPSW\">\n",
       "<h2 class=\"horiz-line-both-sides-text\">FROM THE HOMEPAGE</h2>\n",
       "<ul><li><a href=\"/2024-election/2023/12/07/cnn-poll-joe-bidens-approval-rating-sinks-to-lowest-of-presidency/\"><img alt=\"CNN Poll: Joe Biden’s Approval Rating Sinks to Lowest of Presidency\" height=\"150\" loading=\"lazy\" src=\"https://media.breitbart.com/media/2023/09/joe-biden-200x150.jpeg\" title=\"President Joe Biden's approval rating sunk to its lowest level …\" width=\"200\"/><b>CNN Poll: Joe Biden’s Approval Rating Sinks to Lowest of Presidency</b><span class=\"byC\" data-dsqi=\"25665563\" data-dsqu=\"/2024-election/2023/12/07/cnn-poll-joe-bidens-approval-rating-sinks-to-lowest-of-presidency/\"></span></a></li><li><a href=\"/the-media/2023/12/07/striking-washington-post-journos-beg-public-to-ignore-the-newspaper-and-website/\"><img alt=\"Striking Washington Post Journos Beg Public to Ignore the Newspaper and Website\" height=\"150\" loading=\"lazy\" src=\"https://media.breitbart.com/media/2023/12/washington-post-headquarters-200x150.jpg\" title=\"Journalists at the left-wing Washington Post walked off the job to begin …\" width=\"200\"/><b>Striking Washington Post Journos Beg Public to Ignore the Newspaper and Website</b><span class=\"byC\" data-dsqi=\"25665718\" data-dsqu=\"/the-media/2023/12/07/striking-washington-post-journos-beg-public-to-ignore-the-newspaper-and-website/\"></span></a></li><li><a href=\"/politics/2023/12/07/the-biggest-risk-facing-the-united-states/\"><img alt=\"The Biggest Risk Facing the United States\" height=\"150\" loading=\"lazy\" src=\"https://media.breitbart.com/media/2023/11/btmspc11-200x150.jpg\" title=\"The following article by Dylan Jovine is sponsored content from …\" width=\"200\"/><b>The Biggest Risk Facing the United States</b><span class=\"byC\" data-dsqi=\"25589003\" data-dsqu=\"/politics/2023/12/07/the-biggest-risk-facing-the-united-states/\" data-fbc=\"6\"></span></a></li><li><a href=\"/politics/2023/12/07/report-archives-to-divulge-62k-biden-records-investigators-including-alias-emails/\"><img alt=\"Report: Archives to Divulge 62K Biden Records to Investigators, Including Alias Emails \" height=\"150\" loading=\"lazy\" src=\"https://media.breitbart.com/media/2023/11/Joe-Biden-1-640x480-1-200x150.jpeg\" title=\"The National Archives will reportedly divulge 62,000 requested records to …\" width=\"200\"/><b>Report: Archives to Divulge 62K Biden Records to Investigators, Including Alias Emails </b><span class=\"byC\" data-dsqi=\"25661008\" data-dsqu=\"/politics/2023/12/07/report-archives-to-divulge-62k-biden-records-investigators-including-alias-emails/\"></span></a></li><li><a href=\"/politics/2023/12/07/house-slaps-convicted-jamaal-bowman-wrist-days-expelling-george-santos-court-date/\"><img alt=\"House Slaps Convicted Jamaal Bowman on Wrist Days After Expelling George Santos Before His Court Date\" height=\"150\" loading=\"lazy\" src=\"https://media.breitbart.com/media/2023/12/Jamaal-Bowman-posing-getty-200x150.jpg\" title=\"The House has censured Rep. Jamaal Bowman, 214-191, weeks after …\" width=\"200\"/><b>House Slaps Convicted Jamaal Bowman on Wrist Days After Expelling George Santos Before His Court Date</b><span class=\"byC\" data-dsqi=\"25665793\" data-dsqu=\"/politics/2023/12/07/house-slaps-convicted-jamaal-bowman-wrist-days-expelling-george-santos-court-date/\"></span></a></li><li><a href=\"/2nd-amendment/2023/12/07/unlv-attacker-was-shot-killed-campus-police/\"><img alt=\"UNLV Attacker Was Shot and Killed by Campus Police\" height=\"150\" loading=\"lazy\" src=\"https://media.breitbart.com/media/2023/12/UNLV-shooting-200x150.jpg\" title=\"The 67-year-old suspect who launched an attack on the University …\" width=\"200\"/><b>UNLV Attacker Was Shot and Killed by Campus Police</b><span class=\"byC\" data-dsqi=\"25666288\" data-dsqu=\"/2nd-amendment/2023/12/07/unlv-attacker-was-shot-killed-campus-police/\"></span></a></li><li><a href=\"/entertainment/2023/12/07/nolte-todays-hollywood-wouldve-blacklisted-and-canceled-norman-lear/\"><img alt=\"Nolte: Today’s Hollywood Would’ve Blacklisted and Canceled Norman Lear\" height=\"150\" loading=\"lazy\" src=\"https://media.breitbart.com/media/2023/12/Norman-Lear-200x150.jpeg\" title=\"Watching Hollywood leftists embrace Norman Lear as one of their …\" width=\"200\"/><b>Nolte: Today’s Hollywood Would’ve Blacklisted and Canceled Norman Lear</b><span class=\"byC\" data-dsqi=\"25665813\" data-dsqu=\"/entertainment/2023/12/07/nolte-todays-hollywood-wouldve-blacklisted-and-canceled-norman-lear/\"></span></a></li><li><a href=\"/tech/2023/12/07/elon-musks-spacex-passes-military-starlink-trials-opening-door-to-pentagon-contracts/\"><img alt=\"Elon Musk’s SpaceX Passes Military Starlink Trials Opening Door to Pentagon Contracts\" height=\"150\" loading=\"lazy\" src=\"https://media.breitbart.com/media/2023/09/Elon-Musk-Starlink-200x150.jpg\" title=\"Elon Musk's SpaceX Starlink satellite internet service has successfully completed …\" width=\"200\"/><b>Elon Musk’s SpaceX Passes Military Starlink Trials Opening Door to Pentagon Contracts</b><span class=\"byC\" data-dsqi=\"25666183\" data-dsqu=\"/tech/2023/12/07/elon-musks-spacex-passes-military-starlink-trials-opening-door-to-pentagon-contracts/\"></span></a></li><li><a href=\"/faith/2023/12/07/white-house-condemns-university-presidents-reluctance-on-antisemitism-unbelievable/\"><img alt=\"White House Condemns University Presidents’ Reluctance on Antisemitism: ‘Unbelievable’\" height=\"150\" loading=\"lazy\" src=\"https://media.breitbart.com/media/2023/12/Karine-Jean-Pierre-Getty-200x150.jpg\" title=\"President Joe Biden's administration said Wednesday that it condemned the …\" width=\"200\"/><b>White House Condemns University Presidents’ Reluctance on Antisemitism: ‘Unbelievable’</b><span class=\"byC\" data-dsqi=\"25665598\" data-dsqu=\"/faith/2023/12/07/white-house-condemns-university-presidents-reluctance-on-antisemitism-unbelievable/\"></span></a></li><li><a href=\"/tech/2023/12/07/youre-being-spied-on-apple-confirms-it-provides-governments-with-push-notification-data/\"><img alt=\"You’re Being Spied On: Apple Confirms It Provides Governments with Push Notification Data\" height=\"150\" loading=\"lazy\" src=\"https://media.breitbart.com/media/2019/07/Tim-Cook-CEO-of-Apple-laughing-200x150.jpg\" title=\"Apple has recently admitted to secretly supplying governments around the …\" width=\"200\"/><b>You’re Being Spied On: Apple Confirms It Provides Governments with Push Notification Data</b><span class=\"byC\" data-dsqi=\"25662908\" data-dsqu=\"/tech/2023/12/07/youre-being-spied-on-apple-confirms-it-provides-governments-with-push-notification-data/\" data-fbc=\"1\"></span></a></li><li><a href=\"/tech/2023/12/07/golden-ai-arches-mcdonalds-works-with-google-to-make-hotter-fresher-food-with-artificial-intelligence/\"><img alt=\"McMasters of the Universe: McDonald’s Works with Google to Make ‘Hotter, Fresher Food’ with AI\" height=\"150\" loading=\"lazy\" src=\"https://media.breitbart.com/media/2022/07/mcdonalds-dining-room-burgers-fries-fast-food-file-ap-200x150.jpg\" title=\"McDonald's is set to partner with Google, implementing generative AI …\" width=\"200\"/><b>McMasters of the Universe: McDonald’s Works with Google to Make ‘Hotter, Fresher Food’ with AI</b><span class=\"byC\" data-dsqi=\"25666398\" data-dsqu=\"/tech/2023/12/07/golden-ai-arches-mcdonalds-works-with-google-to-make-hotter-fresher-food-with-artificial-intelligence/\"></span></a></li><li><a href=\"/entertainment/2023/12/07/nolte-women-producers-refuse-film-where-they-cant-kill-their-babies/\"><img alt=\"Nolte: Women Producers Refuse to Film Where They Can’t Kill Their Babies\" height=\"150\" loading=\"lazy\" src=\"https://media.breitbart.com/media/2023/12/Women-Producers-Ava-DuVernay-200x150.jpg\" title=\"Top female Hollywood producers say that if a state won’t …\" width=\"200\"/><b>Nolte: Women Producers Refuse to Film Where They Can’t Kill Their Babies</b><span class=\"byC\" data-dsqi=\"25664568\" data-dsqu=\"/entertainment/2023/12/07/nolte-women-producers-refuse-film-where-they-cant-kill-their-babies/\"></span></a></li></ul> </section>\n",
       "<p>  </p><p> </p><p> </p><figure id=\"F-1x1\"></figure>\n",
       "</aside>\n",
       "<div class=\"clear\"></div>\n",
       "</div><!--#ContainerW-->\n",
       "</div><!--#ContentW-->\n",
       "<footer id=\"FootW\">\n",
       "<div id=\"FWI\">\n",
       "<a class=\"logo\" href=\"/\" title=\"Breitbart News Network\">BREITBART NEWS</a>\n",
       "<ul id=\"NavF\"><li><a href=\"https://www.breitbart.com/masthead/\">Masthead</a></li><li><a href=\"https://media.breitbart.com/media/2019/11/about-breitbart-news.pdf\">About Us</a></li><li><a href=\"https://www.breitbart.com/accessibility-statement/\" rel=\"nofollow\" title=\"Accessibility Statement\">Accessibility Statement</a></li><li><a href=\"https://www.breitbart.com/policy-information/\" rel=\"nofollow\">Policy Info</a></li><li><a href=\"https://www.breitbart.com/terms-of-use/\" rel=\"nofollow\">Terms of Use</a></li><li><a href=\"https://www.breitbart.com/privacy-policy/\" rel=\"nofollow\">Privacy Policy</a></li><li><a href=\"https://www.breitbart.com/mediakit/\" rel=\"nofollow\">Advertise</a></li><li><a href=\"https://www.breitbart.com/contact-us/\" rel=\"nofollow\">Contact Us</a></li><li><a href=\"https://www.breitbart.com/jobs/\" rel=\"nofollow\">Careers</a></li><li><a href=\"https://store.breitbart.com\" rel=\"nofollow\">Store</a></li><li><a href=\"https://www.breitbart.com/app/\">Get the App</a></li><li><a href=\"https://www.breitbart.com/newsletters/\">Newsletters</a></li><li><a href=\"https://www.breitbart.com/send-a-tip/\" rel=\"nofollow\">Send A Tip</a></li><li><a href=\"https://www.breitbart.com/navigational-sitemap/\">Sitemap</a></li></ul> <p class=\"bnn-social-follow\" id=\"social-follow-footer-icons\">\n",
       "<a class=\"follow_facebook\" href=\"https://www.facebook.com/Breitbart\"></a>\n",
       "<a class=\"follow_twitter\" href=\"https://twitter.com/BreitbartNews\"></a>\n",
       "<a class=\"follow_instagram\" href=\"https://www.instagram.com/wearebreitbart/\"></a>\n",
       "<a class=\"follow_youtube\" href=\"https://www.youtube.com/channel/UCmgnsaQIK1IR808Ebde-ssA\"></a>\n",
       "<a class=\"follow_truthsocial\" href=\"https://truthsocial.com/@breitbartnews\"></a>\n",
       "<a class=\"follow_rss\" href=\"https://feeds.feedburner.com/breitbart\" title=\"Feed\"></a>\n",
       "</p>\n",
       "</div>\n",
       "<p><small>Copyright © 2023 Breitbart</small></p>\n",
       "</footer>\n",
       "</div><!--#GlobalW-->\n",
       "<script type=\"application/ld+json\">{\"@context\":[\"https:\\/\\/schema.org\",{\"@base\":\"https:\\/\\/www.breitbart.com\\/europe\\/2023\\/08\\/28\\/poland-and-baltic-states-threaten-to-shut-border-with-russian-ally-belarus\\/\"}],\"@graph\":[{\"@type\":\"NewsMediaOrganization\",\"@id\":\"https:\\/\\/www.breitbart.com\\/#organization\",\"url\":\"https:\\/\\/www.breitbart.com\\/\",\"name\":\"Breitbart\",\"alternateName\":\"Breitbart News\",\"sameAs\":[\"https:\\/\\/www.facebook.com\\/Breitbart\",\"https:\\/\\/www.instagram.com\\/wearebreitbart\\/\",\"https:\\/\\/www.instagram.com\\/b_inspired_news\\/\",\"https:\\/\\/soundcloud.com\\/breitbart\",\"https:\\/\\/truthsocial.com\\/@breitbartnews\",\"https:\\/\\/twitter.com\\/BreitbartNews\",\"https:\\/\\/www.youtube.com\\/channel\\/UCmgnsaQIK1IR808Ebde-ssA\",\"https:\\/\\/rumble.com\\/c\\/Breitbart\"],\"logo\":\"https:\\/\\/www.breitbart.com\\/t\\/assets\\/i\\/BB-logo-highres-1024x1024.png\",\"description\":\"Source of breaking news and analysis, insightful commentary and original reporting, curated and written specifically for the new generation of independent and conservative thinkers.\",\"masthead\":\"https:\\/\\/www.breitbart.com\\/masthead\\/\",\"founder\":{\"@type\":\"Person\",\"name\":\"Andrew Breitbart\",\"familyName\":\"Breitbart\",\"givenName\":\"Andrew\"},\"foundingLocation\":{\"@type\":\"City\",\"name\":\"Los Angeles\"},\"foundingDate\":\"2005-09-01\",\"address\":{\"@type\":\"PostalAddress\",\"addressCountry\":\"USA\"}},{\"@type\":\"WebSite\",\"@id\":\"https:\\/\\/www.breitbart.com\\/#website\",\"url\":\"https:\\/\\/www.breitbart.com\\/\",\"name\":\"Breitbart\",\"alternateName\":\"Breitbart News\",\"publisher\":{\"@id\":\"https:\\/\\/www.breitbart.com\\/#organization\"},\"image\":{\"@type\":\"ImageObject\",\"url\":\"https:\\/\\/media.breitbart.com\\/media\\/2017\\/01\\/amp-logo2.png\",\"contentUrl\":\"https:\\/\\/media.breitbart.com\\/media\\/2017\\/01\\/amp-logo2.png\"}},{\"@type\":\"ImageObject\",\"width\":1440,\"height\":1080,\"url\":\"https:\\/\\/media.breitbart.com\\/media\\/2023\\/08\\/GettyImages-1244512864-2.jpg\",\"contentUrl\":\"https:\\/\\/media.breitbart.com\\/media\\/2023\\/08\\/GettyImages-1244512864-2.jpg\",\"acquireLicensePage\":\"https:\\/\\/www.breitbart.com\\/terms-of-use\\/\",\"creditText\":\"Omar Marques\\/Anadolu Agency via Getty Images https:\\/\\/www.gettyimages.co.uk\\/detail\\/news-photo\\/soldiers-of-the-polish-army-carry-barbed-wire-as-they-news-photo\\/1244512864\",\"name\":\"WISZTYNIEC, POLAND - NOVEMBER 05: Soldiers of the Polish army carry barbed wire as they construct a barrier on Poland's- Russian exclave Kaliningrad border on November 05, 2022 in Wisztyniec, Poland. From October 1st, Russia's Federal Air Transport Agency and the chief executive of the Khrabrovo airport in Kaliningrad, Alexander Korytnyi announced the \\\"open sky\\\" mode, allowing foreign airlines to operate flights to\\/from Kaliningrad using the third, fourth,fifth and seventh freedoms of airspace. Some of the airlines, from the Middle East, have been invited to operate, bringing fears that a new migration route will be open, like what happened last year at Poland's border with Belarus, when thousands of people from the Middle East and Africa stormed the Polish Belarussian border after a similar open sky policy was prepared by Aleksandr Lukashenko. (Photo by Omar Marques\\/Anadolu Agency via Getty Images)\",\"caption\":\"WISZTYNIEC, POLAND - NOVEMBER 05: Soldiers of the Polish army carry barbed wire as they construct a barrier on Poland&#039;s- Russian exclave Kaliningrad border on November 05, 2022 in Wisztyniec, Poland. From October 1st, Russia&#039;s Federal Air Transport Agency and the chief executive of the Khrabrovo airport in Kaliningrad, Alexander Korytnyi announced the &quot;open sky&quot; mode, allowing foreign airlines to operate flights to\\/from Kaliningrad using the third, fourth,fifth and seventh freedoms of airspace. Some of the airlines, from the Middle East, have been invited to operate, bringing fears that a new migration route will be open, like what happened last year at Poland&#039;s border with Belarus, when thousands of people from the Middle East and Africa stormed the Polish Belarussian border after a similar open sky policy was prepared by Aleksandr Lukashenko. (Photo by Omar Marques\\/Anadolu Agency via Getty Images)\",\"description\":\"WISZTYNIEC, POLAND - NOVEMBER 05: Soldiers of the Polish army carry barbed wire as they construct a barrier on Poland&#039;s- Russian exclave Kaliningrad border on November 05, 2022 in Wisztyniec, Poland. From October 1st, Russia&#039;s Federal Air Transport Agency and the chief executive of the Khrabrovo airport in Kaliningrad, Alexander Korytnyi announced the &quot;open sky&quot; mode, allowing foreign airlines to operate flights to\\/from Kaliningrad using the third, fourth,fifth and seventh freedoms of airspace. Some of the airlines, from the Middle East, have been invited to operate, bringing fears that a new migration route will be open, like what happened last year at Poland&#039;s border with Belarus, when thousands of people from the Middle East and Africa stormed the Polish Belarussian border after a similar open sky policy was prepared by Aleksandr Lukashenko. (Photo by Omar Marques\\/Anadolu Agency via Getty Images)\",\"@id\":\"#primaryimage\"},{\"@type\":\"BreadcrumbList\",\"itemListElement\":[{\"@type\":\"ListItem\",\"name\":\"Europe\",\"position\":1,\"item\":\"https:\\/\\/www.breitbart.com\\/europe\\/\"},{\"@type\":\"ListItem\",\"name\":\"2023\\/08\\/28\",\"position\":2,\"item\":\"https:\\/\\/www.breitbart.com\\/europe\\/2023\\/08\\/28\\/\"},{\"@type\":\"ListItem\",\"name\":\"Poland and Baltic States Threaten to Shut Border with Russian Ally Belarus\",\"position\":3}]},{\"@type\":\"Person\",\"url\":\"https:\\/\\/www.breitbart.com\\/author\\/breitbart-london-news\\/\",\"name\":\"Breitbart London\",\"@id\":\"#author\",\"givenName\":\"Breitbart\",\"familyName\":\"London\"},{\"@type\":\"AudioObject\",\"@id\":\"#audio\",\"contentUrl\":\"https:\\/\\/media.breitbart.com\\/media\\/2023\\/08\\/poland-and-baltic-states-threaten-to-shut-border-with-russian-ally-belarus-24829277.mp3\",\"embedUrl\":\"https:\\/\\/www.breitbart.com\\/europe\\/2023\\/08\\/28\\/poland-and-baltic-states-threaten-to-shut-border-with-russian-ally-belarus\\/\",\"name\":\"Audio transcript of: Poland and Baltic States Threaten to Shut Border with Russian Ally Belarus\",\"description\":\"Audio transcript for: Poland and Baltic States Threaten to Shut Border with Russian Ally Belarus\",\"duration\":\"PT1M56S\",\"uploadDate\":\"2023-08-28T08:32:45+00:00\",\"encodingFormat\":\"audio\\/mpeg\",\"copyrightNotice\":\"Copyright 2023 Breitbart\",\"acquireLicensePage\":\"https:\\/\\/www.breitbart.com\\/terms-of-use\\/\"},{\"@type\":\"WebPage\",\"@id\":\"#webpage\",\"url\":\"https:\\/\\/www.breitbart.com\\/europe\\/2023\\/08\\/28\\/poland-and-baltic-states-threaten-to-shut-border-with-russian-ally-belarus\\/#webpage\",\"isPartOf\":{\"@id\":\"https:\\/\\/www.breitbart.com\\/#website\"},\"inLanguage\":\"en-US\",\"name\":\"Poland and Baltic States Threaten to Shut Border with Russian Ally Belarus\",\"datePublished\":\"2023-12-07T18:37:17+00:00\",\"dateModified\":\"2023-12-07T18:37:17+00:00\",\"breadcrumb\":{\"@id\":\"#breadcrumb\"},\"primaryImageOfPage\":{\"@id\":\"#primaryimage\"},\"author\":{\"@id\":\"#author\"}},{\"@type\":\"NewsArticle\",\"@id\":\"#newsarticle\",\"url\":\"https:\\/\\/www.breitbart.com\\/europe\\/2023\\/08\\/28\\/poland-and-baltic-states-threaten-to-shut-border-with-russian-ally-belarus\\/\",\"mainEntityOfPage\":\"https:\\/\\/www.breitbart.com\\/europe\\/2023\\/08\\/28\\/poland-and-baltic-states-threaten-to-shut-border-with-russian-ally-belarus\\/\",\"publisher\":{\"@id\":\"https:\\/\\/www.breitbart.com\\/#organization\"},\"isPartOf\":{\"@id\":\"#webpage\"},\"headline\":\"Poland and Baltic States Threaten to Shut Border with Russian Ally Belarus\",\"alternativeHeadline\":\"Poland, Baltic States Threaten to Shut Border with Belarus\",\"description\":\"Poland and the Baltic states said they will close their borders with Belarus in the event of a military incidents or a migrant push by Minsk.\",\"keywords\":[\"Baltic States\",\"Belarus\",\"Belarus Route\",\"Estonia\",\"Latvia\",\"Lithuania\",\"NATO\",\"Poland\",\"Russia\",\"Russia-Ukraine war\",\"Ukraine Conflict\",\"Ukraine crisis\",\"Ukraine war\"],\"articleSection\":\"Europe\",\"genre\":[\"London \\/ Europe\",\"National Security\",\"Politics\"],\"dateCreated\":\"2023-08-28T08:29:45+00:00\",\"datePublished\":\"2023-08-28T08:32:45+00:00\",\"dateModified\":\"2023-08-28T08:32:45+00:00\",\"wordCount\":294,\"about\":\"Belarus\",\"inLanguage\":\"en-US\",\"speakable\":{\"@type\":\"SpeakableSpecification\",\"@id\":\"#speakable\",\"cssSelector\":[\"article header\",\"article .entry-content\"]},\"author\":{\"@id\":\"#author\"},\"audio\":{\"@id\":\"#audio\"},\"copyrightHolder\":{\"@id\":\"https:\\/\\/www.breitbart.com\\/#organization\"},\"copyrightYear\":\"2023\",\"sourceOrganization\":{\"@id\":\"https:\\/\\/www.breitbart.com\\/#organization\"},\"image\":{\"@id\":\"#primaryimage\"},\"thumbnailUrl\":\"https:\\/\\/media.breitbart.com\\/media\\/2023\\/08\\/GettyImages-1244512864-2-640x335.jpg\",\"dateline\":\"Breitbart London, Breitbart News\"}]}</script>\n",
       "<script>!function n(e,t,r,i,o,c,f){n.C=function(){\"number\"==typeof n.I&&(t.clearInterval(n.I),n.I=null)},n.J=function(n){BB_G.addScript(n,{async:!0,fetchPriority:\"high\",referrerpolicy:\"no-referrer\"})},n.F=function(){return\"$\"in t&&\"function\"==typeof t.$&&\"function\"==typeof t.$.ajax?(n.C(),n.J(\"/t/style-\"+String(f).replace(/[^0-9]/g,\"\")+\".js\")):i>4?(o=[i=0],n.ra||(n.ra=c=10,n.J(\"https://cdn.jsdelivr.net/npm/jquery@3.6.0/dist/jquery.min.js\")),n.C()):void(++o[i]>4&&(n.C(),o[++i]=0,n.I=t.setInterval(n.F,c+=50)))},n.I=t.setInterval(n.F,20)}(BB_G.D,window,document,0,[0],10,BB_G.lock);</script>\n",
       "</body>\n",
       "</html>"
      ]
     },
     "execution_count": 3,
     "metadata": {},
     "output_type": "execute_result"
    }
   ],
   "source": [
    "article_soup"
   ]
  },
  {
   "cell_type": "code",
   "execution_count": 4,
   "id": "b5be04d7",
   "metadata": {
    "scrolled": false
   },
   "outputs": [
    {
     "data": {
      "text/plain": [
       "'Poland, Baltic States Threaten to Shut Border with Russian Ally Belarus'"
      ]
     },
     "execution_count": 4,
     "metadata": {},
     "output_type": "execute_result"
    }
   ],
   "source": [
    "article_soup.title.text"
   ]
  },
  {
   "cell_type": "code",
   "execution_count": 5,
   "id": "2da5f36f",
   "metadata": {},
   "outputs": [
    {
     "data": {
      "text/plain": [
       "'28 Aug 2023'"
      ]
     },
     "execution_count": 5,
     "metadata": {},
     "output_type": "execute_result"
    }
   ],
   "source": [
    "article_soup.time.text"
   ]
  },
  {
   "cell_type": "code",
   "execution_count": 6,
   "id": "c3045920",
   "metadata": {
    "scrolled": true
   },
   "outputs": [
    {
     "data": {
      "text/plain": [
       "'WARSAW, Poland (AP) – NATO members Poland and the Baltic states will seal off their borders with Russia’s ally Belarus in the event of any military incidents or a massive migrant push by Minsk, the interior ministers warned Monday.'"
      ]
     },
     "execution_count": 6,
     "metadata": {},
     "output_type": "execute_result"
    }
   ],
   "source": [
    "article_soup.p.text"
   ]
  },
  {
   "cell_type": "code",
   "execution_count": 7,
   "id": "1251b018",
   "metadata": {},
   "outputs": [
    {
     "data": {
      "text/plain": [
       "['Poland, Baltic States Threaten to Shut Border with Russian Ally Belarus',\n",
       " 'Enable AccessibilitySkip to Content',\n",
       " 'PoliticsEntertainmentMediaEconomyWorldLondon / EuropeBorder / Cartel ChroniclesIsrael / Middle EastAfricaAsiaLatin AmericaAll WorldVideoTechSportsOn the HillOn the Hill ArticlesOn The Hill Exclusive VideoWiresB Inspired',\n",
       " 'BREITBART',\n",
       " 'Enable Accessibility',\n",
       " 'PoliticsEntertainmentMediaEconomyWorldLondon / EuropeBorder / Cartel ChroniclesIsrael / Middle EastAfricaAsiaLatin AmericaWorld NewsVideoTechSportsOn the HillOn the Hill ArticlesOn The Hill Exclusive VideoWiresPodcastsBreitbart News DailyB InspiredAbout UsPeopleNewsletters',\n",
       " 'BREITBART',\n",
       " 'Fake ConservativesUkraineEnglish ChannelEurope Migrant CrisisUK PoliticsTrans PoliticsBrusselsFarageGermanyFrance',\n",
       " 'Poland and Baltic States Threaten to Shut Border with Russian Ally Belarus',\n",
       " '16',\n",
       " 'Omar Marques/Anadolu Agency via Getty ImagesBreitbart London28 Aug 2023',\n",
       " 'WARSAW, Poland (AP) – NATO members Poland and the Baltic states will seal off their borders with Russia’s ally Belarus in the event of any military incidents or a massive migrant push by Minsk, the interior ministers warned Monday.',\n",
       " 'The ministers said they were seeing growing tensions on NATO’s and the European Union’s borders with Belarus, which has taken in thousands of Russia’s military mercenaries and is pushing Middle East and African migrants into Europe, despite barriers having been put up.',\n",
       " 'They warned of swift and concerted reaction in the case of a military incident or large migrant push.',\n",
       " 'The ministers of Poland, Lithuania, Latvia and Estonia addressed the media following their talks. In a joint statement they demanded that the government of Belarus President Alexander Lukashenko immediately remove from its territory the Wagner Group mercenaries. They also demanded the removal of migrants from border areas and their return to their home countries.',\n",
       " 'WWIII Watch: Poland to Deploy 10,000 to Border As Tensions Mount With Belarus https://t.co/Vr59smZo58',\n",
       " '— Breitbart London (@BreitbartLondon) August 10, 2023',\n",
       " 'The four countries, which are also European Union members, support Ukraine in its fight against Russia’s invasion.',\n",
       " 'The sudden death of mercenary leader Yevgeny Prigozhin in a plane crash in Russia last week has raised questions about the future of the Wagner group, which Poland’s Interior Minister Mariusz Kaminski branded as “extremely dangerous” and “demoralized.” He also said the mercenaries pose a threat to the citizens of Belarus and the entire region.',\n",
       " 'Russia’s President Vladimir Putin has ordered the Wagner fighters to sign an oath of allegiance to the Russian state, according to a decree published on the Kremlin’s website late Friday and effective immediately.',\n",
       " 'The ministers held talks about joint ways of reacting to the increasingly difficult situation on their borders with Belarus and Russia.',\n",
       " 'Follow Breitbart London on Facebook: Breitbart London',\n",
       " 'London / EuropeNational SecurityPoliticsBaltic StatesBelarusBelarus RouteEstoniaLatviaLithuaniaNATOPolandRussiaRussia-Ukraine warUkraine ConflictUkraine crisisUkraine war',\n",
       " 'COMMENTS',\n",
       " \"Please let us know if you're having issues with commenting.\",\n",
       " 'SOCIAL',\n",
       " \"MOST POPULARPelosi: Our Democracy, Our Flag, Our Constitution At Stake if Trump WinsChristie Attacks 'Dictator' Trump: 'Wants to Exact Retribution'Nolte: Today’s Hollywood Would’ve Blacklisted and Canceled Norman LearBiden Pushes 'Assault Weapons' Ban After UNLV Handgun AttackTrump: I Won't Be a Dictator if Reelected, 'Other than Day One'CNN Poll: Joe Biden's Approval Rating Sinks to Lowest of PresidencyDemocrat-run San Francisco Faces Worst Year Ever of Overdose DeathsJohnson: House to Vote Next Week on Formalizing Biden Impeachment InquiryWhite House Condemns University Presidents' Reluctance on AntisemitismReport: Archives to Divulge 62K Biden Records to Investigators\",\n",
       " 'FROM THE HOMEPAGE',\n",
       " 'CNN Poll: Joe Biden’s Approval Rating Sinks to Lowest of PresidencyStriking Washington Post Journos Beg Public to Ignore the Newspaper and WebsiteThe Biggest Risk Facing the United StatesReport: Archives to Divulge 62K Biden Records to Investigators, Including Alias Emails House Slaps Convicted Jamaal Bowman on Wrist Days After Expelling George Santos Before His Court DateUNLV Attacker Was Shot and Killed by Campus PoliceNolte: Today’s Hollywood Would’ve Blacklisted and Canceled Norman LearElon Musk’s SpaceX Passes Military Starlink Trials Opening Door to Pentagon ContractsWhite House Condemns University Presidents’ Reluctance on Antisemitism: ‘Unbelievable’You’re Being Spied On: Apple Confirms It Provides Governments with Push Notification DataMcMasters of the Universe: McDonald’s Works with Google to Make ‘Hotter, Fresher Food’ with AINolte: Women Producers Refuse to Film Where They Can’t Kill Their Babies',\n",
       " 'BREITBART NEWS',\n",
       " 'MastheadAbout UsAccessibility StatementPolicy InfoTerms of UsePrivacy PolicyAdvertiseContact UsCareersStoreGet the AppNewslettersSend A TipSitemap',\n",
       " 'Copyright © 2023 Breitbart']"
      ]
     },
     "execution_count": 7,
     "metadata": {},
     "output_type": "execute_result"
    }
   ],
   "source": [
    "# Convert one or more carriage returns to a single new line\n",
    "article_text = re.sub('\\r+', '\\n', article_soup.text)\n",
    "# Convert multiple new line to a single new line\n",
    "article_text = re.sub('\\n+', '\\n', article_text)\n",
    "# Split up string at line breaks\n",
    "article_text = re.split('\\n', article_text)\n",
    "# Remove leading and trailing white spaces\n",
    "article_text = [string.strip() for string in article_text]\n",
    "# Remove list items without word characters or digits, incl. empty strings\n",
    "article_text = [string for string in article_text if re.search('\\w|\\d',string)] #using if statement to sort out strings\n",
    "# Condense multiple spaces to one\n",
    "article_text = [re.sub('\\s+', ' ', string) for string in article_text]\n",
    "\n",
    "article_text"
   ]
  },
  {
   "cell_type": "code",
   "execution_count": 8,
   "id": "88fc0ab8",
   "metadata": {},
   "outputs": [],
   "source": [
    "# get heading\n",
    "h = article_soup.find_all(\"h1\")\n",
    "\n",
    "# get body text\n",
    "# div p"
   ]
  },
  {
   "cell_type": "code",
   "execution_count": 9,
   "id": "7422f7cd",
   "metadata": {},
   "outputs": [],
   "source": [
    "def remove_links(html):\n",
    "    # Define a regular expression pattern to match <a> tags and everything between them\n",
    "    pattern = re.compile(r'<a\\b[^>]*>(.*?)</a>', re.DOTALL)\n",
    "\n",
    "    # Use sub() function to replace matches with an empty string\n",
    "    result = re.sub(pattern, '', html)\n",
    "\n",
    "    return result"
   ]
  },
  {
   "cell_type": "code",
   "execution_count": 10,
   "id": "b686e4f3",
   "metadata": {
    "scrolled": true
   },
   "outputs": [
    {
     "data": {
      "text/plain": [
       "[<p class=\"subheading\">WARSAW, Poland (AP) – NATO members Poland and the Baltic states will seal off their borders with Russia’s ally Belarus in the event of any military incidents or a massive migrant push by Minsk, the interior ministers warned Monday.</p>,\n",
       " <p>The ministers said they were seeing growing tensions on NATO’s and the European Union’s borders with Belarus, which has taken in thousands of Russia’s military mercenaries and is pushing Middle East and African migrants into Europe, despite barriers having been put up.</p>,\n",
       " <p class=\"a8d-pre\">They warned of swift and concerted reaction in the case of a military incident or large migrant push.</p>,\n",
       " <p>The ministers of Poland, Lithuania, Latvia and Estonia addressed the media following their talks. In a joint statement they demanded that the government of Belarus President Alexander Lukashenko immediately remove from its territory the Wagner Group mercenaries. They also demanded the removal of migrants from border areas and their return to their home countries.</p>,\n",
       " <p dir=\"ltr\" lang=\"en\">WWIII Watch: Poland to Deploy 10,000 to Border As Tensions Mount With Belarus <a href=\"https://t.co/Vr59smZo58\">https://t.co/Vr59smZo58</a></p>,\n",
       " <p>— Breitbart London (@BreitbartLondon) <a href=\"https://twitter.com/BreitbartLondon/status/1689662891090178049?ref_src=twsrc%5Etfw\">August 10, 2023</a></p>,\n",
       " <p class=\"a8d-pre\">The four countries, which are also European Union members, support Ukraine in its fight against Russia’s invasion.</p>,\n",
       " <p>The sudden death of mercenary leader Yevgeny Prigozhin in a plane crash in Russia last week has raised questions about the future of the Wagner group, which Poland’s Interior Minister Mariusz Kaminski branded as “extremely dangerous” and “demoralized.” He also said the mercenaries pose a threat to the citizens of Belarus and the entire region.</p>,\n",
       " <p>Russia’s President Vladimir Putin has ordered the Wagner fighters to sign an oath of allegiance to the Russian state, according to a decree published on the Kremlin’s website late Friday and effective immediately.</p>,\n",
       " <p>The ministers held talks about joint ways of reacting to the increasingly difficult situation on their borders with Belarus and Russia.</p>,\n",
       " <p>Please <a href=\"https://www.breitbart.com/contact-us/comment-feedback/\" rel=\"nofollow\">let us know</a> if you're having issues with commenting.</p>,\n",
       " <p>  </p>,\n",
       " <p> </p>,\n",
       " <p> </p>,\n",
       " <p class=\"bnn-social-follow\" id=\"social-follow-footer-icons\">\n",
       " <a class=\"follow_facebook\" href=\"https://www.facebook.com/Breitbart\"></a>\n",
       " <a class=\"follow_twitter\" href=\"https://twitter.com/BreitbartNews\"></a>\n",
       " <a class=\"follow_instagram\" href=\"https://www.instagram.com/wearebreitbart/\"></a>\n",
       " <a class=\"follow_youtube\" href=\"https://www.youtube.com/channel/UCmgnsaQIK1IR808Ebde-ssA\"></a>\n",
       " <a class=\"follow_truthsocial\" href=\"https://truthsocial.com/@breitbartnews\"></a>\n",
       " <a class=\"follow_rss\" href=\"https://feeds.feedburner.com/breitbart\" title=\"Feed\"></a>\n",
       " </p>,\n",
       " <p><small>Copyright © 2023 Breitbart</small></p>]"
      ]
     },
     "execution_count": 10,
     "metadata": {},
     "output_type": "execute_result"
    }
   ],
   "source": [
    "d = article_soup.find_all('p')\n",
    "d"
   ]
  },
  {
   "cell_type": "markdown",
   "id": "c63f0282",
   "metadata": {},
   "source": [
    "I only want to extract the text, what function should I use?\n",
    "Russia-Ukraine tag\n",
    "- find articles starting from when we are looking at, double check when they started to use the tag.\n",
    "Ukraine tag\n",
    "Russia tag"
   ]
  },
  {
   "cell_type": "code",
   "execution_count": 11,
   "id": "b5c5dbe2",
   "metadata": {},
   "outputs": [],
   "source": [
    "def get_article_text(text):\n",
    "    if not text:\n",
    "        return \"No <p> tags found.\"\n",
    "    else:\n",
    "        # Use BeautifulSoup to parse each HTML string in the list\n",
    "        soup_objects = [BeautifulSoup(str(html), 'html.parser') for html in text]\n",
    "\n",
    "        # Extract text from each BeautifulSoup object\n",
    "        article_text = [soup.get_text() for soup in soup_objects]\n",
    "\n",
    "        # Combine the extracted text into a single string\n",
    "        article_text_combined = ' '.join(article_text)\n",
    "\n",
    "        return article_text_combined"
   ]
  },
  {
   "cell_type": "code",
   "execution_count": 12,
   "id": "23b6eac7",
   "metadata": {},
   "outputs": [
    {
     "name": "stdout",
     "output_type": "stream",
     "text": [
      "WARSAW, Poland (AP) – NATO members Poland and the Baltic states will seal off their borders with Russia’s ally Belarus in the event of any military incidents or a massive migrant push by Minsk, the interior ministers warned Monday. The ministers said they were seeing growing tensions on NATO’s and the European Union’s borders with Belarus, which has taken in thousands of Russia’s military mercenaries and is pushing Middle East and African migrants into Europe, despite barriers having been put up. They warned of swift and concerted reaction in the case of a military incident or large migrant push. The ministers of Poland, Lithuania, Latvia and Estonia addressed the media following their talks. In a joint statement they demanded that the government of Belarus President Alexander Lukashenko immediately remove from its territory the Wagner Group mercenaries. They also demanded the removal of migrants from border areas and their return to their home countries. WWIII Watch: Poland to Deploy 10,000 to Border As Tensions Mount With Belarus https://t.co/Vr59smZo58 — Breitbart London (@BreitbartLondon) August 10, 2023 The four countries, which are also European Union members, support Ukraine in its fight against Russia’s invasion. The sudden death of mercenary leader Yevgeny Prigozhin in a plane crash in Russia last week has raised questions about the future of the Wagner group, which Poland’s Interior Minister Mariusz Kaminski branded as “extremely dangerous” and “demoralized.” He also said the mercenaries pose a threat to the citizens of Belarus and the entire region. Russia’s President Vladimir Putin has ordered the Wagner fighters to sign an oath of allegiance to the Russian state, according to a decree published on the Kremlin’s website late Friday and effective immediately. The ministers held talks about joint ways of reacting to the increasingly difficult situation on their borders with Belarus and Russia. Please let us know if you're having issues with commenting.        \n",
      "\n",
      "\n",
      "\n",
      "\n",
      "\n",
      "\n",
      " Copyright © 2023 Breitbart\n"
     ]
    }
   ],
   "source": [
    "d1 = get_article_text(d)\n",
    "print(d1)"
   ]
  },
  {
   "cell_type": "code",
   "execution_count": 13,
   "id": "7cd92051",
   "metadata": {},
   "outputs": [],
   "source": [
    "# h2 class href extract URLs from h2 headings on a page\n",
    "def extract_urls_from_h2(url):\n",
    "    try:\n",
    "        # Send an HTTP request to the URL\n",
    "        response = rq.get(url)\n",
    "\n",
    "        # Check if the request was successful (status code 200)\n",
    "        if response.status_code == 200:\n",
    "            # Parse the HTML content of the page\n",
    "            soup = BeautifulSoup(response.text, 'html.parser')\n",
    "\n",
    "            # Extract URLs from h2 headings\n",
    "            urls = []\n",
    "            for h2_tag in soup.find_all('h2'):\n",
    "                # Find all 'a' tags within the h2\n",
    "                a_tags = h2_tag.find_all('a', href=True)\n",
    "                for a_tag in a_tags:\n",
    "                    # Join the URL with the href attribute to get the absolute URL\n",
    "                    absolute_url = urljoin(url, a_tag['href'])\n",
    "                    urls.append(absolute_url)\n",
    "\n",
    "            return urls\n",
    "\n",
    "        else:\n",
    "            print(f\"Failed to retrieve the page. Status code: {response.status_code}\")\n",
    "            return None\n",
    "\n",
    "    except Exception as e:\n",
    "        print(f\"An error occurred: {e}\")\n",
    "        return None"
   ]
  },
  {
   "cell_type": "markdown",
   "id": "10b838b1",
   "metadata": {},
   "source": [
    "### Russia-Ukraine War tag\n",
    "Checking the results manually, we can see that it only goes to page 11, therefore the number of pages will be 11."
   ]
  },
  {
   "cell_type": "code",
   "execution_count": 14,
   "id": "17e73deb",
   "metadata": {
    "scrolled": true
   },
   "outputs": [],
   "source": [
    "# extract_urls_from_h2('https://www.breitbart.com/tag/russia-ukraine-war/')"
   ]
  },
  {
   "cell_type": "code",
   "execution_count": 15,
   "id": "5c9dcfea",
   "metadata": {},
   "outputs": [],
   "source": [
    "all_links = set() #store as set to only get unique links\n",
    "num_pages = 11\n",
    "base_url = \"https://www.breitbart.com/tag/russia-ukraine-war\"\n",
    "\n",
    "for page_num in range(1, num_pages + 1):\n",
    "    url = f\"{base_url}/page/{page_num}/\" if page_num > 1 else base_url\n",
    "    response = rq.get(url)\n",
    "    urls = extract_urls_from_h2(url)\n",
    "    all_links.update(urls) \n",
    "        \n",
    "all_links = list(all_links)"
   ]
  },
  {
   "cell_type": "code",
   "execution_count": 16,
   "id": "e9a78b05",
   "metadata": {
    "scrolled": true
   },
   "outputs": [
    {
     "data": {
      "text/plain": [
       "['https://www.breitbart.com/europe/2023/05/14/you-decide-boy-scouts-project-or-weapon-of-war-ukraine-shows-off-captured-drone-oddity/',\n",
       " 'https://www.breitbart.com/europe/2023/11/12/russia-ramps-up-attacks-on-key-cities-in-eastern-ukraine/',\n",
       " 'https://www.breitbart.com/europe/2023/05/21/biden-zelensky-gave-flat-assurance-american-made-f-16-jets-wont-be-used-to-attack-russian-mainland/',\n",
       " 'https://www.breitbart.com/europe/2023/10/01/uk-defence-secretary-suggests-sending-british-troops-to-ukraine-on-training-missions/',\n",
       " 'https://www.breitbart.com/politics/2023/02/15/poll-support-for-endless-u-s-aid-to-ukraine-softens-as-voters-see-problems-closer-to-home/',\n",
       " 'https://www.breitbart.com/europe/2023/08/17/ukraine-enraged-as-nato-official-suggests-ceding-land-to-russia-in-exchange-for-membership/',\n",
       " 'https://www.breitbart.com/europe/2023/06/25/wagner-chief-agrees-to-exile-in-belarus-charges-of-armed-rebellion-to-be-dropped-in-deal-with-putin/',\n",
       " 'https://www.breitbart.com/europe/2023/02/19/uk-will-be-first-country-to-supply-ukraine-with-longer-range-weapons/',\n",
       " 'https://www.breitbart.com/europe/2022/10/05/ukrainian-refugees-alarmed-over-being-housed-with-russians-seeking-asylum-from-mobilization/',\n",
       " 'https://www.breitbart.com/faith/2022/03/19/pope-francis-no-such-thing-just-war/',\n",
       " 'https://www.breitbart.com/politics/2023/02/27/americas-treasury-secretary-janet-yellen-shows-up-ukraine-announces-aid-transfer-1-25-b/',\n",
       " 'https://www.breitbart.com/europe/2023/09/23/report-zelensky-asks-spirit-cooking-occult-artist-marina-abramovic-to-be-ambassador-for-ukraine/',\n",
       " 'https://www.breitbart.com/europe/2022/10/29/russia-pulls-out-of-ukrainian-grain-pact-after-alleged-uk-backed-terror-attacks-in-black-sea/',\n",
       " 'https://www.breitbart.com/europe/2023/11/06/united-states-finally-begins-pressuring-ukraine-to-start-peace-talks-with-putin-report/',\n",
       " 'https://www.breitbart.com/europe/2023/06/25/kremlin-threats-against-families-of-wagner-leaders-prompted-prigozhins-stand-down-uk-intelligence-services/',\n",
       " 'https://www.breitbart.com/europe/2022/05/21/former-german-chancellor-resigns-from-russian-energy-corp-board-after-eu-threat/',\n",
       " 'https://www.breitbart.com/europe/2023/11/11/russia-resumes-missile-strikes-on-kyiv-amid-country-wide-bombardment/',\n",
       " 'https://www.breitbart.com/europe/2023/05/08/wagner-group-claims-moscow-committed-more-ammunition-after-threats-of-bakhmut-withdrawal/',\n",
       " 'https://www.breitbart.com/europe/2022/08/16/estonia-to-remove-soviet-era-communist-monuments/',\n",
       " 'https://www.breitbart.com/politics/2022/10/29/ilhan-omar-town-hall-disrupted-anti-war-protesters-80-billion-ukraine-not-anti-war/',\n",
       " 'https://www.breitbart.com/europe/2023/10/31/zelensky-advisor-admits-govt-officials-stealing-like-no-tomorrow-as-biden-pushes-for-billions-more-to-ukraine/',\n",
       " 'https://www.breitbart.com/europe/2023/06/11/food-crisis-dam-collapse-may-turn-major-ukrainian-farming-region-into-a-desert/',\n",
       " 'https://www.breitbart.com/europe/2023/06/25/russia-launched-largest-series-of-missile-strikes-on-ukraine-in-recent-months-amid-wagner-rebellion/',\n",
       " 'https://www.breitbart.com/europe/2022/07/28/im-helping-germany-donates-three-1970s-era-tanks-to-ukraine/',\n",
       " 'https://www.breitbart.com/europe/2023/09/13/putin-claims-british-spies-orchestrated-ukrainian-attack-on-russian-nuclear-facilityputin-claims-uk-orchestrated-ukrainian-attack-on-russian-nuclear-plant24935352/',\n",
       " 'https://www.breitbart.com/europe/2023/09/30/zelensky-hosts-major-arms-manufacturers-conference-in-hopes-to-boost-domestic-weapons-production/',\n",
       " 'https://www.breitbart.com/europe/2023/11/24/viktor-orban-threatens-to-veto-eu-funding-for-ukraine-calls-for-fundamental-debate-on-war-strategy/',\n",
       " 'https://www.breitbart.com/europe/2023/08/19/russian-missile-attack-kills-seven-in-northern-ukrainian-including-six-year-old-girl/',\n",
       " 'https://www.breitbart.com/europe/2023/09/24/zelensky-and-trudeau-give-soldier-who-reportedly-fought-for-nazi-germany-a-standing-ovation/',\n",
       " 'https://www.breitbart.com/politics/2023/07/18/exclusive-mtg-warns-ukraine-war-ww3-threat-creating-war-against-nuclear-armed-russia/',\n",
       " 'https://www.breitbart.com/europe/2023/11/17/ukraine-and-russia-may-never-sign-peace-treaty-warns-kyivs-intelligence-chief/',\n",
       " 'https://www.breitbart.com/europe/2023/04/22/reuters-posts-interview-with-ukrainian-ss-soldier-adolf/',\n",
       " 'https://www.breitbart.com/europe/2022/09/01/spanish-army-runs-out-of-winter-uniforms-after-sending-all-supplies-to-ukraine/',\n",
       " 'https://www.breitbart.com/europe/2022/05/03/german-opposition-leader-travels-to-ukraine-as-chancellor-scholz-refuses-to-visit/',\n",
       " 'https://www.breitbart.com/europe/2023/01/07/european-journalist-federation-concerned-by-ukraine-media-censorship-law/',\n",
       " 'https://www.breitbart.com/europe/2022/04/07/britain-to-send-armoured-vehicles-to-ukraine-report/',\n",
       " 'https://www.breitbart.com/sports/2023/01/26/ioc-clears-path-for-russian-athletes-to-compete-at-2024-olympics-ukraine-objects/',\n",
       " 'https://www.breitbart.com/europe/2022/10/13/ukraine-joining-nato-would-spark-world-war-iii-says-russian-security-official/',\n",
       " 'https://www.breitbart.com/europe/2023/08/12/zelensky-fires-all-military-recruitment-heads-over-corruption-accusations/',\n",
       " 'https://www.breitbart.com/europe/2023/02/12/german-politicians-and-defence-leaders-call-for-return-of-military-conscription/',\n",
       " 'https://www.breitbart.com/europe/2023/01/19/davos-vultures-german-chancellor-predicts-ukrainian-economic-miracle-for-war-reconstruction-companies-at-wef-meeting/',\n",
       " 'https://www.breitbart.com/europe/2023/08/06/russia-accuses-ukraine-of-using-biden-supplied-cluster-bombs-on-civilian-targets-in-donetsk/',\n",
       " 'https://www.breitbart.com/europe/2023/03/17/thatll-help-international-criminal-court-issues-arrest-warrant-for-vladimir-putin/',\n",
       " 'https://www.breitbart.com/europe/2022/10/08/bidens-armageddon-comments-blasted-by-french-president-macron/',\n",
       " 'https://www.breitbart.com/europe/2023/06/27/wagner-warlord-prigozhin-has-arrived-in-belarus-announces-lukashenko/',\n",
       " 'https://www.breitbart.com/europe/2023/01/01/the-year-trump-was-vindicated-as-the-eus-green-agenda-went-up-in-smoke/',\n",
       " 'https://www.breitbart.com/europe/2022/06/08/no-regrets-ex-german-chancellor-angela-merkel-rejects-blame-for-enabling-putins-russia/',\n",
       " 'https://www.breitbart.com/europe/2023/05/29/russia-issues-arrest-warrant-for-senator-lindsey-graham-over-ukraine-comments/',\n",
       " 'https://www.breitbart.com/europe/2023/09/17/first-two-cargo-ships-arrive-in-ukrainian-port-after-russian-withdrawal-from-black-sea-grain-deal/',\n",
       " 'https://www.breitbart.com/europe/2022/04/06/car-rams-into-russian-embassy-in-romania-with-flammable-substances-driver-dead/',\n",
       " 'https://www.breitbart.com/national-security/2022/10/13/establishment-voices-warn-joe-biden-of-nuclear-war-risk/',\n",
       " 'https://www.breitbart.com/europe/2023/07/09/russia-claims-it-shot-down-cruise-missiles-over-crimea-suspends-traffic-on-kerch-bridge/',\n",
       " 'https://www.breitbart.com/europe/2023/09/30/putin-taps-former-wagner-commander-to-take-charge-of-volunteer-units-in-ukraine/',\n",
       " 'https://www.breitbart.com/europe/2023/06/24/wagner-group-chief-refuses-to-surrender-as-his-forces-reportedly-march-on-moscow/',\n",
       " 'https://www.breitbart.com/europe/2022/09/08/certain-industries-will-stop-producing-admits-german-vice-chancellor-in-car-crash-interview/',\n",
       " 'https://www.breitbart.com/europe/2023/06/22/what-war-eu-considering-using-ukraine-as-a-strategic-gas-storage-hub/',\n",
       " 'https://www.breitbart.com/europe/2023/07/05/russia-and-ukraine-accuse-each-other-of-plotting-attack-on-nuclear-plant/',\n",
       " 'https://www.breitbart.com/europe/2023/10/29/russia-accuses-ukraine-of-drone-strikes-on-nuclear-waste-warehouse/',\n",
       " 'https://www.breitbart.com/europe/2023/11/07/nato-withdraws-from-cold-war-era-security-treaty-after-russian-exit/',\n",
       " 'https://www.breitbart.com/europe/2023/09/02/russia-deploys-intercontinental-ballistic-missile-for-combat-duty/',\n",
       " 'https://www.breitbart.com/europe/2023/12/02/zelensky-not-satisfied-with-the-level-of-western-weapon-donations/',\n",
       " 'https://www.breitbart.com/europe/2023/05/06/russian-paramilitary-wagner-chief-threatens-withdrawal-from-bakhmut-over-lack-of-ammo/',\n",
       " 'https://www.breitbart.com/europe/2022/05/27/sweden-asylum-home-tells-ukrainian-women-dress-modestly-to-not-provoke-migrant-men/',\n",
       " 'https://www.breitbart.com/europe/2022/05/31/european-union-agrees-to-russian-oil-embargo-of-90-per-cent-by-years-end/',\n",
       " 'https://www.breitbart.com/europe/2022/04/30/return-of-weimar-german-inflation-hits-highest-level-in-four-decades/',\n",
       " 'https://www.breitbart.com/europe/2023/11/04/eu-chief-continues-push-for-ukraine-to-join-bloc-during-meeting-with-zelensky/',\n",
       " 'https://www.breitbart.com/europe/2023/01/31/top-eurocrat-verhofstadt-blames-brexit-for-russian-invasion-of-ukraine/',\n",
       " 'https://www.breitbart.com/europe/2023/02/19/french-president-macron-claims-he-does-not-believe-in-regime-change-in-russia/',\n",
       " 'https://www.breitbart.com/europe/2023/06/10/british-universities-accused-of-helping-iran-develop-suicide-drones-being-used-in-ukraine/',\n",
       " 'https://www.breitbart.com/europe/2023/07/30/zelensky-signs-law-rejecting-orthodox-christmas-date-to-abandon-russian-heritage/',\n",
       " 'https://www.breitbart.com/europe/2022/10/18/russia-launches-fresh-bombardment-of-ukrainian-infrastructure-in-kyiv-and-other-cities/',\n",
       " 'https://www.breitbart.com/europe/2022/09/08/over-half-of-spanish-public-expect-energy-crisis-this-winter-poll/',\n",
       " 'https://www.breitbart.com/europe/2023/07/01/top-ukraine-general-blames-counteroffensive-struggles-on-lack-of-western-fighter-jets-and-weapons/',\n",
       " 'https://www.breitbart.com/europe/2022/08/24/boris-johnson-says-absolutely-vital-taxpayers-continue-funding-ukraine-war-in-surprise-kyiv-visit/',\n",
       " 'https://www.breitbart.com/europe/2023/09/05/ukraine-spending-100-million-per-day-on-war-says-ex-defence-minister/',\n",
       " 'https://www.breitbart.com/europe/2023/05/06/pro-putin-novelist-injured-in-suspected-car-bombing-outside-of-moscow/',\n",
       " 'https://www.breitbart.com/europe/2022/05/18/red-cross-boss-slams-europes-double-standards-for-welcoming-ukrainian-refugees/',\n",
       " 'https://www.breitbart.com/europe/2023/09/23/trudeau-pledges-650-million-more-in-military-aid-to-ukraine/',\n",
       " 'https://www.breitbart.com/politics/2023/02/20/white-house-joe-biden-felt-it-was-really-important-to-stand-next-to-zelensky/',\n",
       " 'https://www.breitbart.com/politics/2023/02/19/bidens-remarks-on-paying-ukrainian-pensions-resurfaces-stoking-anger/',\n",
       " 'https://www.breitbart.com/europe/2023/09/02/russia-claims-to-have-thwarted-three-drone-attacks-on-key-kerch-bridge/',\n",
       " 'https://www.breitbart.com/europe/2023/02/08/over-four-in-ten-germans-believe-sanctions-are-hurting-them-more-than-russia/',\n",
       " 'https://www.breitbart.com/europe/2022/12/04/germany-sleepwalking-into-another-migrant-crisis-warns-leading-eu-politician/',\n",
       " 'https://www.breitbart.com/europe/2023/10/18/hungarys-orban-calls-for-ukraine-ceasefire-during-meeting-with-vladimir-putin-in-beijing/',\n",
       " 'https://www.breitbart.com/europe/2023/03/21/sweden-sending-police-officers-to-ukraine-to-investigate-russian-war-crimes/',\n",
       " 'https://www.breitbart.com/europe/2023/09/26/justin-trudeau-warns-of-russian-disinformation-while-refusing-responsibility-for-hailing-nazi-soldier/',\n",
       " 'https://www.breitbart.com/europe/2023/04/05/west-must-prepare-for-total-collapse-and-fragmentation-of-russia-warns-ukrainian-security-chief/',\n",
       " 'https://www.breitbart.com/europe/2023/05/13/ukrainian-president-zelensky-meets-with-pope-francis-at-the-vatican/',\n",
       " 'https://www.breitbart.com/europe/2022/12/01/eu-chief-claims-ukraine-needs-e600-billion-to-be-rebuilt/',\n",
       " 'https://www.breitbart.com/europe/2023/05/27/russia-claims-to-have-shot-down-two-uk-supplied-storm-shadow-missiles-condemns-london-and-washington-for-escalation/',\n",
       " 'https://www.breitbart.com/europe/2022/11/23/britain-begins-arming-ukrainian-forces-with-military-helicopters-in-escalation-of-support/',\n",
       " 'https://www.breitbart.com/europe/2023/08/20/cannon-fodder-total-casualties-suffered-by-ukraine-and-russia-nears-half-a-million-u-s-officials-claim/',\n",
       " 'https://www.breitbart.com/europe/2023/11/07/top-aid-to-ukraines-commander-in-chief-dies-after-grenade-given-as-birthday-gift-exploded/',\n",
       " 'https://www.breitbart.com/europe/2023/05/24/wagner-chief-warns-of-second-russian-revolution-over-ukraine-war-failures/',\n",
       " 'https://www.breitbart.com/europe/2023/08/13/23-day-old-girl-among-seven-killed-in-russian-shelling-of-kherson-says-ukraine/',\n",
       " 'https://www.breitbart.com/europe/2022/07/14/eu-plans-action-over-fears-of-ukraine-war-arms-smuggling-into-europe/',\n",
       " 'https://www.breitbart.com/europe/2023/05/13/battle-for-bakhmut-russia-retreats-in-bad-order-as-ukrainians-gain-1km-of-territory-british-intel-claims/',\n",
       " 'https://www.breitbart.com/europe/2022/05/06/german-chancellor-declares-the-western-balkans-belong-to-europe/',\n",
       " 'https://www.breitbart.com/europe/2023/01/13/zelensky-strips-orthodox-clergy-politicians-and-other-accused-russia-sympathisers-of-citizenship/',\n",
       " 'https://www.breitbart.com/europe/2023/07/22/ukraine-drone-strikes-crimean-munitions-depot-cluster-bombs-belgorod-claims/',\n",
       " 'https://www.breitbart.com/europe/2022/12/10/eu-commissioner-warns-russia-flood-europe-ukrainian-refugees/',\n",
       " 'https://www.breitbart.com/europe/2023/03/25/un-accuses-both-russians-and-ukrainians-of-summary-executions-of-prisoners-of-war/',\n",
       " 'https://www.breitbart.com/europe/2022/05/29/germany-and-france-call-on-putin-to-lift-grain-blockade-engage-in-peace-talks-with-zelensky/',\n",
       " 'https://www.breitbart.com/europe/2022/04/19/france-calls-for-european-union-to-embargo-russian-oil/',\n",
       " 'https://www.breitbart.com/politics/2023/02/24/biden-administration-announces-2-billion-in-military-aid-to-ukraine-on-one-year-mark/',\n",
       " 'https://www.breitbart.com/europe/2022/04/14/putin-ally-lukashenko-claims-alleged-killings-in-bucha-were-staged-by-britain/',\n",
       " 'https://www.breitbart.com/europe/2022/10/12/uk-spy-chief-russians-fleeing-putin-have-realised-the-cost-of-ukraine-war-of-choice/',\n",
       " 'https://www.breitbart.com/europe/2023/03/16/im-rubber-youre-glue-kremlin-claims-russia-insulated-from-western-banking-crisis-because-of-sanctions/',\n",
       " 'https://www.breitbart.com/europe/2022/05/14/western-weapons-in-ukraine-being-sold-on-via-encrypted-messaging-app-report/',\n",
       " 'https://www.breitbart.com/europe/2023/02/05/germany-to-divert-green-agenda-cash-aimed-at-killing-coal-to-arms-industry-report/',\n",
       " 'https://www.breitbart.com/europe/2022/05/17/russian-energy-company-shuts-off-electricity-to-finland/',\n",
       " 'https://www.breitbart.com/europe/2023/04/15/finland-starts-construction-of-border-fence-with-russia-after-joining-nato/',\n",
       " 'https://www.breitbart.com/europe/2022/06/26/pics-russia-launches-missile-strikes-against-ukrainian-capital-of-kyiv/',\n",
       " 'https://www.breitbart.com/europe/2022/07/31/rumour-russia-influenced-salvini-to-leave-govt-shot-down-by-official/',\n",
       " 'https://www.breitbart.com/europe/2023/04/29/drone-attack-suspected-as-russian-oil-reservoir-in-crimea-set-on-fire/',\n",
       " 'https://www.breitbart.com/europe/2023/09/10/weapons-from-ukrainian-frontline-reportedly-seized-by-police-from-new-ira-terrorists-in-northern-ireland/',\n",
       " 'https://www.breitbart.com/europe/2023/07/08/turkeys-erdogan-backs-ukraines-nato-membership-bid-in-talks-with-zelensky/',\n",
       " 'https://www.breitbart.com/europe/2023/04/19/macron-working-with-beijing-on-secret-plan-for-peace-deal-between-ukraine-and-russia-reports/',\n",
       " 'https://www.breitbart.com/europe/2023/09/04/zelensky-replaces-defence-minister-amid-struggling-counteroffensive-and-corruption-scandals24880372/',\n",
       " 'https://www.breitbart.com/europe/2023/01/17/nato-surveillance-planes-temporarily-deployed-to-romania/',\n",
       " 'https://www.breitbart.com/europe/2023/05/20/russias-wagner-chief-claims-victory-in-bakhmut-yet-ukraine-denies-defeat/',\n",
       " 'https://www.breitbart.com/europe/2022/05/15/poll-young-swedish-men-are-demo-least-supportive-of-joining-nato/',\n",
       " 'https://www.breitbart.com/politics/2023/03/06/putins-brain-warns-nuclear-armed-russia-cannot-lose-ceding-territory-lead-civil-war/',\n",
       " 'https://www.breitbart.com/europe/2022/04/08/pics-kremlin-spokesman-admits-russia-has-taken-significant-losses-in-ukraine/',\n",
       " 'https://www.breitbart.com/middle-east/2023/10/12/charlie-kirk-israels-war-on-hamas-is-not-ukraines-war-with-russia/',\n",
       " 'https://www.breitbart.com/europe/2023/07/29/wagner-mercenary-forces-moving-closer-to-polish-border-says-pm-morawiecki/',\n",
       " 'https://www.breitbart.com/europe/2023/02/16/clap-for-ukraine-uk-to-hold-national-moment-of-silence-to-show-solidarity-against-russia/',\n",
       " 'https://www.breitbart.com/europe/2023/09/16/ukrainian-opposition-lawmaker-arrested-on-suspicion-of-high-treason-spreading-russian-false-narratives24970632/',\n",
       " 'https://www.breitbart.com/europe/2022/05/02/germany-backs-eu-embargo-on-russian-oil-despite-faltering-economy/',\n",
       " 'https://www.breitbart.com/europe/2022/05/04/european-union-proposes-russian-oil-embargo-sanctions-on-media-banks-and-war-criminals/',\n",
       " 'https://store.breitbart.com/',\n",
       " 'https://www.breitbart.com/europe/2022/09/10/ukraine-sees-significant-victory-in-kharkiv-as-uk-intelligence-claims-russian-army-was-taken-by-surprise/',\n",
       " 'https://www.breitbart.com/europe/2022/06/26/boris-johnson-pledges-429-million-more-to-ukraine-amid-cost-of-living-crisis-at-home/',\n",
       " 'https://www.breitbart.com/europe/2023/03/24/finland-defence-minister-rejects-ukraine-request-for-fighter-jets/',\n",
       " 'https://www.breitbart.com/europe/2023/03/14/trudeau-minister-admits-goal-is-regime-change-in-russia/',\n",
       " 'https://www.breitbart.com/europe/2023/08/15/ex-ukrainian-general-convicted-of-high-treason-for-passing-state-secrets-to-moscow/',\n",
       " 'https://www.breitbart.com/europe/2022/09/07/new-normal-eu-president-calls-for-mandatory-energy-rationing-to-flatten-the-curve-of-demand/',\n",
       " 'https://www.breitbart.com/europe/2022/04/27/blackmail-russia-shuts-off-gas-to-eu-states-poland-bulgaria-energy-prices-soar-on-news/',\n",
       " 'https://www.breitbart.com/europe/2022/04/22/number-of-ukrainian-refugees-tops-five-million-as-conflict-rages/',\n",
       " 'https://www.breitbart.com/politics/2023/09/21/poland-announces-will-stop-supplying-weapons-ukraine/',\n",
       " 'https://www.breitbart.com/europe/2023/11/14/forever-war-germany-to-double-ukraine-military-aid-next-year/',\n",
       " 'https://www.breitbart.com/europe/2023/09/04/ny-times-wakes-up-to-corruption-in-ukraine-as-officials-admit-military-contract-money-vanished24880952/',\n",
       " 'https://www.breitbart.com/europe/2022/10/30/czechia-first-thousands-rally-in-prague-against-russian-sanctions-demand-warmonger-govt-step-down/',\n",
       " 'https://www.breitbart.com/europe/2023/07/23/zelensky-demands-west-supply-full-protective-shield-of-anti-aircraft-defence-systems/',\n",
       " 'https://www.breitbart.com/europe/2023/04/15/poland-bans-ukrainian-food-imports-to-protect-local-farmers-from-price-crunch/',\n",
       " 'https://www.breitbart.com/europe/2023/09/03/ukrainian-port-bombarded-in-drone-attack-ahead-of-russia-grain-deal-talks/',\n",
       " 'https://www.breitbart.com/politics/2023/05/23/exclusive-mark-w-smith-ukraine-paying-the-price-for-not-enshrining-right-to-bear-arms-into-constitution/',\n",
       " 'https://www.breitbart.com/europe/2023/03/06/european-parliament-president-demands-west-send-warplanes-to-ukraine-pushes-for-eu-membership-talks-this-year/',\n",
       " 'https://www.breitbart.com/europe/2023/07/02/zelensky-declares-no-peace-talks-with-putin-until-russia-leaves-crimea-and-donbas/',\n",
       " 'https://www.breitbart.com/europe/2023/03/18/escalation-nato-spain-sending-more-tanks-military-vehicles-to-ukraine/',\n",
       " 'https://www.breitbart.com/europe/2023/07/01/wagner-mercenary-group-establishing-paramilitary-camp-in-belarus-according-to-satellite-imagery/',\n",
       " 'https://www.breitbart.com/europe/2022/11/01/united-states-military-personal-operating-in-ukraine-to-track-weaponry-report/',\n",
       " 'https://www.breitbart.com/europe/2023/11/21/zelensky-claims-to-have-survived-five-or-six-russian-assassination-attempts/',\n",
       " 'https://www.breitbart.com/europe/2022/05/15/guesthouses-for-terrorist-organisations-turkey-opposes-sweden-and-finland-joining-nato/',\n",
       " 'https://www.breitbart.com/europe/2023/07/16/putin-warns-of-reciprocal-use-of-cluster-bombs-in-ukraine-after-biden-sends-controversial-munitions-to-kyiv/',\n",
       " 'https://www.breitbart.com/europe/2022/05/12/finland-announces-plan-to-join-nato-as-boris-pledges-british-soldiers-to-defend-finland-and-sweden-from-russia/',\n",
       " 'https://www.breitbart.com/europe/2023/05/13/forever-war-germany-commits-another-3-billion-in-military-aid-to-ukraine/',\n",
       " 'https://www.breitbart.com/europe/2023/03/01/finlands-parliament-overwhelmingly-backs-final-approval-for-nato-bid/',\n",
       " 'https://www.breitbart.com/europe/2023/11/19/zelensky-claims-artillery-shell-deliveries-to-ukraine-have-dwindled-amid-israel-conflict/',\n",
       " 'https://www.breitbart.com/europe/2023/07/29/ukraine-using-north-korean-made-missiles-against-russian-forces/',\n",
       " 'https://www.breitbart.com/europe/2022/07/13/german-and-austrian-ministers-no-alternative-to-ending-dependency-on-russian-energy/',\n",
       " 'https://www.breitbart.com/europe/2023/08/22/russia-will-not-stop-war-until-complete-obliteration-of-zelensky-govt-says-top-putin-ally/',\n",
       " 'https://www.breitbart.com/clips/2023/02/25/brooks-ukraine-russia-war-will-for-sure-last-another-year/',\n",
       " 'https://www.breitbart.com/europe/2023/04/24/biden-administration-annoyed-at-macron-for-seeking-ukraine-peace-deal-with-china-report/',\n",
       " 'https://www.breitbart.com/europe/2023/07/30/ukrainian-drone-attacks-on-moscow-force-airport-to-shut-down/',\n",
       " 'https://www.breitbart.com/europe/2022/08/26/at-least-300000-non-european-migrants-among-ukrainian-refugees-un/',\n",
       " 'https://www.breitbart.com/politics/2023/01/26/mitch-mcconnell-bidens-recent-aid-to-ukraine-is-overdue/',\n",
       " 'https://www.breitbart.com/politics/2023/01/31/poll-shows-near-even-split-on-congress-providing-more-aid-to-ukraine/',\n",
       " 'https://www.breitbart.com/europe/2023/02/25/zelensky-america-will-lose-nato-and-global-leadership-role-if-it-stops-funding-war-in-ukraine/',\n",
       " 'https://www.breitbart.com/europe/2022/03/31/eu-members-agree-to-10-point-plan-to-settle-ukrainian-refugees/',\n",
       " 'https://www.breitbart.com/europe/2022/04/08/peace-or-air-conditioners-italian-pm-calls-on-people-to-cut-energy/',\n",
       " 'https://www.breitbart.com/europe/2023/02/24/uk-proposes-plan-to-send-soviet-era-fighter-jets-to-ukraine-as-western-tanks-roll-in/',\n",
       " 'https://www.breitbart.com/europe/2022/04/29/germany-paid-russia-e9-billion-for-energy-since-ukraine-invasion-study/',\n",
       " 'https://www.breitbart.com/europe/2023/02/28/belarusian-president-lukashenko-flies-to-beijing-to-hold-talks-with-old-friend-xi-jinping/',\n",
       " 'https://www.breitbart.com/politics/2023/11/12/senior-ukrainian-military-officer-coordinated-sabotage-of-nord-stream-pipelines-report/',\n",
       " 'https://www.breitbart.com/europe/2022/12/08/ukraines-latest-demand-to-the-west-boycott-russian-culture/',\n",
       " 'https://www.breitbart.com/europe/2023/01/28/putin-in-a-war-against-nato-and-the-west-in-ukraine-claims-eu-official/',\n",
       " 'https://www.breitbart.com/europe/2023/01/19/canada-grants-refugee-status-to-russian-fleeing-military-service-in-ukraine/',\n",
       " 'https://www.breitbart.com/europe/2023/01/06/macron-sends-first-western-tanks-to-ukraine-as-germany-continues-to-debate/',\n",
       " 'https://www.breitbart.com/europe/2022/06/16/eu-expansionism-france-to-push-for-uk-ukraine-to-join-european-political-community/',\n",
       " 'https://www.breitbart.com/europe/2023/06/07/belgium-opens-investigation-over-reports-of-nato-weapons-being-used-in-russian-territory/',\n",
       " 'https://www.breitbart.com/europe/2023/02/19/sanctions-fail-just-8-5-per-cent-of-western-companies-have-actually-left-russia/',\n",
       " 'https://www.breitbart.com/europe/2023/08/12/russia-claims-to-have-shot-down-20-ukrainian-drones-over-crimea/',\n",
       " 'https://www.breitbart.com/europe/2023/06/10/uk-commits-another-150-million-to-house-ukrainian-refugees-in-britain/',\n",
       " 'https://www.breitbart.com/europe/2023/01/26/ww3-watch-german-foreign-minister-declares-we-are-fighting-a-war-against-russia/',\n",
       " 'https://www.breitbart.com/europe/2023/11/19/hungarys-orban-says-ukraine-is-light-years-away-from-joining-european-union/',\n",
       " 'https://www.breitbart.com/europe/2023/02/18/ukraine-belgian-man-who-bought-50-old-tanks-cheap-now-wants-e1m-per-vehicle/',\n",
       " 'https://www.breitbart.com/europe/2022/05/29/italian-govt-minister-warns-of-migrant-surge-as-food-crisis-looms/',\n",
       " 'https://www.breitbart.com/europe/2023/05/08/eu-preparing-sanctions-on-chinese-firms-accused-of-aiding-russian-army-reports/',\n",
       " 'https://www.breitbart.com/europe/2023/09/18/zelensky-sacks-six-deputy-defence-ministers-amid-mounting-corruption-scandals/',\n",
       " 'https://www.breitbart.com/europe/2022/05/08/ukrainian-women-may-be-at-risk-of-abuse-in-uk-refugee-system/',\n",
       " 'https://www.breitbart.com/europe/2023/08/19/zelensky-travels-to-nato-applicant-sweden-as-putin-heads-to-site-of-failed-mutiny/',\n",
       " 'https://www.breitbart.com/europe/2023/08/27/wagner-warlord-prigozhin-confirmed-dead-in-crash-with-genetic-testing/',\n",
       " 'https://www.breitbart.com/europe/2023/05/31/counteroffensive-will-trigger-russian-withdrawal-this-summer-claims-ukraine-defence-minister/',\n",
       " 'https://www.breitbart.com/europe/2023/04/30/report-italian-weapons-supplied-to-ukraine-are-not-battle-ready/',\n",
       " 'https://www.breitbart.com/europe/2023/04/16/russia-releases-over-a-hundred-ukrainian-prisoners-of-war-in-orthodox-easter-exchange/',\n",
       " 'https://www.breitbart.com/europe/2022/04/28/greeks-offer-aid-after-russia-cuts-off-bulgarian-gas-supply/',\n",
       " 'https://www.breitbart.com/europe/2022/04/27/socialist-spain-sets-gas-price-caps-in-attempt-to-prop-up-economy/',\n",
       " 'https://www.breitbart.com/europe/2022/12/04/ukrainian-embassies-in-europe-mailed-bloody-packages-with-animal-eyes/',\n",
       " 'https://www.breitbart.com/europe/2023/10/01/uk-prime-minister-sunak-denies-plans-to-send-troops-to-ukraine-for-now/',\n",
       " 'https://www.breitbart.com/national-security/2022/10/18/d-c-debates-fight-russian-nukes-or-negotiate-a-deal/',\n",
       " 'https://www.breitbart.com/europe/2023/11/04/ukraine-can-become-weapons-production-hub-for-the-west-says-defence-industry-minister/',\n",
       " 'https://www.breitbart.com/europe/2023/06/13/kremlin-takes-control-of-islamist-chechen-fighters-while-wagner-group-insists-on-independence/',\n",
       " 'https://www.breitbart.com/europe/2022/09/29/non-profit-demands-russians-fleeing-mobilization-should-be-granted-asylum/',\n",
       " 'https://www.breitbart.com/europe/2022/05/25/finnish-and-swedish-delegations-begin-nato-negotiations-in-turkey/',\n",
       " 'https://www.breitbart.com/europe/2022/10/13/macron-suggests-france-will-not-retaliate-with-nukes-against-russia-if-putin-uses-them-against-ukraine/',\n",
       " 'https://www.breitbart.com/politics/2023/01/22/lindsey-graham-calls-west-send-zelensky-tanks-after-trip-ukraine/',\n",
       " 'https://www.breitbart.com/europe/2023/06/23/western-divide-france-to-back-ukraine-nato-membership-bid-in-split-from-berlin-and-biden/',\n",
       " 'https://www.breitbart.com/europe/2023/10/22/ukraine-claims-russia-launched-record-number-of-ariel-bomb-attacks-on-kherson-region/',\n",
       " 'https://www.breitbart.com/europe/2023/02/10/wwiii-watch-crimea-in-the-crosshairs-as-uk-set-to-send-long-range-missiles-to-ukraine/',\n",
       " 'https://www.breitbart.com/europe/2023/10/05/ukraines-transgender-spokesperson-returns-to-duty-after-suspension-announces-book-deal/',\n",
       " 'https://www.breitbart.com/europe/2023/03/01/bakhmut-will-fall-russian-offensive-encircles-key-ukrainian-frontline-city/',\n",
       " 'https://www.breitbart.com/europe/2023/03/24/war-of-attrition-west-must-prepare-for-long-war-in-ukraine-warns-nato-chief/',\n",
       " 'https://www.breitbart.com/europe/2023/03/22/swedish-lawmakers-overwhelmingly-back-motion-to-join-nato-alliance/',\n",
       " 'https://www.breitbart.com/europe/2023/05/10/wagner-chief-appears-to-mock-grandpa-putin-as-a-complete-asshole/',\n",
       " 'https://www.breitbart.com/europe/2022/04/06/european-union-uk-and-us-prepare-more-russian-sanctions-in-response-to-bucha-killings/',\n",
       " 'https://www.breitbart.com/europe/2023/05/14/poland-detects-suspected-spy-balloon-from-kremlin-ally-belarus/',\n",
       " 'https://www.breitbart.com/europe/2023/06/13/biden-administration-set-to-supply-depleted-uranium-rounds-to-ukraine-report/',\n",
       " 'https://www.breitbart.com/europe/2023/02/24/uk-defence-secretary-warns-war-is-coming-to-britain-demands-more-military-spending/',\n",
       " 'https://www.breitbart.com/europe/2022/06/24/just-40-per-cent-of-europeans-still-support-russia-sanctions-if-they-mean-rising-prices/',\n",
       " 'https://www.breitbart.com/europe/2023/06/18/global-food-crisis-ukraine-farming-sector-wont-recover-for-at-least-20-years-study/',\n",
       " 'https://www.breitbart.com/europe/2023/08/30/call-back-trump-hungarys-orban-tells-tucker-only-trump-can-end-ukraine-war-and-save-the-western-world/',\n",
       " 'https://www.breitbart.com/europe/2023/07/26/russia-increases-age-of-military-conscription-to-30-amid-war-in-ukraine/',\n",
       " 'https://www.breitbart.com/europe/2022/05/18/brexits-farage-warns-finland-and-sweden-nato-admission-is-a-mistake/',\n",
       " 'https://www.breitbart.com/europe/2023/09/17/west-must-prepare-for-a-long-war-in-ukraine-says-nato-chief-jens-stoltenberg24974437/',\n",
       " 'https://www.breitbart.com/europe/2023/11/05/ukrainian-missile-strike-on-shipyard-in-crimea-damages-russian-ship/',\n",
       " 'https://www.breitbart.com/europe/2022/12/11/nato-head-fears-alliance-may-be-dragged-into-winter-war-with-russia/',\n",
       " 'https://www.breitbart.com/europe/2023/02/17/westminster-war-party-opposition-leader-starmer-vows-to-double-down-on-ukraine-if-elected-as-pm/',\n",
       " 'https://www.breitbart.com/politics/2023/01/26/democrat-and-republican-senators-hail-biden-decision-to-send-tanks-to-ukraine/',\n",
       " 'https://www.breitbart.com/europe/2022/03/22/pics-ukraine-claims-to-have-retaken-key-kyiv-suburb-battle-for-mariupol-continues/',\n",
       " 'https://www.breitbart.com/europe/2022/05/06/nato-head-makes-security-guarantee-if-sweden-applies-to-join-alliance/',\n",
       " 'https://www.breitbart.com/europe/2023/04/07/russia-threatens-to-blow-up-ukraine-grain-deal-over-western-sanctions/',\n",
       " 'https://www.breitbart.com/europe/2023/09/19/exclusive-american-citizen-journalist-sitting-in-ukraine-prison-state-dept-confirms-as-biden-begs-for-billions-more-to-protect-ukraine-freedom/',\n",
       " 'https://www.breitbart.com/europe/2023/09/10/nato-ally-romania-finds-russian-drone-fragments-on-its-territory/',\n",
       " 'https://www.breitbart.com/europe/2023/05/27/ukraine-claims-russia-plotting-large-scale-provocation-at-nuclear-power-plant/',\n",
       " 'https://www.breitbart.com/europe/2023/05/07/zelensky-meets-with-blackrock-vice-chairman-as-globalists-salivate-over-lucrative-reconstruction-contracts/',\n",
       " 'https://www.breitbart.com/europe/2023/09/09/u-n-atomic-agency-warns-of-nuclear-disaster-amid-heavy-fighting-in-ukraine/',\n",
       " 'https://www.breitbart.com/politics/2023/02/20/biden-administration-announces-10m-for-ukraines-energy-infrastructure/',\n",
       " 'https://www.breitbart.com/europe/2023/05/06/russian-hypersonic-missile-shot-down-using-u-s-patriot-defence-system-ukrainians-claim/',\n",
       " 'https://www.breitbart.com/europe/2022/04/16/nearly-a-million-ukrainian-refugees-have-already-returned-to-their-country/',\n",
       " 'https://www.breitbart.com/europe/2022/10/26/uk-to-join-eu-military-mobility-group-to-transport-troops-and-weapons-claims-dutch-defence-chief/',\n",
       " 'https://www.breitbart.com/europe/2023/10/15/six-killed-as-russian-forces-continue-heavy-bombardment-of-ukraine/',\n",
       " 'https://www.breitbart.com/europe/2023/02/09/watch-impartial-bbc-reporter-hugs-ukrainian-president-zelensky/',\n",
       " 'https://www.breitbart.com/europe/2022/06/24/france-denies-residency-to-non-ukrainian-foreigners-who-fled-russian-invasion-asks-them-to-leave/',\n",
       " 'https://www.breitbart.com/europe/2022/11/30/russians-hiding-in-finland-on-forged-passport-stamps-to-avoid-military-service-border-guard-says/',\n",
       " 'https://www.breitbart.com/europe/2022/09/10/record-numbers-have-quit-finland-army-reserves-since-russia-invasion/',\n",
       " 'https://www.breitbart.com/europe/2022/05/11/russia-just-defending-itself-from-capitalism-says-italian-communist-party/',\n",
       " 'https://www.breitbart.com/europe/2022/04/29/greece-claims-it-will-pay-for-russian-gas-without-violating-sanctions/',\n",
       " 'https://www.breitbart.com/europe/2023/08/28/ukraine-claims-counteroffensive-breakthrough-recaptures-frontline-village-from-russians/',\n",
       " 'https://www.breitbart.com/europe/2023/09/24/biden-promised-zelensky-long-range-atacms-missiles-during-white-house-meeting-report/',\n",
       " 'https://www.breitbart.com/faith/2022/09/12/ukrainian-archbishop-marks-200-days-of-russias-great-war/',\n",
       " 'https://www.breitbart.com/politics/2023/05/04/exclusive-lt-col-daniel-davis-warns-of-new-level-attack-dangerous-escalation-after-alleged-drone-strike-kremlin/',\n",
       " 'https://www.breitbart.com/europe/2023/10/14/ukraine-reports-heavy-assault-from-russian-forces-in-donetsk-region/',\n",
       " 'https://www.breitbart.com/europe/2022/07/05/eu-to-create-emergency-plan-for-russian-energy-cut-off/',\n",
       " 'https://www.breitbart.com/europe/2022/05/14/ukrainian-president-zelensky-to-address-world-economic-forums-davos-summit/',\n",
       " 'https://www.breitbart.com/europe/2022/12/16/over-one-third-of-ukrainian-refugees-want-to-remain-in-germany/',\n",
       " 'https://www.breitbart.com/europe/2023/07/12/ukraine-should-show-some-gratitude-to-west-says-uk-defence-secretary/',\n",
       " 'https://www.breitbart.com/europe/2023/01/01/french-court-non-ukrainians-leaving-ukraine-not-eligible-for-refugee-protection/',\n",
       " 'https://www.breitbart.com/europe/2022/12/14/russia-can-resume-trade-with-germany-if-it-ends-war-in-ukraine-says-chancellor-scholz/',\n",
       " 'https://www.breitbart.com/europe/2022/06/07/swedish-police-concerned-ukrainian-war-weapons-may-end-up-in-hands-of-local-gangs/',\n",
       " 'https://www.breitbart.com/europe/2022/10/21/ukraine-backs-bojos-return-to-power-with-better-call-boris-meme/',\n",
       " 'https://www.breitbart.com/europe/2022/04/13/climate-change-extremists-block-train-carrying-russian-coal-to-europe/',\n",
       " 'https://www.breitbart.com/politics/2023/02/26/pentagon-chief-downplays-chances-of-military-victory-for-ukraine/',\n",
       " 'https://www.breitbart.com/sports/2023/02/26/wnbas-brittney-griner-receives-standing-ovation-at-naacp-awards-nearly-3-months-after-release-from-russian-prison/',\n",
       " 'https://www.breitbart.com/europe/2023/08/18/zelensky-chastises-citizens-for-dancing-and-drinking-during-war/',\n",
       " 'https://www.breitbart.com/europe/2023/10/07/ukraine-would-receive-e186-billion-for-joining-the-european-union/',\n",
       " 'https://www.breitbart.com/europe/2023/04/01/zelensky-govt-demands-orthodox-church-leader-put-under-house-arrest/',\n",
       " 'https://www.breitbart.com/europe/2022/04/08/graphic-image-warning-missile-strike-hits-train-station-as-ukrainian-civilians-flee-donetsk/',\n",
       " 'https://www.breitbart.com/europe/2023/02/24/greek-pm-refuses-to-send-ukraine-anti-air-missile-systems/',\n",
       " 'https://www.breitbart.com/europe/2022/07/20/african-migrants-occupy-centre-for-ukrainian-refugees-over-alleged-unfair-treatment/',\n",
       " 'https://www.breitbart.com/europe/2023/09/06/world-war-iii-has-already-started-declares-ukrainian-security-chief24892812/',\n",
       " 'https://www.breitbart.com/europe/2023/05/02/german-chancellor-warns-ukraine-not-to-attack-russian-territory-with-nato-weapons/',\n",
       " 'https://www.breitbart.com/europe/2023/10/22/former-german-chancellor-claims-biden-administration-blocked-ukraine-from-negotiating-peace-deal-in-2022/',\n",
       " 'https://www.breitbart.com/europe/2023/07/16/ukraine-claims-intensified-fighting-as-putin-brands-counteroffensive-a-failure/',\n",
       " 'https://www.breitbart.com/europe/2022/05/03/food-crisis-millions-of-tons-of-grain-stuck-in-ukraine-as-russias-war-blocks-exports/',\n",
       " 'https://www.breitbart.com/europe/2022/04/07/farage-eu-funding-putins-war-machine-as-bloc-admits-spending-e35bn-on-russian-gas-since-invasion/',\n",
       " 'https://www.breitbart.com/europe/2023/12/07/cash-please-zelensky-aid-begs-u-s-congress-for-more-funding-big-risk-of-losing-war-if-american-money-dries-up/',\n",
       " 'https://www.breitbart.com/europe/2023/02/18/forever-war-german-chancellor-says-west-must-prepare-for-long-war-against-russia/',\n",
       " 'https://www.breitbart.com/europe/2023/03/07/delegation-of-hungarian-lawmakers-back-bid-for-sweden-to-enter-nato/',\n",
       " 'https://www.breitbart.com/europe/2023/09/22/democrat-congresswoman-and-senator-silent-on-giving-awards-to-ukraines-transgender-spokesperson/',\n",
       " 'https://www.breitbart.com/europe/2023/07/20/lithuania-strips-residency-permits-from-russians-with-disloyal-views/',\n",
       " 'https://www.breitbart.com/europe/2022/05/20/polish-pm-promises-military-aid-to-sweden-and-finland-during-nato-application-if-attacked/',\n",
       " 'https://www.breitbart.com/europe/2023/01/13/trudeau-spends-400m-giving-ukraine-air-defence-canadian-army-has-wanted-for-decade/',\n",
       " 'https://www.breitbart.com/europe/2022/12/07/overall-migrant-numbers-in-germany-this-year-expected-to-top-2015-migrant-crisis/',\n",
       " 'https://www.breitbart.com/faith/2022/12/10/ukraine-foreign-minister-vatican-cannot-be-neutral-conflict/',\n",
       " 'https://www.breitbart.com/europe/2022/09/03/germany-will-support-ukraine-no-matter-what-voters-think-says-foreign-minister/',\n",
       " 'https://www.breitbart.com/',\n",
       " 'https://www.breitbart.com/europe/2023/05/08/russia-launches-assault-on-kyiv-with-iranian-made-drones-reports/',\n",
       " 'https://www.breitbart.com/europe/2022/12/25/expert-ukraine-would-not-exist-without-western-weapons-supplies/',\n",
       " 'https://www.breitbart.com/politics/2022/12/21/pelosi-compares-zelensky-addressing-congress-churchill-asking-america-join-wwii/',\n",
       " 'https://www.breitbart.com/europe/2023/04/22/hold-your-horses-hungarys-orban-shoots-down-nato-chiefs-claim-that-all-members-support-admission-of-ukraine/',\n",
       " 'https://www.breitbart.com/europe/2023/07/09/cracking-coalition-uk-and-spain-call-on-biden-to-not-send-cluster-bombs-to-ukraine/',\n",
       " 'https://www.breitbart.com/europe/2023/10/03/from-lisbon-to-luhansk-german-foreign-minister-vows-eu-will-expand-into-russian-controlled-territory-of-ukraine/',\n",
       " 'https://www.breitbart.com/europe/2022/05/24/survey-vast-majority-of-finns-willing-to-fight-for-country-in-case-of-war/',\n",
       " 'https://www.breitbart.com/europe/2023/05/20/zelensky-arrives-in-hiroshima-to-lobby-g7-nations-for-more-military-aid/',\n",
       " 'https://www.breitbart.com/europe/2022/12/01/germanys-scholz-calls-for-re-establishment-of-soviet-era-peace-deals-with-russia/',\n",
       " 'https://www.breitbart.com/europe/2023/09/22/ukraine-missile-strike-hit-russian-black-sea-fleet-headquarters-kremlin-claims/',\n",
       " 'https://www.breitbart.com/europe/2023/09/10/two-foreign-aid-workers-killed-in-moscows-latest-missile-strikes-on-ukraine-two-foreign-aid-workers-killed-in-latest-missile-strikes-on-ukraine/',\n",
       " 'https://www.breitbart.com/europe/2023/09/17/hold-sen-j-d-vance-demands-biden-admin-reveal-if-american-transgender-spokesperson-for-ukraine-military-has-u-s-intel-background-24973742/',\n",
       " 'https://www.breitbart.com/europe/2023/08/26/drone-attack-forces-shutdown-of-all-three-of-moscows-major-airports/',\n",
       " 'https://www.breitbart.com/europe/2023/03/08/russias-wagner-group-claims-major-gains-in-ukrainian-stronghold-of-bakhmut/',\n",
       " 'https://www.breitbart.com/europe/2023/11/19/few-prospects-of-change-to-frontline-in-russia-ukraine-war-says-british-intelligence/',\n",
       " 'https://www.breitbart.com/europe/2022/08/24/pics-uk-shows-solidarity-with-ukraine-with-downing-street-flower-display/',\n",
       " 'https://www.breitbart.com/europe/2023/07/22/russia-targets-ukraines-farm-storage-sites-after-collapse-of-black-sea-grain-deal/',\n",
       " 'https://www.breitbart.com/europe/2023/05/14/zelesnky-meets-with-german-chancellor-scholz-to-discuss-arms-deliveries/',\n",
       " 'https://www.breitbart.com/europe/2023/08/20/zelensky-claims-netherlands-to-send-entire-fleet-of-f-16-fighter-jets-after-meeting-with-dutch-pm/',\n",
       " 'https://www.breitbart.com/europe/2022/06/28/uk-army-chief-calls-for-mobilisation-of-military-compares-russian-invasion-to-world-war-ii-lead-up/',\n",
       " 'https://www.breitbart.com/europe/2022/10/14/finland-preparing-to-evacuate-citizens-along-russian-border-should-war-arise/',\n",
       " 'https://www.breitbart.com/europe/2023/08/28/zelensky-says-he-wont-hold-elections-unless-u-s-and-eu-pay-for-them/',\n",
       " 'https://www.breitbart.com/national-security/2022/10/25/30-democrats-warn-of-nuclear-war-but-say-ukraine-decides-peace-terms/',\n",
       " 'https://www.breitbart.com/europe/2023/04/15/ukraine-bans-national-sports-teams-participating-in-events-with-russians/',\n",
       " 'https://www.breitbart.com/politics/2022/04/14/russias-sanction-of-rep-ted-budd-reaffirms-falsehood-of-pat-mccrory-attack-ad/',\n",
       " 'https://www.breitbart.com/europe/2023/09/19/american-conservative-journalist-jack-posobiec-put-on-enemies-of-ukrainian-list/',\n",
       " 'https://www.breitbart.com/europe/2023/09/18/ukraines-trans-spokesperson-lashes-out-at-sen-vance-for-spreading-gender-chaos-refuses-to-deny-u-s-govt-ties/',\n",
       " 'https://www.breitbart.com/europe/2022/06/28/europol-several-trafficking-schemes-targeting-ukrainian-refugee-women-identified/',\n",
       " 'https://www.breitbart.com/europe/2023/06/18/russia-and-ukraine-suffering-high-casualties-amid-counteroffensive-uk-intel-claims/',\n",
       " 'https://www.breitbart.com/europe/2022/06/29/toxic-masculinity-boris-claims-putin-wouldnt-have-invaded-ukraine-if-he-was-a-woman/',\n",
       " 'https://www.breitbart.com/europe/2023/07/31/kremlin-threatens-to-use-nuclear-weapons-if-ukraine-retakes-russian-land/',\n",
       " 'https://www.breitbart.com/europe/2023/04/16/thousands-of-anti-govt-protesters-rally-in-prague-against-soaring-inflation-support-for-ukraine/',\n",
       " 'https://www.breitbart.com/europe/2022/12/17/poland-to-start-charging-ukrainian-refugees-for-accomodation/',\n",
       " 'https://www.breitbart.com/entertainment/2023/02/21/nolte-critic-ridicule-sean-penns-ukraine-doc-superpower/',\n",
       " 'https://www.breitbart.com/europe/2023/09/23/ukraine-launches-more-missile-strikes-on-crimea-after-black-sea-fleet-hq-bombing/',\n",
       " 'https://www.breitbart.com/europe/2023/08/02/zelensky-predicts-putin-will-die-before-winning-against-ukraine/',\n",
       " 'https://www.breitbart.com/europe/2023/07/07/like-nothing-seen-before-antibiotic-resistant-diseases-in-ukraine-shock-swedish-experts/',\n",
       " 'https://www.breitbart.com/europe/2023/06/04/quarter-of-ukrainian-bomb-shelters-unusable-or-locked-say-officials/',\n",
       " 'https://www.breitbart.com/europe/2022/12/07/spain-intercepts-more-packages-containing-animal-eyes-sent-to-ukraine-consulates/',\n",
       " 'https://www.breitbart.com/europe/2023/05/07/watchdog-warns-of-increased-risk-of-severe-accident-at-ukrainian-nuclear-power-plant/',\n",
       " 'https://www.breitbart.com/europe/2022/04/16/people-of-the-west-should-pay-more-to-help-germany-get-off-russian-gas-says-former-uk-army-chief/',\n",
       " 'https://www.breitbart.com/europe/2022/05/11/united-kingdom-signs-defence-pledge-to-protect-sweden-from-russia/',\n",
       " 'https://www.breitbart.com/politics/2022/04/25/u-s-secretaries-of-state-and-defense-visit-ukraine-pledge-military-aid/',\n",
       " 'https://www.breitbart.com/economy/2022/09/29/congresss-military-aid-to-ukraine-to-hit-65-billion/',\n",
       " 'https://www.breitbart.com/europe/2022/06/07/frontex-more-ukrainian-refugees-now-going-home-than-leaving/',\n",
       " 'https://www.breitbart.com/europe/2022/05/18/turkey-blocks-nato-membership-talks-for-sweden-and-norway/',\n",
       " 'https://www.breitbart.com/europe/2022/07/22/a-third-of-germans-want-apology-from-merkel-over-energy-crisis/',\n",
       " 'https://www.breitbart.com/europe/2023/05/14/zelensky-claims-counteroffensive-wont-include-attacks-on-russian-mainland/',\n",
       " 'https://www.breitbart.com/europe/2023/08/01/elon-musk-shut-down-starlink-access-for-ukrainian-drone-attack-plot-against-russian-navy-report/',\n",
       " 'https://www.breitbart.com/europe/2022/12/06/europe-puts-scruples-aside-imports-record-levels-of-russian-liquid-natural-gas/',\n",
       " 'https://www.breitbart.com/europe/2023/06/10/zelensky-admits-ukrainian-counteroffensive-has-begun-against-the-russians/',\n",
       " 'https://www.breitbart.com/europe/2023/05/28/russia-launches-largest-drone-strike-on-kyiv-ukrainians-claim/',\n",
       " 'https://www.breitbart.com/europe/2023/03/25/wwiii-watch-vladimir-putin-announces-russia-will-station-tactical-nukes-in-belarus/',\n",
       " 'https://www.breitbart.com/europe/2023/06/17/russia-takes-advantage-along-southern-front-in-ukraine-with-attack-helicopters-uk-military-intel/',\n",
       " 'https://www.breitbart.com/europe/2022/04/14/finland-and-sweden-may-apply-to-join-nato-as-early-as-summer/',\n",
       " 'https://www.breitbart.com/europe/2023/02/01/croatian-president-breaks-nato-ranks-crimea-will-never-return-to-ukraine/',\n",
       " 'https://www.breitbart.com/europe/2022/10/27/eu-worried-about-risk-of-weapons-smuggling-from-ukraine-war/',\n",
       " 'https://www.breitbart.com/europe/2023/06/10/trudeau-to-the-rescue-justin-flies-to-kyiv-to-meet-with-zelensky-as-canada-burns/',\n",
       " 'https://www.breitbart.com/politics/2022/10/11/trump-to-biden-start-talks-on-ukraine-to-prevent-world-war-iii/',\n",
       " 'https://www.breitbart.com/europe/2023/05/22/ukraine-does-not-meet-nato-membership-requirements-says-german-chancellor-scholz/',\n",
       " 'https://www.breitbart.com/europe/2023/10/21/russian-shelling-kills-at-least-two-civilians-ukraine-claims/',\n",
       " 'https://www.breitbart.com/politics/2023/02/21/american-skepticism-grows-as-ukraine-war-approaches-one-year-mark/',\n",
       " 'https://www.breitbart.com/europe/2023/04/15/digital-prison-camp-putin-signs-electronic-conscription-bill-into-law/',\n",
       " 'https://www.breitbart.com/europe/2022/09/09/ukraine-claims-military-breakthrough-against-russia-as-u-s-pledges-more-aid/',\n",
       " 'https://www.breitbart.com/politics/2023/02/26/treasury-secretary-janet-yellen-says-u-s-will-provide-10b-ukraine-coming-months/',\n",
       " 'https://www.breitbart.com/europe/2023/08/27/three-ukrainian-fighter-pilots-killed-in-midair-collision/',\n",
       " 'https://www.breitbart.com/europe/2023/12/04/nato-chief-warns-of-bad-news-for-ukraine-after-failed-counteroffensive/',\n",
       " 'https://www.breitbart.com/entertainment/2023/07/28/filmmaker-oliver-stone-regrets-voting-for-joe-biden-i-made-a-mistake/',\n",
       " 'https://www.breitbart.com/europe/2022/12/28/nord-stream-2-pipeline-firm-receives-half-year-stay-from-bankruptcy/',\n",
       " 'https://www.breitbart.com/europe/2023/08/28/poland-and-baltic-states-threaten-to-shut-border-with-russian-ally-belarus/',\n",
       " 'https://www.breitbart.com/europe/2023/06/27/ukraine-has-highly-likely-retaken-territory-occupied-by-russia-since-2014-for-first-time-uk-intel/',\n",
       " 'https://www.breitbart.com/europe/2023/06/24/wagner-forces-reach-area-just-south-of-moscow-according-to-local-governor/',\n",
       " 'https://www.breitbart.com/europe/2023/02/27/russia-remained-germanys-top-coal-supplier-despite-eu-sanctions/',\n",
       " 'https://www.breitbart.com/europe/2022/07/16/around-half-ukrainians-who-fled-european-union-have-now-returned/',\n",
       " 'https://www.breitbart.com/europe/2023/08/29/natos-strategy-in-ukraine-has-failed-says-former-italian-pm/',\n",
       " 'https://www.breitbart.com/europe/2023/01/27/too-many-muslims-ukrainians-fleeing-war-scared-of-living-in-multicultural-england/',\n",
       " 'https://www.breitbart.com/europe/2023/01/18/wef-war-party-finlands-millennial-pm-backs-supporting-ukraine-for-15-years/',\n",
       " 'https://www.breitbart.com/europe/2023/08/13/russia-may-no-longer-be-funding-mercenary-wagner-group-claims-uk-military-intelligence/',\n",
       " 'https://www.breitbart.com/europe/2023/08/05/ukraine-strikes-black-sea-russian-oil-tanker-with-drones/',\n",
       " 'https://www.breitbart.com/europe/2022/05/01/united-states-military-training-ukrainian-soldiers-in-germany-pentagon-reveals/',\n",
       " 'https://www.breitbart.com/europe/2023/12/03/former-ukrainian-president-poroshenko-blocked-from-leaving-country-over-alleged-russian-plot/',\n",
       " 'https://www.breitbart.com/europe/2023/03/16/russia-has-placed-15-million-bounty-on-our-defence-ministers-head-says-italy/',\n",
       " 'https://www.breitbart.com/europe/2023/02/23/swedish-military-intelligence-warns-of-palpable-russian-military-threat/',\n",
       " 'https://www.breitbart.com/europe/2023/03/01/greek-foreign-minister-calls-for-immediate-end-to-ukraine-war-without-conditions/',\n",
       " 'https://www.breitbart.com/europe/2022/10/11/lukashenko-orders-belarusian-troops-to-join-russian-allies-in-ukraine-border-build-up/',\n",
       " 'https://www.breitbart.com/europe/2022/06/19/german-chancellor-says-west-will-support-ukraine-as-long-as-necessary/',\n",
       " 'https://www.breitbart.com/europe/2023/07/31/zelensky-declares-it-is-absolutely-fair-for-ukraine-to-attack-targets-in-russian-mainland/',\n",
       " 'https://www.breitbart.com/europe/2023/02/08/nothing-off-the-table-british-pm-considering-sending-fighter-jets-to-ukraine-amid-pressure-from-boris-and-zelenksy/',\n",
       " 'https://www.breitbart.com/europe/2022/10/14/war-of-words-russian-army-will-be-annihilated-if-putin-uses-nukes-says-eus-top-diplomat/',\n",
       " 'https://www.breitbart.com/europe/2023/09/13/call-of-history-eu-chief-backs-ukraine-to-join-bloc-during-state-of-the-union-address24944267/',\n",
       " 'https://www.breitbart.com/europe/2022/10/20/uk-claims-russian-missile-fired-near-royal-air-force-fighter-jet-over-the-black-sea/',\n",
       " 'https://www.breitbart.com/europe/2023/07/15/wagner-paramilitary-troops-training-lukashenkos-army-in-belarus/',\n",
       " 'https://www.breitbart.com/politics/2023/10/24/exclusive-former-commander-afghanistan-israel-facing-war-fronts-arab-states-quietly-root-jihadist-defeat/',\n",
       " 'https://www.breitbart.com/europe/2023/08/19/romania-and-ukraine-sign-accord-to-boost-kyivs-grain-exports-through-romanian-territory/',\n",
       " 'https://www.breitbart.com/europe/2023/10/07/ukrainian-village-decimated-as-precision-missile-strikes-funeral-for-dead-soldier/',\n",
       " 'https://www.breitbart.com/europe/2022/12/18/under-50-per-cent-of-greeks-now-support-eu-stance-on-ukraine/',\n",
       " 'https://www.breitbart.com/europe/2023/03/05/polish-woman-faces-five-years-in-prison-for-praising-putin-russian-invasion-of-ukraine/',\n",
       " 'https://www.breitbart.com/europe/2022/05/22/germany-prepares-for-gas-rationing-as-finland-claims-russia-cut-off-supplies/',\n",
       " 'https://www.breitbart.com/europe/2023/06/25/theatre-of-war-wagner-could-stage-surprise-attack-against-ukraine-from-belarus-warns-former-uk-army-chief/',\n",
       " 'https://www.breitbart.com/politics/2023/01/19/exclusive-sen-vance-rep-bishop-lead-letter-demanding-biden-admin-produce-report-all-ukraine-related-appropriations/',\n",
       " 'https://www.breitbart.com/europe/2023/02/24/nato-compares-ukrainian-war-to-harry-potter-marvel-movies-and-star-wars/',\n",
       " 'https://www.breitbart.com/europe/2022/04/30/claim-major-german-and-italian-energy-firms-preparing-to-pay-for-russian-gas-in-roubles/',\n",
       " 'https://www.breitbart.com/europe/2022/06/15/pakistani-migrant-accused-of-sexually-abusing-six-year-old-ukrainian-refugee/',\n",
       " 'https://www.breitbart.com/europe/2023/07/23/lukashenko-tells-putin-wagner-group-mercenaries-are-looking-to-go-on-tour-in-poland/',\n",
       " 'https://www.breitbart.com/europe/2023/08/06/russia-launches-retaliatory-strikes-on-ukraine-after-black-sea-tanker-drone-attack/',\n",
       " 'https://www.breitbart.com/europe/2023/09/20/cracking-coalition-polish-president-duda-snubs-zelensky-at-u-n-calls-ukraine-a-drowning-man/',\n",
       " 'https://www.breitbart.com/europe/2023/05/31/wagner-chief-denies-mercenary-group-plotting-coup-against-putin/',\n",
       " 'https://www.breitbart.com/europe/2023/09/06/manhunt-launched-after-10-year-old-boy-thrown-from-bridge-for-speaking-ukrainian24882922/',\n",
       " 'https://www.breitbart.com/europe/2023/01/21/belgian-couple-who-hosted-refugees-left-with-36k-euros-in-damages/',\n",
       " 'https://www.breitbart.com/europe/2022/06/26/finland-general-tells-russia-his-country-would-offer-stiff-resistance-if-attacked/',\n",
       " 'https://www.breitbart.com/europe/2022/12/10/major-war-between-russia-and-west-could-break-out-over-ukraine-warns-nato-chief/',\n",
       " 'https://www.breitbart.com/europe/2023/07/23/russian-strike-on-odesa-leaves-one-dead-dozens-injured-and-historic-cathedral-badly-damaged/',\n",
       " 'https://www.breitbart.com/europe/2023/04/12/poland-promises-controls-on-cheap-ukrainian-grain-amid-farmer-protests/',\n",
       " 'https://www.breitbart.com/politics/2022/10/26/democrat-declares-woke-war-one-against-russia/',\n",
       " 'https://www.breitbart.com/europe/2023/08/26/russian-shelling-leaves-two-civilians-as-it-increases-intensity-of-offensive-efforts/',\n",
       " 'https://www.breitbart.com/europe/2022/11/26/exclusive-western-leaders-have-misplaced-optimism-in-ukraines-ability-to-defeat-russia-says-german-mep/',\n",
       " 'https://www.breitbart.com/europe/2022/10/12/russia-arrests-8-over-crimea-bridge-attack-claims-ukrainian-defence-ministry-orchestrated-bombing/',\n",
       " 'https://www.breitbart.com/europe/2022/08/24/zelensky-vows-to-fight-until-the-end-without-any-concession-on-ukrainian-independence-day/',\n",
       " 'https://www.breitbart.com/europe/2022/08/28/pics-latvia-demolishes-controversial-soviet-communist-era-war-memorial-in-capital/',\n",
       " 'https://www.breitbart.com/europe/2022/04/23/greece-ends-weapon-shipments-to-ukraine-cites-need-for-own-defence/',\n",
       " 'https://www.breitbart.com/europe/2022/04/06/czechia-becomes-first-nato-country-to-ship-tanks-to-ukraine-reports/',\n",
       " 'https://www.breitbart.com/europe/2023/09/11/ukraines-counteroffensive-only-has-a-month-left-predicts-gen-mark-milley24922777/',\n",
       " 'https://www.breitbart.com/europe/2022/09/02/european-union-meeting-gas-needs-by-turning-to-communist-china-which-has-bought-surplus-supplies-from-russia/',\n",
       " 'https://www.breitbart.com/europe/2023/05/29/russia-launches-rare-daytime-missile-strike-on-ukrainian-capital-kyiv/',\n",
       " 'https://www.breitbart.com/economy/2023/09/22/breitbart-business-digest-russias-diesel-export-ban-highlights-the-weakness-of-bidens-financial-war/',\n",
       " 'https://www.breitbart.com/politics/2022/10/16/nukes-in-ukraine-no-probs-said-biden-ally/',\n",
       " 'https://www.breitbart.com/europe/2023/09/12/largest-nato-war-games-exercise-since-cold-war-to-see-40000-troops-prep-for-russian-invasion/',\n",
       " 'https://www.breitbart.com/europe/2023/04/08/pics-eastern-european-farmers-protest-massive-influx-of-ukrainian-grain/',\n",
       " 'https://www.breitbart.com/europe/2023/03/03/german-defence-minister-admits-military-is-not-capable-of-the-country/']"
      ]
     },
     "execution_count": 16,
     "metadata": {},
     "output_type": "execute_result"
    }
   ],
   "source": [
    "all_links"
   ]
  },
  {
   "cell_type": "markdown",
   "id": "5ce3a255",
   "metadata": {},
   "source": [
    "There are urls for breitbart and its store which is not relevant to us, so they are removed. The len function is used to see if they have been removed from the list, which we can see that it is. "
   ]
  },
  {
   "cell_type": "code",
   "execution_count": 17,
   "id": "217f902a",
   "metadata": {},
   "outputs": [
    {
     "data": {
      "text/plain": [
       "416"
      ]
     },
     "execution_count": 17,
     "metadata": {},
     "output_type": "execute_result"
    }
   ],
   "source": [
    "len(all_links)"
   ]
  },
  {
   "cell_type": "code",
   "execution_count": 18,
   "id": "2f9730a8",
   "metadata": {},
   "outputs": [],
   "source": [
    "urls_to_remove = {'https://www.breitbart.com/', 'https://store.breitbart.com/'}\n",
    "\n",
    "# Assuming all_links is the list of URLs\n",
    "filtered_links = [link for link in all_links if link not in urls_to_remove]"
   ]
  },
  {
   "cell_type": "code",
   "execution_count": 19,
   "id": "bf61a186",
   "metadata": {},
   "outputs": [
    {
     "data": {
      "text/plain": [
       "414"
      ]
     },
     "execution_count": 19,
     "metadata": {},
     "output_type": "execute_result"
    }
   ],
   "source": [
    "len(filtered_links)"
   ]
  },
  {
   "cell_type": "code",
   "execution_count": 20,
   "id": "ce045ae3",
   "metadata": {},
   "outputs": [],
   "source": [
    "article_titles = []\n",
    "article_date = []\n",
    "article_datetime = []\n",
    "article_text = []\n",
    "\n",
    "for link in filtered_links:\n",
    "    article = rq.get(link)\n",
    "    article_html = article.text\n",
    "\n",
    "    # parsing the page using beautifulsoup\n",
    "    article_soup = BeautifulSoup(article_html)\n",
    "    \n",
    "    # title\n",
    "    title = article_soup.title.text\n",
    "    article_titles.append(title)\n",
    "    \n",
    "    # date\n",
    "    date = article_soup.time.text\n",
    "    article_date.append(date)\n",
    "    # datetime\n",
    "    datetime_value = article_soup.find('time')['datetime']\n",
    "    article_datetime.append(datetime_value)\n",
    "\n",
    "    #text \n",
    "    d = article_soup.find_all('p')\n",
    "    text = get_article_text(d)\n",
    "    article_text.append(text)"
   ]
  },
  {
   "cell_type": "code",
   "execution_count": 21,
   "id": "d4652074",
   "metadata": {
    "scrolled": true
   },
   "outputs": [
    {
     "data": {
      "text/plain": [
       "414"
      ]
     },
     "execution_count": 21,
     "metadata": {},
     "output_type": "execute_result"
    }
   ],
   "source": [
    "len(article_titles)"
   ]
  },
  {
   "cell_type": "code",
   "execution_count": 23,
   "id": "a46d01b0",
   "metadata": {
    "scrolled": false
   },
   "outputs": [
    {
     "data": {
      "text/html": [
       "<div>\n",
       "<style scoped>\n",
       "    .dataframe tbody tr th:only-of-type {\n",
       "        vertical-align: middle;\n",
       "    }\n",
       "\n",
       "    .dataframe tbody tr th {\n",
       "        vertical-align: top;\n",
       "    }\n",
       "\n",
       "    .dataframe thead th {\n",
       "        text-align: right;\n",
       "    }\n",
       "</style>\n",
       "<table border=\"1\" class=\"dataframe\">\n",
       "  <thead>\n",
       "    <tr style=\"text-align: right;\">\n",
       "      <th></th>\n",
       "      <th>URL</th>\n",
       "      <th>Title</th>\n",
       "      <th>Date</th>\n",
       "      <th>Datetime</th>\n",
       "      <th>Text</th>\n",
       "    </tr>\n",
       "  </thead>\n",
       "  <tbody>\n",
       "    <tr>\n",
       "      <th>9</th>\n",
       "      <td>https://www.breitbart.com/faith/2022/03/19/pop...</td>\n",
       "      <td>Pope Francis: ‘There Is No Such Thing as a Jus...</td>\n",
       "      <td>19 Mar 2022</td>\n",
       "      <td>2022-03-19T09:30:38Z</td>\n",
       "      <td>ROME — Pope Francis said Friday that we are us...</td>\n",
       "    </tr>\n",
       "    <tr>\n",
       "      <th>228</th>\n",
       "      <td>https://www.breitbart.com/europe/2022/03/22/pi...</td>\n",
       "      <td>Pics: Ukraine Claims to Retake Kyiv Suburb, Ba...</td>\n",
       "      <td>22 Mar 2022</td>\n",
       "      <td>2022-03-22T05:27:35Z</td>\n",
       "      <td>KYIV, Ukraine (AP) – Ukraine said it retook a ...</td>\n",
       "    </tr>\n",
       "    <tr>\n",
       "      <th>168</th>\n",
       "      <td>https://www.breitbart.com/europe/2022/03/31/eu...</td>\n",
       "      <td>EU Members Agree To 10-Point Plan To Settle Uk...</td>\n",
       "      <td>31 Mar 2022</td>\n",
       "      <td>2022-03-31T01:35:38Z</td>\n",
       "      <td>European Union member state Interior Ministers...</td>\n",
       "    </tr>\n",
       "    <tr>\n",
       "      <th>49</th>\n",
       "      <td>https://www.breitbart.com/europe/2022/04/06/ca...</td>\n",
       "      <td>Car Rams Russian Embassy in Romania with 'Flam...</td>\n",
       "      <td>6 Apr 2022</td>\n",
       "      <td>2022-04-06T03:59:46Z</td>\n",
       "      <td>BUCHAREST, Romania (AP) – A car carrying conta...</td>\n",
       "    </tr>\n",
       "    <tr>\n",
       "      <th>214</th>\n",
       "      <td>https://www.breitbart.com/europe/2022/04/06/eu...</td>\n",
       "      <td>EU, US, UK Prepare More Russian Sanctions over...</td>\n",
       "      <td>6 Apr 2022</td>\n",
       "      <td>2022-04-06T04:20:39Z</td>\n",
       "      <td>BRUSSELS (AP) – The United States, United King...</td>\n",
       "    </tr>\n",
       "  </tbody>\n",
       "</table>\n",
       "</div>"
      ],
      "text/plain": [
       "                                                   URL  \\\n",
       "9    https://www.breitbart.com/faith/2022/03/19/pop...   \n",
       "228  https://www.breitbart.com/europe/2022/03/22/pi...   \n",
       "168  https://www.breitbart.com/europe/2022/03/31/eu...   \n",
       "49   https://www.breitbart.com/europe/2022/04/06/ca...   \n",
       "214  https://www.breitbart.com/europe/2022/04/06/eu...   \n",
       "\n",
       "                                                 Title         Date  \\\n",
       "9    Pope Francis: ‘There Is No Such Thing as a Jus...  19 Mar 2022   \n",
       "228  Pics: Ukraine Claims to Retake Kyiv Suburb, Ba...  22 Mar 2022   \n",
       "168  EU Members Agree To 10-Point Plan To Settle Uk...  31 Mar 2022   \n",
       "49   Car Rams Russian Embassy in Romania with 'Flam...   6 Apr 2022   \n",
       "214  EU, US, UK Prepare More Russian Sanctions over...   6 Apr 2022   \n",
       "\n",
       "                 Datetime                                               Text  \n",
       "9    2022-03-19T09:30:38Z  ROME — Pope Francis said Friday that we are us...  \n",
       "228  2022-03-22T05:27:35Z  KYIV, Ukraine (AP) – Ukraine said it retook a ...  \n",
       "168  2022-03-31T01:35:38Z  European Union member state Interior Ministers...  \n",
       "49   2022-04-06T03:59:46Z  BUCHAREST, Romania (AP) – A car carrying conta...  \n",
       "214  2022-04-06T04:20:39Z  BRUSSELS (AP) – The United States, United King...  "
      ]
     },
     "execution_count": 23,
     "metadata": {},
     "output_type": "execute_result"
    }
   ],
   "source": [
    "#turn list into df\n",
    "# article_titles\n",
    "# article_date\n",
    "# article_datetime\n",
    "# article_text\n",
    "# filtered_text_list\n",
    "\n",
    "data = {\n",
    "    'URL': filtered_links,\n",
    "    'Title': article_titles,\n",
    "    'Date': article_date,\n",
    "    'Datetime': article_datetime,\n",
    "    'Text': article_text,\n",
    "#     'filtered_text_list': filtered_text_list\n",
    "}\n",
    "\n",
    "# create df from dictionary\n",
    "df_ukraine_russia = pd.DataFrame(data)\n",
    "df_ukraine_russia = df_ukraine_russia.sort_values(by='Datetime')\n",
    "df_ukraine_russia.head()"
   ]
  },
  {
   "cell_type": "markdown",
   "id": "5eda4abd",
   "metadata": {},
   "source": [
    "### Ukraine tag"
   ]
  },
  {
   "cell_type": "markdown",
   "id": "e6456023",
   "metadata": {},
   "source": [
    "There are a lot more articles for Ukraine than for the Ukraine-Russia war. Through a qualitative check, the num_pages is set to 101 as that starts from the date we are looking at from August 2021."
   ]
  },
  {
   "cell_type": "code",
   "execution_count": 25,
   "id": "ca22e1cf",
   "metadata": {},
   "outputs": [],
   "source": [
    "all_links_ukraine = set() #store as set to only get unique links\n",
    "num_pages_ukraine = 101\n",
    "base_url_ukraine = \"https://www.breitbart.com/tag/ukraine\"\n",
    "\n",
    "for page_num in range(1, num_pages_ukraine + 1):\n",
    "    url = f\"{base_url_ukraine}/page/{page_num}/\" if page_num > 1 else base_url_ukraine\n",
    "    response = rq.get(url)\n",
    "    urls = extract_urls_from_h2(url)\n",
    "    all_links_ukraine.update(urls) \n",
    "        \n",
    "all_links_ukraine = list(all_links_ukraine)"
   ]
  },
  {
   "cell_type": "code",
   "execution_count": 26,
   "id": "aac4d4c0",
   "metadata": {},
   "outputs": [
    {
     "data": {
      "text/plain": [
       "4042"
      ]
     },
     "execution_count": 26,
     "metadata": {},
     "output_type": "execute_result"
    }
   ],
   "source": [
    "len(all_links_ukraine)"
   ]
  },
  {
   "cell_type": "code",
   "execution_count": 27,
   "id": "42ef2355",
   "metadata": {},
   "outputs": [],
   "source": [
    "urls_to_remove = {'https://www.breitbart.com/', 'https://store.breitbart.com/'}\n",
    "\n",
    "# Assuming all_links is the list of URLs\n",
    "filtered_links_ukraine = [link for link in all_links_ukraine if link not in urls_to_remove]"
   ]
  },
  {
   "cell_type": "code",
   "execution_count": 28,
   "id": "05c29813",
   "metadata": {
    "scrolled": true
   },
   "outputs": [
    {
     "data": {
      "text/plain": [
       "4040"
      ]
     },
     "execution_count": 28,
     "metadata": {},
     "output_type": "execute_result"
    }
   ],
   "source": [
    "len(filtered_links_ukraine)"
   ]
  },
  {
   "cell_type": "code",
   "execution_count": 29,
   "id": "893d63ed",
   "metadata": {},
   "outputs": [],
   "source": [
    "for link in filtered_links_ukraine:\n",
    "    article = rq.get(link)\n",
    "    article_html = article.text\n",
    "\n",
    "    # parsing the page using beautifulsoup\n",
    "    article_soup = BeautifulSoup(article_html)\n",
    "    \n",
    "    # title\n",
    "    title = article_soup.title.text\n",
    "    article_titles.append(title)\n",
    "    \n",
    "    # date\n",
    "    date = article_soup.time.text\n",
    "    article_date.append(date)\n",
    "    # datetime\n",
    "    datetime_value = article_soup.find('time')['datetime']\n",
    "    article_datetime.append(datetime_value)\n",
    "\n",
    "    #text \n",
    "    d = article_soup.find_all('p')\n",
    "    text = get_article_text(d)\n",
    "    article_text.append(text)"
   ]
  },
  {
   "cell_type": "markdown",
   "id": "ff10d7fe",
   "metadata": {},
   "source": [
    "### Russia tag"
   ]
  },
  {
   "cell_type": "code",
   "execution_count": 30,
   "id": "65abd968",
   "metadata": {},
   "outputs": [],
   "source": [
    "# page 105\n",
    "all_links_rus = set() #store as set to only get unique links\n",
    "num_pages_rus = 105\n",
    "base_url_rus = \"https://www.breitbart.com/tag/russia\"\n",
    "\n",
    "for page_num in range(1, num_pages_rus + 1):\n",
    "    url = f\"{base_url_rus}/page/{page_num}/\" if page_num > 1 else base_url_rus\n",
    "    response = rq.get(url)\n",
    "    urls = extract_urls_from_h2(url)\n",
    "    all_links_rus.update(urls) \n",
    "        \n",
    "all_links_rus = list(all_links_rus)"
   ]
  },
  {
   "cell_type": "code",
   "execution_count": 31,
   "id": "608dfdde",
   "metadata": {},
   "outputs": [
    {
     "data": {
      "text/plain": [
       "4202"
      ]
     },
     "execution_count": 31,
     "metadata": {},
     "output_type": "execute_result"
    }
   ],
   "source": [
    "len(all_links_rus)"
   ]
  },
  {
   "cell_type": "code",
   "execution_count": 32,
   "id": "5d858116",
   "metadata": {},
   "outputs": [],
   "source": [
    "urls_to_remove = {'https://www.breitbart.com/', 'https://store.breitbart.com/'}\n",
    "\n",
    "# Assuming all_links is the list of URLs\n",
    "filtered_links_rus = [link for link in all_links_rus if link not in urls_to_remove]"
   ]
  },
  {
   "cell_type": "code",
   "execution_count": 33,
   "id": "99d25d20",
   "metadata": {},
   "outputs": [
    {
     "data": {
      "text/plain": [
       "4200"
      ]
     },
     "execution_count": 33,
     "metadata": {},
     "output_type": "execute_result"
    }
   ],
   "source": [
    "len(filtered_links_rus)"
   ]
  },
  {
   "cell_type": "code",
   "execution_count": 34,
   "id": "b88d8c38",
   "metadata": {},
   "outputs": [],
   "source": [
    "for link in filtered_links_rus:\n",
    "    article = rq.get(link)\n",
    "    article_html = article.text\n",
    "\n",
    "    # parsing the page using beautifulsoup\n",
    "    article_soup = BeautifulSoup(article_html)\n",
    "    \n",
    "    # title\n",
    "    title = article_soup.title.text\n",
    "    article_titles.append(title)\n",
    "    \n",
    "    # date\n",
    "    date = article_soup.time.text\n",
    "    article_date.append(date)\n",
    "    # datetime\n",
    "    datetime_value = article_soup.find('time')['datetime']\n",
    "    article_datetime.append(datetime_value)\n",
    "\n",
    "    #text \n",
    "    d = article_soup.find_all('p')\n",
    "    text = get_article_text(d)\n",
    "    article_text.append(text)"
   ]
  },
  {
   "cell_type": "markdown",
   "id": "11c9ffc9",
   "metadata": {},
   "source": [
    "### Combine to make df"
   ]
  },
  {
   "cell_type": "code",
   "execution_count": 35,
   "id": "b1a3b2cd",
   "metadata": {},
   "outputs": [],
   "source": [
    "# removing commenting and copyright text from all articles\n",
    "text_to_remove = \"Please let us know if you're having issues with commenting.  \\xa0   \\xa0 \\n\\n\\n\\n\\n\\n\\n Copyright © 2023 Breitbart\"\n",
    "\n",
    "for i in range(len(article_text)):\n",
    "    article_text[i] = article_text[i].replace(text_to_remove, \"\")"
   ]
  },
  {
   "cell_type": "code",
   "execution_count": 38,
   "id": "49427e38",
   "metadata": {},
   "outputs": [
    {
     "data": {
      "text/html": [
       "<div>\n",
       "<style scoped>\n",
       "    .dataframe tbody tr th:only-of-type {\n",
       "        vertical-align: middle;\n",
       "    }\n",
       "\n",
       "    .dataframe tbody tr th {\n",
       "        vertical-align: top;\n",
       "    }\n",
       "\n",
       "    .dataframe thead th {\n",
       "        text-align: right;\n",
       "    }\n",
       "</style>\n",
       "<table border=\"1\" class=\"dataframe\">\n",
       "  <thead>\n",
       "    <tr style=\"text-align: right;\">\n",
       "      <th></th>\n",
       "      <th>URL</th>\n",
       "      <th>Title</th>\n",
       "      <th>Date</th>\n",
       "      <th>Datetime</th>\n",
       "      <th>Text</th>\n",
       "    </tr>\n",
       "  </thead>\n",
       "  <tbody>\n",
       "    <tr>\n",
       "      <th>2902</th>\n",
       "      <td>https://www.breitbart.com/national-security/20...</td>\n",
       "      <td>Hunter Biden's Father Says Ukraine Too Corrupt...</td>\n",
       "      <td>15 Jun 2021</td>\n",
       "      <td>2021-06-15T07:43:24Z</td>\n",
       "      <td>President Joe Biden dismissed the possibility ...</td>\n",
       "    </tr>\n",
       "    <tr>\n",
       "      <th>1024</th>\n",
       "      <td>https://www.breitbart.com/politics/2021/06/18/...</td>\n",
       "      <td>WH Halted Lethal Aid Package to Ukraine Before...</td>\n",
       "      <td>18 Jun 2021</td>\n",
       "      <td>2021-06-18T11:53:22Z</td>\n",
       "      <td>President Joe Biden’s White House halted a pro...</td>\n",
       "    </tr>\n",
       "    <tr>\n",
       "      <th>896</th>\n",
       "      <td>https://www.breitbart.com/asia/2021/06/18/ukra...</td>\n",
       "      <td>Ukraine Claims to Have Suffered 50,000 Cyberat...</td>\n",
       "      <td>18 Jun 2021</td>\n",
       "      <td>2021-06-18T14:09:38Z</td>\n",
       "      <td>Ukraine’s State Service for Special Communicat...</td>\n",
       "    </tr>\n",
       "    <tr>\n",
       "      <th>2645</th>\n",
       "      <td>https://www.breitbart.com/national-security/20...</td>\n",
       "      <td>Pollak: What Biden Did to Ukraine Is Worse tha...</td>\n",
       "      <td>18 Jun 2021</td>\n",
       "      <td>2021-06-18T18:12:59Z</td>\n",
       "      <td>President Joe Biden’s administration allegedly...</td>\n",
       "    </tr>\n",
       "    <tr>\n",
       "      <th>5456</th>\n",
       "      <td>https://www.breitbart.com/asia/2021/06/21/russ...</td>\n",
       "      <td>Russians Rank Stalin, Hitler, Putin in 'Histor...</td>\n",
       "      <td>21 Jun 2021</td>\n",
       "      <td>2021-06-21T12:24:12Z</td>\n",
       "      <td>Russia’s independent Levada Center published t...</td>\n",
       "    </tr>\n",
       "  </tbody>\n",
       "</table>\n",
       "</div>"
      ],
      "text/plain": [
       "                                                    URL  \\\n",
       "2902  https://www.breitbart.com/national-security/20...   \n",
       "1024  https://www.breitbart.com/politics/2021/06/18/...   \n",
       "896   https://www.breitbart.com/asia/2021/06/18/ukra...   \n",
       "2645  https://www.breitbart.com/national-security/20...   \n",
       "5456  https://www.breitbart.com/asia/2021/06/21/russ...   \n",
       "\n",
       "                                                  Title         Date  \\\n",
       "2902  Hunter Biden's Father Says Ukraine Too Corrupt...  15 Jun 2021   \n",
       "1024  WH Halted Lethal Aid Package to Ukraine Before...  18 Jun 2021   \n",
       "896   Ukraine Claims to Have Suffered 50,000 Cyberat...  18 Jun 2021   \n",
       "2645  Pollak: What Biden Did to Ukraine Is Worse tha...  18 Jun 2021   \n",
       "5456  Russians Rank Stalin, Hitler, Putin in 'Histor...  21 Jun 2021   \n",
       "\n",
       "                  Datetime                                               Text  \n",
       "2902  2021-06-15T07:43:24Z  President Joe Biden dismissed the possibility ...  \n",
       "1024  2021-06-18T11:53:22Z  President Joe Biden’s White House halted a pro...  \n",
       "896   2021-06-18T14:09:38Z  Ukraine’s State Service for Special Communicat...  \n",
       "2645  2021-06-18T18:12:59Z  President Joe Biden’s administration allegedly...  \n",
       "5456  2021-06-21T12:24:12Z  Russia’s independent Levada Center published t...  "
      ]
     },
     "execution_count": 38,
     "metadata": {},
     "output_type": "execute_result"
    }
   ],
   "source": [
    "#turn list into df\n",
    "# article_titles\n",
    "# article_date\n",
    "# article_datetime\n",
    "# article_text\n",
    "# filtered_text_list\n",
    "\n",
    "data = {\n",
    "    'URL': filtered_links + filtered_links_ukraine + filtered_links_rus,\n",
    "    'Title': article_titles,\n",
    "    'Date': article_date,\n",
    "    'Datetime': article_datetime,\n",
    "    'Text': article_text,\n",
    "#     'filtered_text_list': filtered_text_list\n",
    "}\n",
    "\n",
    "# create df from dictionary\n",
    "df_all = pd.DataFrame(data)\n",
    "df_all = df_all.sort_values(by='Datetime')\n",
    "df_all.head()"
   ]
  },
  {
   "cell_type": "code",
   "execution_count": 39,
   "id": "d56e7669",
   "metadata": {},
   "outputs": [
    {
     "data": {
      "text/plain": [
       "(8654, 5)"
      ]
     },
     "execution_count": 39,
     "metadata": {},
     "output_type": "execute_result"
    }
   ],
   "source": [
    "df_all.shape"
   ]
  },
  {
   "cell_type": "code",
   "execution_count": 40,
   "id": "0708fdde",
   "metadata": {},
   "outputs": [],
   "source": [
    "# saving df_all to excel\n",
    "df_all.to_excel('all_bb_articles.xlsx')"
   ]
  },
  {
   "cell_type": "markdown",
   "id": "76641214",
   "metadata": {},
   "source": [
    "We can look at stance towards Zelensky - positive or negative. Sentiment analysis - stance. Take sentences where they are mentioned and look at the stance - we can also manual code it. Do it on a sentence level. Label a few hundred and fine tune the model to train the model. Stance detection and what we are expecting. CHatGPT is the best classifier available, but we have to pay for it.\n",
    "- Warner group for example\n",
    "\n",
    "Google colab to run larger models.\n",
    "\n",
    "Don't forget to connect to concepts and theories - but don't force it. Peach-war, are negotiations mentioned, which sources are saying that?\n",
    "\n",
    "Models - interrupted time series, event and check the difference. How external shocks change something."
   ]
  }
 ],
 "metadata": {
  "kernelspec": {
   "display_name": "Python 3 (ipykernel)",
   "language": "python",
   "name": "python3"
  },
  "language_info": {
   "codemirror_mode": {
    "name": "ipython",
    "version": 3
   },
   "file_extension": ".py",
   "mimetype": "text/x-python",
   "name": "python",
   "nbconvert_exporter": "python",
   "pygments_lexer": "ipython3",
   "version": "3.9.7"
  }
 },
 "nbformat": 4,
 "nbformat_minor": 5
}
