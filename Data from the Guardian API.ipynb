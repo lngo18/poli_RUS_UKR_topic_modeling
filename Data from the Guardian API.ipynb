{
 "cells": [
  {
   "cell_type": "markdown",
   "id": "2d789a1c",
   "metadata": {},
   "source": [
    "# The Guardian"
   ]
  },
  {
   "cell_type": "markdown",
   "id": "48a27d4b",
   "metadata": {},
   "source": [
    "## Getting data\n",
    "\n",
    "Getting articles from The Guardian API with code snippets from https://towardsdatascience.com/discovering-powerful-data-the-guardian-news-api-into-python-for-nlp-1829b568fb0f. The code was used to access the API and tweaked to finding articles based on phrase instead of tag - and specified for our topic."
   ]
  },
  {
   "cell_type": "code",
   "execution_count": 1,
   "id": "4ded7848",
   "metadata": {},
   "outputs": [],
   "source": [
    "# import packages\n",
    "import json\n",
    "import requests\n",
    "import pandas as pd\n",
    "from os import makedirs\n",
    "from os.path import join, exists\n",
    "from datetime import date, timedelta"
   ]
  },
  {
   "cell_type": "markdown",
   "id": "c5a43e1f",
   "metadata": {},
   "source": [
    "use show-fields key and bodyText key value to your URL then you will get content.\n",
    "\n",
    "e.g: show-fields=BodyText\n",
    "\n",
    "http://content.guardianapis.com/search?order-by=newest&show-fields=bodyText&q=politics&api-key='eb90ec3a-ffa6-4874-86d5-6eb062efd14d'"
   ]
  },
  {
   "cell_type": "markdown",
   "id": "781cc095",
   "metadata": {},
   "source": [
    "# The Guardian articles\n",
    "## Getting data from the Guardian API"
   ]
  },
  {
   "cell_type": "markdown",
   "id": "66b15632",
   "metadata": {},
   "source": [
    "Adding in phrase to query:\n",
    "https://content.guardianapis.com/search?q=\"mitochondrial%20donation\"&tag=politics/politics&from-date=2014-01-01&api-key=test"
   ]
  },
  {
   "cell_type": "markdown",
   "id": "f938c992",
   "metadata": {},
   "source": [
    "From a qualitative reading of the articles and writing down topics, the articles we look at include 'Ukraine', 'Russia', and 'news' or 'analysis'. We want to first get a broad list of articles that mention Ukraine and Russia, then we can further narrow down to our specifications regarding the war. \n",
    "\n",
    "The Guardian provides a platform to explore the results from parameters, which is what I used to get the link for the query. https://open-platform.theguardian.com/explore/."
   ]
  },
  {
   "cell_type": "code",
   "execution_count": 2,
   "id": "4b669aaf",
   "metadata": {},
   "outputs": [],
   "source": [
    "# paramters for query\n",
    "api_key = 'eb90ec3a-ffa6-4874-86d5-6eb062efd14d'\n",
    "phrase = 'Ukraine%2C%20Russia'\n",
    "from_date = '2021-08-01' #6 months before\n",
    "page = 1705\n",
    "\n",
    "\n",
    "def query_api(phrase, page, from_date, api_key):\n",
    "    \"\"\"\n",
    "    Function to query the API for a particular tag\n",
    "    returns: a response from API\n",
    "    \"\"\"\n",
    "    response = requests.get(\"https://content.guardianapis.com/search?show-fields=bodytext&q=\" + phrase + \"&from-date=\" + from_date \n",
    "                            +\"&page=\" + str(page) + \"&show-blocks=all&&page-size=200&api-key=\" + api_key)\n",
    "    return response"
   ]
  },
  {
   "cell_type": "code",
   "execution_count": 3,
   "id": "a3a09fad",
   "metadata": {},
   "outputs": [],
   "source": [
    "def get_results_for_phrase(phrase, from_date, api_key):\n",
    "    \"\"\"\n",
    "    Function to run a for loop for results greater than 200. \n",
    "    Calls the query_api function accordingly\n",
    "    returns: a list of JSON results\n",
    "    \"\"\"\n",
    "    json_responses = []\n",
    "    response = query_api(phrase, 1, from_date, api_key).json()\n",
    "    json_responses.append(response)\n",
    "    number_of_results = response['response']['total']\n",
    "    if number_of_results > 200:\n",
    "        for page in range(2, (round(number_of_results/200))+1):\n",
    "            response = query_api(phrase, page, from_date, api_key).json()\n",
    "            json_responses.append(response)\n",
    "    return json_responses"
   ]
  },
  {
   "cell_type": "code",
   "execution_count": 4,
   "id": "8bc5f7c6",
   "metadata": {},
   "outputs": [],
   "source": [
    "def convert_json_responses_to_df(json_responses):\n",
    "    \"\"\"\n",
    "    Function to convert the list of json responses to a dataframe\n",
    "    \"\"\"\n",
    "    df_results = []\n",
    "    \n",
    "    for page_json in json_responses:\n",
    "        # Check if 'response' key is present in the current page\n",
    "        if 'response' in page_json:\n",
    "            # Use get method to avoid KeyError for 'results' key\n",
    "            results = page_json['response'].get('results', [])\n",
    "            \n",
    "            # Normalize the JSON and append to the list\n",
    "            df = pd.json_normalize(results)\n",
    "            df_results.append(df)\n",
    "\n",
    "    # Concatenate all DataFrames in the list\n",
    "    all_df = pd.concat(df_results, ignore_index=True)\n",
    "    return all_df\n",
    "\n",
    "# Example usage\n",
    "# df = convert_json_responses_to_df(json_responses)\n",
    "# print(df)"
   ]
  },
  {
   "cell_type": "code",
   "execution_count": 5,
   "id": "0efa6c08",
   "metadata": {},
   "outputs": [],
   "source": [
    "json_responses = get_results_for_phrase(phrase, from_date, api_key)"
   ]
  },
  {
   "cell_type": "code",
   "execution_count": 9,
   "id": "699a3434",
   "metadata": {
    "scrolled": true
   },
   "outputs": [
    {
     "data": {
      "text/html": [
       "<div>\n",
       "<style scoped>\n",
       "    .dataframe tbody tr th:only-of-type {\n",
       "        vertical-align: middle;\n",
       "    }\n",
       "\n",
       "    .dataframe tbody tr th {\n",
       "        vertical-align: top;\n",
       "    }\n",
       "\n",
       "    .dataframe thead th {\n",
       "        text-align: right;\n",
       "    }\n",
       "</style>\n",
       "<table border=\"1\" class=\"dataframe\">\n",
       "  <thead>\n",
       "    <tr style=\"text-align: right;\">\n",
       "      <th></th>\n",
       "      <th>id</th>\n",
       "      <th>type</th>\n",
       "      <th>sectionId</th>\n",
       "      <th>sectionName</th>\n",
       "      <th>webPublicationDate</th>\n",
       "      <th>webTitle</th>\n",
       "      <th>webUrl</th>\n",
       "      <th>apiUrl</th>\n",
       "      <th>isHosted</th>\n",
       "      <th>pillarId</th>\n",
       "      <th>...</th>\n",
       "      <th>blocks.main.bodyTextSummary</th>\n",
       "      <th>blocks.main.published</th>\n",
       "      <th>blocks.main.createdDate</th>\n",
       "      <th>blocks.main.firstPublishedDate</th>\n",
       "      <th>blocks.main.publishedDate</th>\n",
       "      <th>blocks.main.lastModifiedDate</th>\n",
       "      <th>blocks.main.contributors</th>\n",
       "      <th>blocks.main.elements</th>\n",
       "      <th>blocks.body</th>\n",
       "      <th>blocks.totalBodyBlocks</th>\n",
       "    </tr>\n",
       "  </thead>\n",
       "  <tbody>\n",
       "    <tr>\n",
       "      <th>0</th>\n",
       "      <td>world/live/2023/nov/29/russia-ukraine-war-live...</td>\n",
       "      <td>liveblog</td>\n",
       "      <td>world</td>\n",
       "      <td>World news</td>\n",
       "      <td>2023-11-29T15:57:21Z</td>\n",
       "      <td>Russia-Ukraine war: Russia ramping up attacks ...</td>\n",
       "      <td>https://www.theguardian.com/world/live/2023/no...</td>\n",
       "      <td>https://content.guardianapis.com/world/live/20...</td>\n",
       "      <td>False</td>\n",
       "      <td>pillar/news</td>\n",
       "      <td>...</td>\n",
       "      <td></td>\n",
       "      <td>True</td>\n",
       "      <td>2023-11-29T10:53:48Z</td>\n",
       "      <td>2023-11-29T08:04:48Z</td>\n",
       "      <td>2023-11-29T10:53:50Z</td>\n",
       "      <td>2023-11-29T10:53:48Z</td>\n",
       "      <td>[]</td>\n",
       "      <td>[{'type': 'contentatom', 'assets': [], 'conten...</td>\n",
       "      <td>[{'id': '65675b468f087816ab20acfe', 'bodyHtml'...</td>\n",
       "      <td>20</td>\n",
       "    </tr>\n",
       "    <tr>\n",
       "      <th>1</th>\n",
       "      <td>world/live/2023/dec/01/russia-ukraine-war-live...</td>\n",
       "      <td>liveblog</td>\n",
       "      <td>world</td>\n",
       "      <td>World news</td>\n",
       "      <td>2023-12-01T15:59:43Z</td>\n",
       "      <td>Russia-Ukraine war: no reason for Russia to ch...</td>\n",
       "      <td>https://www.theguardian.com/world/live/2023/de...</td>\n",
       "      <td>https://content.guardianapis.com/world/live/20...</td>\n",
       "      <td>False</td>\n",
       "      <td>pillar/news</td>\n",
       "      <td>...</td>\n",
       "      <td></td>\n",
       "      <td>True</td>\n",
       "      <td>2023-12-01T12:08:05Z</td>\n",
       "      <td>2023-12-01T08:16:10Z</td>\n",
       "      <td>2023-12-01T12:08:44Z</td>\n",
       "      <td>2023-12-01T12:08:39Z</td>\n",
       "      <td>[]</td>\n",
       "      <td>[{'type': 'image', 'assets': [{'type': 'image'...</td>\n",
       "      <td>[{'id': '6569f96a8f08db319e1bc924', 'bodyHtml'...</td>\n",
       "      <td>20</td>\n",
       "    </tr>\n",
       "    <tr>\n",
       "      <th>2</th>\n",
       "      <td>world/live/2023/oct/26/russia-ukraine-war-live...</td>\n",
       "      <td>liveblog</td>\n",
       "      <td>world</td>\n",
       "      <td>World news</td>\n",
       "      <td>2023-10-26T17:52:42Z</td>\n",
       "      <td>Russia-Ukraine war: US announces extra funding...</td>\n",
       "      <td>https://www.theguardian.com/world/live/2023/oc...</td>\n",
       "      <td>https://content.guardianapis.com/world/live/20...</td>\n",
       "      <td>False</td>\n",
       "      <td>pillar/news</td>\n",
       "      <td>...</td>\n",
       "      <td></td>\n",
       "      <td>True</td>\n",
       "      <td>2023-10-26T16:41:30Z</td>\n",
       "      <td>2023-10-26T06:00:47Z</td>\n",
       "      <td>2023-10-26T16:42:16Z</td>\n",
       "      <td>2023-10-26T16:42:11Z</td>\n",
       "      <td>[]</td>\n",
       "      <td>[{'type': 'image', 'assets': [{'type': 'image'...</td>\n",
       "      <td>[{'id': '653aa7208f0837aa4c22b37a', 'bodyHtml'...</td>\n",
       "      <td>38</td>\n",
       "    </tr>\n",
       "    <tr>\n",
       "      <th>3</th>\n",
       "      <td>world/live/2023/nov/15/russia-ukraine-war-live...</td>\n",
       "      <td>liveblog</td>\n",
       "      <td>world</td>\n",
       "      <td>World news</td>\n",
       "      <td>2023-11-15T18:49:54Z</td>\n",
       "      <td>Russia-Ukraine war: Russia confirms Ukrainian ...</td>\n",
       "      <td>https://www.theguardian.com/world/live/2023/no...</td>\n",
       "      <td>https://content.guardianapis.com/world/live/20...</td>\n",
       "      <td>False</td>\n",
       "      <td>pillar/news</td>\n",
       "      <td>...</td>\n",
       "      <td></td>\n",
       "      <td>True</td>\n",
       "      <td>2023-11-15T07:14:44Z</td>\n",
       "      <td>2023-11-15T07:14:44Z</td>\n",
       "      <td>2023-11-15T18:52:47Z</td>\n",
       "      <td>2023-11-15T05:22:36Z</td>\n",
       "      <td>[]</td>\n",
       "      <td>[{'type': 'image', 'assets': [{'type': 'image'...</td>\n",
       "      <td>[{'id': '65550f9e8f08d1d922ef766f', 'bodyHtml'...</td>\n",
       "      <td>39</td>\n",
       "    </tr>\n",
       "    <tr>\n",
       "      <th>4</th>\n",
       "      <td>world/live/2023/dec/03/russia-ukraine-war-live...</td>\n",
       "      <td>liveblog</td>\n",
       "      <td>world</td>\n",
       "      <td>World news</td>\n",
       "      <td>2023-12-03T16:51:49Z</td>\n",
       "      <td>Russia-Ukraine war live: Ukraine launches inqu...</td>\n",
       "      <td>https://www.theguardian.com/world/live/2023/de...</td>\n",
       "      <td>https://content.guardianapis.com/world/live/20...</td>\n",
       "      <td>False</td>\n",
       "      <td>pillar/news</td>\n",
       "      <td>...</td>\n",
       "      <td></td>\n",
       "      <td>True</td>\n",
       "      <td>2023-12-03T08:26:03Z</td>\n",
       "      <td>2023-12-03T08:26:03Z</td>\n",
       "      <td>2023-12-03T17:04:56Z</td>\n",
       "      <td>2023-12-03T17:04:51Z</td>\n",
       "      <td>[]</td>\n",
       "      <td>[{'type': 'image', 'assets': [{'type': 'image'...</td>\n",
       "      <td>[{'id': '656cb1f88f08db319e1bdc4f', 'bodyHtml'...</td>\n",
       "      <td>22</td>\n",
       "    </tr>\n",
       "  </tbody>\n",
       "</table>\n",
       "<p>5 rows × 23 columns</p>\n",
       "</div>"
      ],
      "text/plain": [
       "                                                  id      type sectionId  \\\n",
       "0  world/live/2023/nov/29/russia-ukraine-war-live...  liveblog     world   \n",
       "1  world/live/2023/dec/01/russia-ukraine-war-live...  liveblog     world   \n",
       "2  world/live/2023/oct/26/russia-ukraine-war-live...  liveblog     world   \n",
       "3  world/live/2023/nov/15/russia-ukraine-war-live...  liveblog     world   \n",
       "4  world/live/2023/dec/03/russia-ukraine-war-live...  liveblog     world   \n",
       "\n",
       "  sectionName    webPublicationDate  \\\n",
       "0  World news  2023-11-29T15:57:21Z   \n",
       "1  World news  2023-12-01T15:59:43Z   \n",
       "2  World news  2023-10-26T17:52:42Z   \n",
       "3  World news  2023-11-15T18:49:54Z   \n",
       "4  World news  2023-12-03T16:51:49Z   \n",
       "\n",
       "                                            webTitle  \\\n",
       "0  Russia-Ukraine war: Russia ramping up attacks ...   \n",
       "1  Russia-Ukraine war: no reason for Russia to ch...   \n",
       "2  Russia-Ukraine war: US announces extra funding...   \n",
       "3  Russia-Ukraine war: Russia confirms Ukrainian ...   \n",
       "4  Russia-Ukraine war live: Ukraine launches inqu...   \n",
       "\n",
       "                                              webUrl  \\\n",
       "0  https://www.theguardian.com/world/live/2023/no...   \n",
       "1  https://www.theguardian.com/world/live/2023/de...   \n",
       "2  https://www.theguardian.com/world/live/2023/oc...   \n",
       "3  https://www.theguardian.com/world/live/2023/no...   \n",
       "4  https://www.theguardian.com/world/live/2023/de...   \n",
       "\n",
       "                                              apiUrl  isHosted     pillarId  \\\n",
       "0  https://content.guardianapis.com/world/live/20...     False  pillar/news   \n",
       "1  https://content.guardianapis.com/world/live/20...     False  pillar/news   \n",
       "2  https://content.guardianapis.com/world/live/20...     False  pillar/news   \n",
       "3  https://content.guardianapis.com/world/live/20...     False  pillar/news   \n",
       "4  https://content.guardianapis.com/world/live/20...     False  pillar/news   \n",
       "\n",
       "   ... blocks.main.bodyTextSummary blocks.main.published  \\\n",
       "0  ...                                              True   \n",
       "1  ...                                              True   \n",
       "2  ...                                              True   \n",
       "3  ...                                              True   \n",
       "4  ...                                              True   \n",
       "\n",
       "  blocks.main.createdDate blocks.main.firstPublishedDate  \\\n",
       "0    2023-11-29T10:53:48Z           2023-11-29T08:04:48Z   \n",
       "1    2023-12-01T12:08:05Z           2023-12-01T08:16:10Z   \n",
       "2    2023-10-26T16:41:30Z           2023-10-26T06:00:47Z   \n",
       "3    2023-11-15T07:14:44Z           2023-11-15T07:14:44Z   \n",
       "4    2023-12-03T08:26:03Z           2023-12-03T08:26:03Z   \n",
       "\n",
       "  blocks.main.publishedDate blocks.main.lastModifiedDate  \\\n",
       "0      2023-11-29T10:53:50Z         2023-11-29T10:53:48Z   \n",
       "1      2023-12-01T12:08:44Z         2023-12-01T12:08:39Z   \n",
       "2      2023-10-26T16:42:16Z         2023-10-26T16:42:11Z   \n",
       "3      2023-11-15T18:52:47Z         2023-11-15T05:22:36Z   \n",
       "4      2023-12-03T17:04:56Z         2023-12-03T17:04:51Z   \n",
       "\n",
       "  blocks.main.contributors                               blocks.main.elements  \\\n",
       "0                       []  [{'type': 'contentatom', 'assets': [], 'conten...   \n",
       "1                       []  [{'type': 'image', 'assets': [{'type': 'image'...   \n",
       "2                       []  [{'type': 'image', 'assets': [{'type': 'image'...   \n",
       "3                       []  [{'type': 'image', 'assets': [{'type': 'image'...   \n",
       "4                       []  [{'type': 'image', 'assets': [{'type': 'image'...   \n",
       "\n",
       "                                         blocks.body blocks.totalBodyBlocks  \n",
       "0  [{'id': '65675b468f087816ab20acfe', 'bodyHtml'...                     20  \n",
       "1  [{'id': '6569f96a8f08db319e1bc924', 'bodyHtml'...                     20  \n",
       "2  [{'id': '653aa7208f0837aa4c22b37a', 'bodyHtml'...                     38  \n",
       "3  [{'id': '65550f9e8f08d1d922ef766f', 'bodyHtml'...                     39  \n",
       "4  [{'id': '656cb1f88f08db319e1bdc4f', 'bodyHtml'...                     22  \n",
       "\n",
       "[5 rows x 23 columns]"
      ]
     },
     "execution_count": 9,
     "metadata": {},
     "output_type": "execute_result"
    }
   ],
   "source": [
    "df_responses = convert_json_responses_to_df(json_responses)\n",
    "df_responses.drop_duplicates(subset=['webTitle', 'webUrl'], inplace = True) # getting rid of duplicates\n",
    "# df['webPublicationDate'] = df['webPublicationDate'].apply(lambda x: pd.to_datetime(x))\n",
    "df_responses.head()"
   ]
  },
  {
   "cell_type": "code",
   "execution_count": 7,
   "id": "eedc28fa",
   "metadata": {},
   "outputs": [
    {
     "data": {
      "text/plain": [
       "(16246, 23)"
      ]
     },
     "execution_count": 7,
     "metadata": {},
     "output_type": "execute_result"
    }
   ],
   "source": [
    "df_responses.shape"
   ]
  },
  {
   "cell_type": "code",
   "execution_count": 10,
   "id": "837c4cbd",
   "metadata": {},
   "outputs": [],
   "source": [
    "df_responses.to_excel('guardian_responses.xlsx')"
   ]
  },
  {
   "cell_type": "code",
   "execution_count": null,
   "id": "8010ca84",
   "metadata": {},
   "outputs": [],
   "source": [
    "json_responses[0]['response']"
   ]
  },
  {
   "cell_type": "code",
   "execution_count": null,
   "id": "2c3b04bb",
   "metadata": {
    "scrolled": true
   },
   "outputs": [],
   "source": [
    "json_responses[0]['response']['results'][0]"
   ]
  },
  {
   "cell_type": "code",
   "execution_count": null,
   "id": "04b2c291",
   "metadata": {
    "scrolled": true
   },
   "outputs": [],
   "source": [
    "example = json_responses[0]['response']['results'][0]['blocks']['body'][0]['bodyHtml']\n",
    "example"
   ]
  },
  {
   "cell_type": "code",
   "execution_count": null,
   "id": "13782646",
   "metadata": {
    "scrolled": true
   },
   "outputs": [],
   "source": [
    "json_responses[0]['response']['results'][0]['blocks']['body'][1]['bodyHtml']"
   ]
  },
  {
   "cell_type": "code",
   "execution_count": 20,
   "id": "ce1f783f",
   "metadata": {},
   "outputs": [],
   "source": [
    "def remove_tags(html_text):\n",
    "    soup = BeautifulSoup(html_text, 'html.parser')\n",
    "    return soup.get_text()"
   ]
  },
  {
   "cell_type": "code",
   "execution_count": 21,
   "id": "fd255b32",
   "metadata": {
    "scrolled": true
   },
   "outputs": [
    {
     "name": "stdout",
     "output_type": "stream",
     "text": [
      "Error processing article in Page 0, Article 118: 'pillarName'\n",
      "Error processing article in Page 0, Article 70: 'pillarName'\n",
      "Error processing article in Page 0, Article 193: 'pillarName'\n",
      "Error processing article in Page 0, Article 158: 'pillarName'\n",
      "Error processing article in Page 0, Article 163: 'pillarName'\n",
      "Error processing article in Page 0, Article 110: 'pillarName'\n",
      "Error processing article in Page 0, Article 181: 'pillarName'\n",
      "Error processing article in Page 0, Article 155: 'pillarName'\n",
      "Error processing article in Page 0, Article 81: 'pillarName'\n",
      "Error processing article in Page 0, Article 140: 'pillarName'\n",
      "Error processing article in Page 0, Article 38: 'pillarName'\n",
      "Error processing article in Page 0, Article 56: 'pillarName'\n",
      "Error processing article in Page 0, Article 42: 'pillarName'\n",
      "Error processing article in Page 0, Article 88: 'pillarName'\n",
      "Error processing article in Page 0, Article 140: 'pillarName'\n",
      "Error processing article in Page 0, Article 39: 'pillarName'\n",
      "Error processing article in Page 0, Article 167: 'pillarName'\n",
      "Error processing article in Page 0, Article 69: 'pillarName'\n",
      "Error processing article in Page 0, Article 82: 'pillarName'\n",
      "Error processing article in Page 0, Article 126: 'pillarName'\n",
      "Error processing article in Page 0, Article 185: 'pillarName'\n",
      "Error processing article in Page 0, Article 113: 'pillarName'\n",
      "Error processing page 0: 'results'\n",
      "Error processing page 0: 'results'\n",
      "Error processing page 0: 'results'\n",
      "Error processing page 0: 'results'\n",
      "  Page                                            Article sectionId  \\\n",
      "0    0  world/live/2023/nov/29/russia-ukraine-war-live...     world   \n",
      "1    0  world/live/2023/nov/29/russia-ukraine-war-live...     world   \n",
      "2    0  world/live/2023/nov/29/russia-ukraine-war-live...     world   \n",
      "3    0  world/live/2023/nov/29/russia-ukraine-war-live...     world   \n",
      "4    0  world/live/2023/nov/29/russia-ukraine-war-live...     world   \n",
      "\n",
      "  sectionName    webPublicationDate  \\\n",
      "0  World news  2023-11-29T15:57:21Z   \n",
      "1  World news  2023-11-29T15:57:21Z   \n",
      "2  World news  2023-11-29T15:57:21Z   \n",
      "3  World news  2023-11-29T15:57:21Z   \n",
      "4  World news  2023-11-29T15:57:21Z   \n",
      "\n",
      "                                            webTitle pillarName  \\\n",
      "0  Russia-Ukraine war: Russia ramping up attacks ...       News   \n",
      "1  Russia-Ukraine war: Russia ramping up attacks ...       News   \n",
      "2  Russia-Ukraine war: Russia ramping up attacks ...       News   \n",
      "3  Russia-Ukraine war: Russia ramping up attacks ...       News   \n",
      "4  Russia-Ukraine war: Russia ramping up attacks ...       News   \n",
      "\n",
      "                                                Text  \n",
      "0  We’re ending our live coverage of the war in U...  \n",
      "1  Ukraine has seen no sign that its Nato allies ...  \n",
      "2  Russia has failed in its bid to be re-elected ...  \n",
      "3  Russian forces have today ramped up their atta...  \n",
      "4  A man who used his finger to write “no to war”...  \n"
     ]
    }
   ],
   "source": [
    "# creating the df to store results\n",
    "df = pd.DataFrame(columns=['Page', 'Article', 'sectionId', 'sectionName', 'webPublicationDate', 'webTitle', 'pillarName', 'Text'])\n",
    "\n",
    "count_page = 0\n",
    "\n",
    "for page in json_responses:\n",
    "    try:\n",
    "        articles = page['response']['results']\n",
    "\n",
    "        for count_article, article in enumerate(articles):\n",
    "            try:\n",
    "                article_id = article['id']\n",
    "                section_id = article['sectionId']\n",
    "                section_name = article['sectionName']\n",
    "                web_publication_date = article['webPublicationDate']\n",
    "                web_title = article['webTitle']\n",
    "                pillar_name = article['pillarName']\n",
    "                \n",
    "                bodies = article['blocks']['body']\n",
    "\n",
    "                for count_text, body in enumerate(bodies):\n",
    "                    try:\n",
    "                        text = remove_tags(body['bodyHtml'])\n",
    "                        df = df.append({\n",
    "                            'Page': count_page,\n",
    "                            'Article': article_id,\n",
    "                            'sectionId': section_id,\n",
    "                            'sectionName': section_name,\n",
    "                            'webPublicationDate': web_publication_date,\n",
    "                            'webTitle': web_title,\n",
    "                            'pillarName': pillar_name,\n",
    "                            'Text': text\n",
    "                        }, ignore_index=True)\n",
    "                    except Exception as e:\n",
    "                        print(f\"Error processing text in Page {count_page}, Article {article_id}, Body {count_text}: {e}\")\n",
    "                        continue\n",
    "            except Exception as e:\n",
    "                print(f\"Error processing article in Page {count_page}, Article {count_article}: {e}\")\n",
    "                continue\n",
    "    except Exception as e:\n",
    "        print(f\"Error processing page {count_page}: {e}\")\n",
    "        continue\n",
    "\n",
    "print(df.head())  # check contents\n"
   ]
  },
  {
   "cell_type": "code",
   "execution_count": 22,
   "id": "8e764202",
   "metadata": {},
   "outputs": [
    {
     "data": {
      "text/html": [
       "<div>\n",
       "<style scoped>\n",
       "    .dataframe tbody tr th:only-of-type {\n",
       "        vertical-align: middle;\n",
       "    }\n",
       "\n",
       "    .dataframe tbody tr th {\n",
       "        vertical-align: top;\n",
       "    }\n",
       "\n",
       "    .dataframe thead th {\n",
       "        text-align: right;\n",
       "    }\n",
       "</style>\n",
       "<table border=\"1\" class=\"dataframe\">\n",
       "  <thead>\n",
       "    <tr style=\"text-align: right;\">\n",
       "      <th></th>\n",
       "      <th>Page</th>\n",
       "      <th>Article</th>\n",
       "      <th>sectionId</th>\n",
       "      <th>sectionName</th>\n",
       "      <th>webPublicationDate</th>\n",
       "      <th>webTitle</th>\n",
       "      <th>pillarName</th>\n",
       "      <th>Text</th>\n",
       "    </tr>\n",
       "  </thead>\n",
       "  <tbody>\n",
       "    <tr>\n",
       "      <th>0</th>\n",
       "      <td>0</td>\n",
       "      <td>world/live/2023/nov/29/russia-ukraine-war-live...</td>\n",
       "      <td>world</td>\n",
       "      <td>World news</td>\n",
       "      <td>2023-11-29T15:57:21Z</td>\n",
       "      <td>Russia-Ukraine war: Russia ramping up attacks ...</td>\n",
       "      <td>News</td>\n",
       "      <td>We’re ending our live coverage of the war in U...</td>\n",
       "    </tr>\n",
       "    <tr>\n",
       "      <th>1</th>\n",
       "      <td>0</td>\n",
       "      <td>world/live/2023/nov/29/russia-ukraine-war-live...</td>\n",
       "      <td>world</td>\n",
       "      <td>World news</td>\n",
       "      <td>2023-11-29T15:57:21Z</td>\n",
       "      <td>Russia-Ukraine war: Russia ramping up attacks ...</td>\n",
       "      <td>News</td>\n",
       "      <td>Ukraine has seen no sign that its Nato allies ...</td>\n",
       "    </tr>\n",
       "    <tr>\n",
       "      <th>2</th>\n",
       "      <td>0</td>\n",
       "      <td>world/live/2023/nov/29/russia-ukraine-war-live...</td>\n",
       "      <td>world</td>\n",
       "      <td>World news</td>\n",
       "      <td>2023-11-29T15:57:21Z</td>\n",
       "      <td>Russia-Ukraine war: Russia ramping up attacks ...</td>\n",
       "      <td>News</td>\n",
       "      <td>Russia has failed in its bid to be re-elected ...</td>\n",
       "    </tr>\n",
       "    <tr>\n",
       "      <th>3</th>\n",
       "      <td>0</td>\n",
       "      <td>world/live/2023/nov/29/russia-ukraine-war-live...</td>\n",
       "      <td>world</td>\n",
       "      <td>World news</td>\n",
       "      <td>2023-11-29T15:57:21Z</td>\n",
       "      <td>Russia-Ukraine war: Russia ramping up attacks ...</td>\n",
       "      <td>News</td>\n",
       "      <td>Russian forces have today ramped up their atta...</td>\n",
       "    </tr>\n",
       "    <tr>\n",
       "      <th>4</th>\n",
       "      <td>0</td>\n",
       "      <td>world/live/2023/nov/29/russia-ukraine-war-live...</td>\n",
       "      <td>world</td>\n",
       "      <td>World news</td>\n",
       "      <td>2023-11-29T15:57:21Z</td>\n",
       "      <td>Russia-Ukraine war: Russia ramping up attacks ...</td>\n",
       "      <td>News</td>\n",
       "      <td>A man who used his finger to write “no to war”...</td>\n",
       "    </tr>\n",
       "  </tbody>\n",
       "</table>\n",
       "</div>"
      ],
      "text/plain": [
       "  Page                                            Article sectionId  \\\n",
       "0    0  world/live/2023/nov/29/russia-ukraine-war-live...     world   \n",
       "1    0  world/live/2023/nov/29/russia-ukraine-war-live...     world   \n",
       "2    0  world/live/2023/nov/29/russia-ukraine-war-live...     world   \n",
       "3    0  world/live/2023/nov/29/russia-ukraine-war-live...     world   \n",
       "4    0  world/live/2023/nov/29/russia-ukraine-war-live...     world   \n",
       "\n",
       "  sectionName    webPublicationDate  \\\n",
       "0  World news  2023-11-29T15:57:21Z   \n",
       "1  World news  2023-11-29T15:57:21Z   \n",
       "2  World news  2023-11-29T15:57:21Z   \n",
       "3  World news  2023-11-29T15:57:21Z   \n",
       "4  World news  2023-11-29T15:57:21Z   \n",
       "\n",
       "                                            webTitle pillarName  \\\n",
       "0  Russia-Ukraine war: Russia ramping up attacks ...       News   \n",
       "1  Russia-Ukraine war: Russia ramping up attacks ...       News   \n",
       "2  Russia-Ukraine war: Russia ramping up attacks ...       News   \n",
       "3  Russia-Ukraine war: Russia ramping up attacks ...       News   \n",
       "4  Russia-Ukraine war: Russia ramping up attacks ...       News   \n",
       "\n",
       "                                                Text  \n",
       "0  We’re ending our live coverage of the war in U...  \n",
       "1  Ukraine has seen no sign that its Nato allies ...  \n",
       "2  Russia has failed in its bid to be re-elected ...  \n",
       "3  Russian forces have today ramped up their atta...  \n",
       "4  A man who used his finger to write “no to war”...  "
      ]
     },
     "execution_count": 22,
     "metadata": {},
     "output_type": "execute_result"
    }
   ],
   "source": [
    "df.head()"
   ]
  },
  {
   "cell_type": "code",
   "execution_count": 23,
   "id": "c19dfa76",
   "metadata": {},
   "outputs": [
    {
     "data": {
      "text/plain": [
       "(108702, 8)"
      ]
     },
     "execution_count": 23,
     "metadata": {},
     "output_type": "execute_result"
    }
   ],
   "source": [
    "df.shape"
   ]
  },
  {
   "cell_type": "code",
   "execution_count": 25,
   "id": "0aed9fe6",
   "metadata": {},
   "outputs": [
    {
     "name": "stdout",
     "output_type": "stream",
     "text": [
      "Page                  0\n",
      "Article               0\n",
      "sectionId             0\n",
      "sectionName           0\n",
      "webPublicationDate    0\n",
      "webTitle              0\n",
      "pillarName            0\n",
      "Text                  0\n",
      "dtype: int64\n"
     ]
    }
   ],
   "source": [
    "print(df.isna().sum())"
   ]
  },
  {
   "cell_type": "code",
   "execution_count": 24,
   "id": "b553e6ca",
   "metadata": {},
   "outputs": [],
   "source": [
    "df.to_excel('guardian_responses_text.xlsx')"
   ]
  },
  {
   "cell_type": "markdown",
   "id": "952cb0fe",
   "metadata": {},
   "source": [
    "From the shape of the df, we can see that there are way more columns than the number of articles we pulled. Further examination revealed that the body texts were separated so we have to merge the texts of the same article. We do that below by grouping by all the other columns to make sure it is the same article."
   ]
  },
  {
   "cell_type": "code",
   "execution_count": 27,
   "id": "a042eb3c",
   "metadata": {},
   "outputs": [],
   "source": [
    "# Grouping text that come from the same article\n",
    "grouped_df = df.groupby(['Page', 'Article', 'sectionId', 'sectionName', 'webPublicationDate', 'webTitle', 'pillarName'])['Text'].apply(lambda x: ' '.join(x)).reset_index()"
   ]
  },
  {
   "cell_type": "code",
   "execution_count": 28,
   "id": "3685c0d6",
   "metadata": {},
   "outputs": [
    {
     "data": {
      "text/plain": [
       "(16222, 8)"
      ]
     },
     "execution_count": 28,
     "metadata": {},
     "output_type": "execute_result"
    }
   ],
   "source": [
    "grouped_df.shape"
   ]
  },
  {
   "cell_type": "code",
   "execution_count": 31,
   "id": "ba308fd1",
   "metadata": {},
   "outputs": [
    {
     "name": "stdout",
     "output_type": "stream",
     "text": [
      "Page                  0\n",
      "Article               0\n",
      "sectionId             0\n",
      "sectionName           0\n",
      "webPublicationDate    0\n",
      "webTitle              0\n",
      "pillarName            0\n",
      "Text                  0\n",
      "dtype: int64\n"
     ]
    }
   ],
   "source": [
    "print(grouped_df.isna().sum())"
   ]
  },
  {
   "cell_type": "code",
   "execution_count": 30,
   "id": "64f2f846",
   "metadata": {},
   "outputs": [],
   "source": [
    "# saving grouped df to excel\n",
    "grouped_df.to_excel('guardian_responses_text_grouped.xlsx')"
   ]
  },
  {
   "cell_type": "markdown",
   "id": "12429ef8",
   "metadata": {},
   "source": [
    "## Filtering articles\n",
    "From all the articles, we want to narrow down to capture the articles that are relavant to what has been reported on the war. From close reading we identified some keywords that are indicative of when reporting is done, we will then apply a dictionary based approach to to filter articles by keywords. Before the dictionary approach, we can filter out sections that are not news-related such as sports because they are not going to be reporting on the war."
   ]
  },
  {
   "cell_type": "code",
   "execution_count": 50,
   "id": "8a56c952",
   "metadata": {},
   "outputs": [],
   "source": [
    "from nltk.corpus import stopwords\n",
    "from nltk.stem import PorterStemmer\n",
    "from nltk.stem import LancasterStemmer #harsher stemmer\n",
    "from nltk.stem import WordNetLemmatizer\n",
    "from nltk import word_tokenize, pos_tag\n",
    "from nltk.corpus import wordnet\n",
    "import re\n",
    "import string\n",
    "from collections import defaultdict"
   ]
  },
  {
   "cell_type": "code",
   "execution_count": 32,
   "id": "78c177c7",
   "metadata": {},
   "outputs": [],
   "source": [
    "# loading the data from excel file\n",
    "all_articles_df = pd.read_excel('guardian_responses_text_grouped.xlsx')"
   ]
  },
  {
   "cell_type": "code",
   "execution_count": 34,
   "id": "426557be",
   "metadata": {},
   "outputs": [],
   "source": [
    "# changing date to datetime format and sorting by date\n",
    "all_articles_df['webPublicationDate'] = all_articles_df['webPublicationDate'].apply(lambda x: pd.to_datetime(x))\n",
    "all_articles_df = df.sort_values(by='webPublicationDate')"
   ]
  },
  {
   "cell_type": "code",
   "execution_count": 36,
   "id": "1a4b7252",
   "metadata": {},
   "outputs": [
    {
     "data": {
      "text/html": [
       "<div>\n",
       "<style scoped>\n",
       "    .dataframe tbody tr th:only-of-type {\n",
       "        vertical-align: middle;\n",
       "    }\n",
       "\n",
       "    .dataframe tbody tr th {\n",
       "        vertical-align: top;\n",
       "    }\n",
       "\n",
       "    .dataframe thead th {\n",
       "        text-align: right;\n",
       "    }\n",
       "</style>\n",
       "<table border=\"1\" class=\"dataframe\">\n",
       "  <thead>\n",
       "    <tr style=\"text-align: right;\">\n",
       "      <th></th>\n",
       "      <th>Page</th>\n",
       "      <th>Article</th>\n",
       "      <th>sectionId</th>\n",
       "      <th>sectionName</th>\n",
       "      <th>webPublicationDate</th>\n",
       "      <th>webTitle</th>\n",
       "      <th>pillarName</th>\n",
       "      <th>Text</th>\n",
       "    </tr>\n",
       "  </thead>\n",
       "  <tbody>\n",
       "    <tr>\n",
       "      <th>77827</th>\n",
       "      <td>0</td>\n",
       "      <td>sport/2021/aug/02/belarus-athlete-refused-fly-...</td>\n",
       "      <td>sport</td>\n",
       "      <td>Sport</td>\n",
       "      <td>2021-08-02T13:21:31Z</td>\n",
       "      <td>Belarus athlete who refused to fly home is gra...</td>\n",
       "      <td>Sport</td>\n",
       "      <td>The Belarus Olympic athlete Krystsina Tsimanou...</td>\n",
       "    </tr>\n",
       "    <tr>\n",
       "      <th>79012</th>\n",
       "      <td>0</td>\n",
       "      <td>sport/2021/aug/02/olympics-shooting-serhiy-kul...</td>\n",
       "      <td>sport</td>\n",
       "      <td>Sport</td>\n",
       "      <td>2021-08-02T14:00:11Z</td>\n",
       "      <td>‘I shot someone else’s target’: Ukraine’s Serh...</td>\n",
       "      <td>Sport</td>\n",
       "      <td>Ukrainian shooter Serhiy Kulish missed out on ...</td>\n",
       "    </tr>\n",
       "    <tr>\n",
       "      <th>76251</th>\n",
       "      <td>0</td>\n",
       "      <td>world/2021/aug/03/belarus-exile-group-leader-v...</td>\n",
       "      <td>world</td>\n",
       "      <td>World news</td>\n",
       "      <td>2021-08-03T12:36:15Z</td>\n",
       "      <td>Belarus exile group leader Vitaly Shishov foun...</td>\n",
       "      <td>News</td>\n",
       "      <td>The head of a Kyiv-based non-profit organisati...</td>\n",
       "    </tr>\n",
       "    <tr>\n",
       "      <th>99801</th>\n",
       "      <td>0</td>\n",
       "      <td>world/2021/aug/03/uk-on-your-side-boris-johnso...</td>\n",
       "      <td>world</td>\n",
       "      <td>World news</td>\n",
       "      <td>2021-08-03T14:27:42Z</td>\n",
       "      <td>UK is on your side, Boris Johnson tells Belaru...</td>\n",
       "      <td>News</td>\n",
       "      <td>The UK is on the side of Belarusian opposition...</td>\n",
       "    </tr>\n",
       "    <tr>\n",
       "      <th>91984</th>\n",
       "      <td>0</td>\n",
       "      <td>world/2021/aug/03/anger-in-turkey-grows-over-g...</td>\n",
       "      <td>world</td>\n",
       "      <td>World news</td>\n",
       "      <td>2021-08-03T22:19:18Z</td>\n",
       "      <td>Anger in Turkey grows over government’s handli...</td>\n",
       "      <td>News</td>\n",
       "      <td>People across Turkey are looking for answers a...</td>\n",
       "    </tr>\n",
       "  </tbody>\n",
       "</table>\n",
       "</div>"
      ],
      "text/plain": [
       "      Page                                            Article sectionId  \\\n",
       "77827    0  sport/2021/aug/02/belarus-athlete-refused-fly-...     sport   \n",
       "79012    0  sport/2021/aug/02/olympics-shooting-serhiy-kul...     sport   \n",
       "76251    0  world/2021/aug/03/belarus-exile-group-leader-v...     world   \n",
       "99801    0  world/2021/aug/03/uk-on-your-side-boris-johnso...     world   \n",
       "91984    0  world/2021/aug/03/anger-in-turkey-grows-over-g...     world   \n",
       "\n",
       "      sectionName    webPublicationDate  \\\n",
       "77827       Sport  2021-08-02T13:21:31Z   \n",
       "79012       Sport  2021-08-02T14:00:11Z   \n",
       "76251  World news  2021-08-03T12:36:15Z   \n",
       "99801  World news  2021-08-03T14:27:42Z   \n",
       "91984  World news  2021-08-03T22:19:18Z   \n",
       "\n",
       "                                                webTitle pillarName  \\\n",
       "77827  Belarus athlete who refused to fly home is gra...      Sport   \n",
       "79012  ‘I shot someone else’s target’: Ukraine’s Serh...      Sport   \n",
       "76251  Belarus exile group leader Vitaly Shishov foun...       News   \n",
       "99801  UK is on your side, Boris Johnson tells Belaru...       News   \n",
       "91984  Anger in Turkey grows over government’s handli...       News   \n",
       "\n",
       "                                                    Text  \n",
       "77827  The Belarus Olympic athlete Krystsina Tsimanou...  \n",
       "79012  Ukrainian shooter Serhiy Kulish missed out on ...  \n",
       "76251  The head of a Kyiv-based non-profit organisati...  \n",
       "99801  The UK is on the side of Belarusian opposition...  \n",
       "91984  People across Turkey are looking for answers a...  "
      ]
     },
     "execution_count": 36,
     "metadata": {},
     "output_type": "execute_result"
    }
   ],
   "source": [
    "all_articles_df.head()"
   ]
  },
  {
   "cell_type": "code",
   "execution_count": 40,
   "id": "2d37883f",
   "metadata": {},
   "outputs": [
    {
     "name": "stdout",
     "output_type": "stream",
     "text": [
      "['Sport' 'News' 'Arts' 'Opinion' 'Lifestyle']\n"
     ]
    }
   ],
   "source": [
    "# unique pillar names\n",
    "unique_pillarNames = all_articles_df['pillarName'].unique()\n",
    "\n",
    "print(unique_pillarNames)"
   ]
  },
  {
   "cell_type": "code",
   "execution_count": 41,
   "id": "20c97fb2",
   "metadata": {},
   "outputs": [
    {
     "name": "stdout",
     "output_type": "stream",
     "text": [
      "['Sport' 'World news' 'Football' 'Books' 'Global development' 'Membership'\n",
      " 'Environment' 'Opinion' 'Media' 'US news' 'Politics' 'Business' 'Society'\n",
      " 'UK news' 'News' 'Film' 'Life and style' 'Television & radio' 'Science'\n",
      " 'Technology' 'Australia news' 'From the Observer' 'Music' 'Culture'\n",
      " 'Art and design' 'Travel' 'Law' 'Stage' 'Money' 'Games' 'Fashion'\n",
      " 'Education' 'Food' 'Info' 'Crosswords' 'Inequality' 'Weather' 'Help']\n"
     ]
    }
   ],
   "source": [
    "# unique pillar names\n",
    "unique_sectionName = all_articles_df['sectionName'].unique()\n",
    "\n",
    "print(unique_sectionName)"
   ]
  },
  {
   "cell_type": "code",
   "execution_count": 53,
   "id": "ad22409d",
   "metadata": {},
   "outputs": [],
   "source": [
    "# looking at all unique sections\n",
    "# unique_sections_ID = all_articles_df['sectionId'].unique()\n",
    "\n",
    "# print(unique_sections_ID)"
   ]
  },
  {
   "cell_type": "markdown",
   "id": "d7a7997e",
   "metadata": {},
   "source": [
    "Based on the sections, we think the following will be relevant to our topic:\n",
    "1. World news\n",
    "2. Global development\n",
    "3. Opinion\n",
    "4. Media\n",
    "5. US news\n",
    "6. Politics\n",
    "7. Society\n",
    "8. UK news\n",
    "9. News\n",
    "10. Law\n",
    "11. Info"
   ]
  },
  {
   "cell_type": "code",
   "execution_count": null,
   "id": "b7be90de",
   "metadata": {},
   "outputs": [],
   "source": [
    "# make a copy to filter sections\n",
    "relevant_articles_df = all_articles_df.copy()"
   ]
  },
  {
   "cell_type": "code",
   "execution_count": null,
   "id": "cde21ba5",
   "metadata": {},
   "outputs": [],
   "source": []
  },
  {
   "cell_type": "markdown",
   "id": "bafa0879",
   "metadata": {},
   "source": [
    "### Text preprocessing"
   ]
  },
  {
   "cell_type": "markdown",
   "id": "de709954",
   "metadata": {},
   "source": [
    "Before filtering, we have to first preprocess the text to make sure our keywords capture all variants of a word. We apply some of the same preprocessing steps to the words so they are the same."
   ]
  },
  {
   "cell_type": "code",
   "execution_count": 46,
   "id": "7b256a0c",
   "metadata": {},
   "outputs": [
    {
     "name": "stderr",
     "output_type": "stream",
     "text": [
      "/var/folders/nv/900170jd77g07hdgq0vvdx300000gn/T/ipykernel_39670/1168180793.py:10: FutureWarning: The default value of regex will change from True to False in a future version.\n",
      "  all_articles_df['processed_text'] = all_articles_df['processed_text'].str.replace(pattern, '')\n"
     ]
    }
   ],
   "source": [
    "# lowercase words\n",
    "all_articles_df['processed_text'] = all_articles_df['Text'].str.lower()\n",
    "\n",
    "# remove punctuation\n",
    "all_articles_df['processed_text'] = [re.sub(f\"[{string.punctuation}]\", \"\", i) for i in all_articles_df['processed_text']]\n",
    "\n",
    "# remove numbers\n",
    "pattern = r'[0-9]+'\n",
    "        \n",
    "all_articles_df['processed_text'] = all_articles_df['processed_text'].str.replace(pattern, '')\n",
    "\n",
    "# remove punctuation\n",
    "all_articles_df['processed_text'] = [re.sub(f\"[{string.punctuation}]\", \"\", i) for i in all_articles_df['processed_text']]\n",
    "\n",
    "# remove extra whitespaces\n",
    "all_articles_df['processed_text'] = [re.sub(r'\\s+', \" \", i) for i in all_articles_df['processed_text']]"
   ]
  },
  {
   "cell_type": "code",
   "execution_count": 47,
   "id": "edb37647",
   "metadata": {},
   "outputs": [],
   "source": [
    "# remove stopwords\n",
    "stop_words = stopwords.words('english')\n",
    "\n",
    "def remove_stopwords(text):\n",
    "    tokens = text.split()\n",
    "    filtered_tokens = [token for token in tokens if token.lower() not in stop_words]\n",
    "    filtered_text = ' '.join(filtered_tokens)\n",
    "    return filtered_text\n",
    "\n",
    "# apply the function to the 'text' column of the dataframe\n",
    "all_articles_df['processed_text'] = all_articles_df['processed_text'].apply(remove_stopwords) # for stemming"
   ]
  },
  {
   "cell_type": "code",
   "execution_count": 52,
   "id": "f65733aa",
   "metadata": {},
   "outputs": [],
   "source": [
    "# lemmatize words\n",
    "def lemmatize_words(text):\n",
    "    tag_map = defaultdict(lambda : wordnet.NOUN)  #If nothing else is specified, use noun tag\n",
    "    tag_map['J'] = wordnet.ADJ\n",
    "    tag_map['V'] = wordnet.VERB\n",
    "    tag_map['R'] = wordnet.ADV  \n",
    "    \n",
    "    lemmatizer = WordNetLemmatizer()\n",
    "    \n",
    "    tokens = text.split()\n",
    "    lemmatized = [lemmatizer.lemmatize(token) for token in tokens]\n",
    "    lemmatized = []\n",
    "\n",
    "\n",
    "    for word, tag in pos_tag(tokens):\n",
    "        lemma = lemmatizer.lemmatize(word, tag_map[tag[0]])  #Where the magic happens \n",
    "        \n",
    "        #we choose tag[0] to get all instances of a word class, \n",
    "        #e.g. NN (noun) and NP (proper noun) should both translate to noun. \n",
    "        \n",
    "        lemmatized.append(lemma) \n",
    "        \n",
    "    filtered_text = ' '.join(lemmatized)\n",
    "    return filtered_text\n",
    " \n",
    "all_articles_df['processed_text'] = all_articles_df['processed_text'].apply(lemmatize_words)"
   ]
  },
  {
   "cell_type": "code",
   "execution_count": 54,
   "id": "3b53368f",
   "metadata": {
    "scrolled": false
   },
   "outputs": [
    {
     "data": {
      "text/html": [
       "<div>\n",
       "<style scoped>\n",
       "    .dataframe tbody tr th:only-of-type {\n",
       "        vertical-align: middle;\n",
       "    }\n",
       "\n",
       "    .dataframe tbody tr th {\n",
       "        vertical-align: top;\n",
       "    }\n",
       "\n",
       "    .dataframe thead th {\n",
       "        text-align: right;\n",
       "    }\n",
       "</style>\n",
       "<table border=\"1\" class=\"dataframe\">\n",
       "  <thead>\n",
       "    <tr style=\"text-align: right;\">\n",
       "      <th></th>\n",
       "      <th>Page</th>\n",
       "      <th>Article</th>\n",
       "      <th>sectionId</th>\n",
       "      <th>sectionName</th>\n",
       "      <th>webPublicationDate</th>\n",
       "      <th>webTitle</th>\n",
       "      <th>pillarName</th>\n",
       "      <th>Text</th>\n",
       "      <th>processed_text</th>\n",
       "    </tr>\n",
       "  </thead>\n",
       "  <tbody>\n",
       "    <tr>\n",
       "      <th>77827</th>\n",
       "      <td>0</td>\n",
       "      <td>sport/2021/aug/02/belarus-athlete-refused-fly-...</td>\n",
       "      <td>sport</td>\n",
       "      <td>Sport</td>\n",
       "      <td>2021-08-02T13:21:31Z</td>\n",
       "      <td>Belarus athlete who refused to fly home is gra...</td>\n",
       "      <td>Sport</td>\n",
       "      <td>The Belarus Olympic athlete Krystsina Tsimanou...</td>\n",
       "      <td>belarus olympic athlete krystsina tsimanouskay...</td>\n",
       "    </tr>\n",
       "    <tr>\n",
       "      <th>79012</th>\n",
       "      <td>0</td>\n",
       "      <td>sport/2021/aug/02/olympics-shooting-serhiy-kul...</td>\n",
       "      <td>sport</td>\n",
       "      <td>Sport</td>\n",
       "      <td>2021-08-02T14:00:11Z</td>\n",
       "      <td>‘I shot someone else’s target’: Ukraine’s Serh...</td>\n",
       "      <td>Sport</td>\n",
       "      <td>Ukrainian shooter Serhiy Kulish missed out on ...</td>\n",
       "      <td>ukrainian shooter serhiy kulish miss medal com...</td>\n",
       "    </tr>\n",
       "    <tr>\n",
       "      <th>76251</th>\n",
       "      <td>0</td>\n",
       "      <td>world/2021/aug/03/belarus-exile-group-leader-v...</td>\n",
       "      <td>world</td>\n",
       "      <td>World news</td>\n",
       "      <td>2021-08-03T12:36:15Z</td>\n",
       "      <td>Belarus exile group leader Vitaly Shishov foun...</td>\n",
       "      <td>News</td>\n",
       "      <td>The head of a Kyiv-based non-profit organisati...</td>\n",
       "      <td>head kyivbased nonprofit organisation help bel...</td>\n",
       "    </tr>\n",
       "    <tr>\n",
       "      <th>99801</th>\n",
       "      <td>0</td>\n",
       "      <td>world/2021/aug/03/uk-on-your-side-boris-johnso...</td>\n",
       "      <td>world</td>\n",
       "      <td>World news</td>\n",
       "      <td>2021-08-03T14:27:42Z</td>\n",
       "      <td>UK is on your side, Boris Johnson tells Belaru...</td>\n",
       "      <td>News</td>\n",
       "      <td>The UK is on the side of Belarusian opposition...</td>\n",
       "      <td>uk side belarusian opposition leader try bring...</td>\n",
       "    </tr>\n",
       "    <tr>\n",
       "      <th>91984</th>\n",
       "      <td>0</td>\n",
       "      <td>world/2021/aug/03/anger-in-turkey-grows-over-g...</td>\n",
       "      <td>world</td>\n",
       "      <td>World news</td>\n",
       "      <td>2021-08-03T22:19:18Z</td>\n",
       "      <td>Anger in Turkey grows over government’s handli...</td>\n",
       "      <td>News</td>\n",
       "      <td>People across Turkey are looking for answers a...</td>\n",
       "      <td>people across turkey look answer summer wildfi...</td>\n",
       "    </tr>\n",
       "  </tbody>\n",
       "</table>\n",
       "</div>"
      ],
      "text/plain": [
       "      Page                                            Article sectionId  \\\n",
       "77827    0  sport/2021/aug/02/belarus-athlete-refused-fly-...     sport   \n",
       "79012    0  sport/2021/aug/02/olympics-shooting-serhiy-kul...     sport   \n",
       "76251    0  world/2021/aug/03/belarus-exile-group-leader-v...     world   \n",
       "99801    0  world/2021/aug/03/uk-on-your-side-boris-johnso...     world   \n",
       "91984    0  world/2021/aug/03/anger-in-turkey-grows-over-g...     world   \n",
       "\n",
       "      sectionName    webPublicationDate  \\\n",
       "77827       Sport  2021-08-02T13:21:31Z   \n",
       "79012       Sport  2021-08-02T14:00:11Z   \n",
       "76251  World news  2021-08-03T12:36:15Z   \n",
       "99801  World news  2021-08-03T14:27:42Z   \n",
       "91984  World news  2021-08-03T22:19:18Z   \n",
       "\n",
       "                                                webTitle pillarName  \\\n",
       "77827  Belarus athlete who refused to fly home is gra...      Sport   \n",
       "79012  ‘I shot someone else’s target’: Ukraine’s Serh...      Sport   \n",
       "76251  Belarus exile group leader Vitaly Shishov foun...       News   \n",
       "99801  UK is on your side, Boris Johnson tells Belaru...       News   \n",
       "91984  Anger in Turkey grows over government’s handli...       News   \n",
       "\n",
       "                                                    Text  \\\n",
       "77827  The Belarus Olympic athlete Krystsina Tsimanou...   \n",
       "79012  Ukrainian shooter Serhiy Kulish missed out on ...   \n",
       "76251  The head of a Kyiv-based non-profit organisati...   \n",
       "99801  The UK is on the side of Belarusian opposition...   \n",
       "91984  People across Turkey are looking for answers a...   \n",
       "\n",
       "                                          processed_text  \n",
       "77827  belarus olympic athlete krystsina tsimanouskay...  \n",
       "79012  ukrainian shooter serhiy kulish miss medal com...  \n",
       "76251  head kyivbased nonprofit organisation help bel...  \n",
       "99801  uk side belarusian opposition leader try bring...  \n",
       "91984  people across turkey look answer summer wildfi...  "
      ]
     },
     "execution_count": 54,
     "metadata": {},
     "output_type": "execute_result"
    }
   ],
   "source": [
    "all_articles_df.head()"
   ]
  },
  {
   "cell_type": "code",
   "execution_count": 55,
   "id": "b25a9a3e",
   "metadata": {},
   "outputs": [],
   "source": [
    "# saving procssed text df to excel\n",
    "all_articles_df.to_excel('guardian_responses_text_processed.xlsx')"
   ]
  },
  {
   "cell_type": "markdown",
   "id": "cda3ae6c",
   "metadata": {},
   "source": [
    "## Analysis\n",
    "\n",
    "1. Bar chart showing the amount of articles per year (or other bin) and colored by our time period with a key. Volume of relevant news over time.\n",
    "2. Dynamic topic modeling\n",
    "3. Word embedding over time (neighborhood of Israel, Palestine, and Hamas over time for different time periods) https://arxiv.org/pdf/1807.04441.pdf \n",
    "- stem the words and embed them depending on year category"
   ]
  }
 ],
 "metadata": {
  "kernelspec": {
   "display_name": "Python 3 (ipykernel)",
   "language": "python",
   "name": "python3"
  },
  "language_info": {
   "codemirror_mode": {
    "name": "ipython",
    "version": 3
   },
   "file_extension": ".py",
   "mimetype": "text/x-python",
   "name": "python",
   "nbconvert_exporter": "python",
   "pygments_lexer": "ipython3",
   "version": "3.9.7"
  }
 },
 "nbformat": 4,
 "nbformat_minor": 5
}
